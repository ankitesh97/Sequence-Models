{
 "cells": [
  {
   "cell_type": "markdown",
   "metadata": {},
   "source": [
    "# Improvise a Jazz Solo with an LSTM Network\n",
    "\n",
    "Welcome to your final programming assignment of this week! In this notebook, you will implement a model that uses an LSTM to generate music. You will even be able to listen to your own music at the end of the assignment. \n",
    "\n",
    "**You will learn to:**\n",
    "- Apply an LSTM to music generation.\n",
    "- Generate your own jazz music with deep learning.\n",
    "\n",
    "Please run the following cell to load all the packages required in this assignment. This may take a few minutes. "
   ]
  },
  {
   "cell_type": "code",
   "execution_count": 2,
   "metadata": {
    "collapsed": true
   },
   "outputs": [],
   "source": [
    "from __future__ import print_function\n",
    "import IPython\n",
    "import sys\n",
    "from music21 import *\n",
    "import numpy as np\n",
    "from grammar import *\n",
    "from qa import *\n",
    "from preprocess import * \n",
    "from music_utils import *\n",
    "from data_utils import *\n",
    "from keras.models import load_model, Model\n",
    "from keras.layers import Dense, Activation, Dropout, Input, LSTM, Reshape, Lambda, RepeatVector\n",
    "from keras.initializers import glorot_uniform\n",
    "from keras.utils import to_categorical\n",
    "from keras.optimizers import Adam\n",
    "from keras import backend as K"
   ]
  },
  {
   "cell_type": "markdown",
   "metadata": {},
   "source": [
    "## 1 - Problem statement\n",
    "\n",
    "You would like to create a jazz music piece specially for a friend's birthday. However, you don't know any instruments or music composition. Fortunately, you know deep learning and will solve this problem using an LSTM netwok.  \n",
    "\n",
    "You will train a network to generate novel jazz solos in a style representative of a body of performed work.\n",
    "\n",
    "<img src=\"images/jazz.jpg\" style=\"width:450;height:300px;\">\n",
    "\n",
    "\n",
    "### 1.1 - Dataset\n",
    "\n",
    "You will train your algorithm on a corpus of Jazz music. Run the cell below to listen to a snippet of the audio from the training set:"
   ]
  },
  {
   "cell_type": "code",
   "execution_count": null,
   "metadata": {
    "collapsed": true
   },
   "outputs": [],
   "source": [
    "IPython.display.Audio('./data/30s_seq.mp3')"
   ]
  },
  {
   "cell_type": "markdown",
   "metadata": {},
   "source": [
    "We have taken care of the preprocessing of the musical data to render it in terms of musical \"values.\" You can informally think of each \"value\" as a note, which comprises a pitch and a duration. For example, if you press down a specific piano key for 0.5 seconds, then you have just played a note. In music theory, a \"value\" is actually more complicated than this--specifically, it also captures the information needed to play multiple notes at the same time. For example, when playing a music piece, you might press down two piano keys at the same time (playng multiple notes at the same time generates what's called a \"chord\"). But we don't need to worry about the details of music theory for this assignment. For the purpose of this assignment, all you need to know is that we will obtain a dataset of values, and will learn an RNN model to generate sequences of values. \n",
    "\n",
    "Our music generation system will use 78 unique values. Run the following code to load the raw music data and preprocess it into values. This might take a few minutes."
   ]
  },
  {
   "cell_type": "code",
   "execution_count": 3,
   "metadata": {},
   "outputs": [
    {
     "name": "stdout",
     "output_type": "stream",
     "text": [
      "shape of X: (60, 30, 78)\n",
      "number of training examples: 60\n",
      "Tx (length of sequence): 30\n",
      "total # of unique values: 78\n",
      "Shape of Y: (30, 60, 78)\n"
     ]
    }
   ],
   "source": [
    "X, Y, n_values, indices_values = load_music_utils()\n",
    "print('shape of X:', X.shape)\n",
    "print('number of training examples:', X.shape[0])\n",
    "print('Tx (length of sequence):', X.shape[1])\n",
    "print('total # of unique values:', n_values)\n",
    "print('Shape of Y:', Y.shape)"
   ]
  },
  {
   "cell_type": "markdown",
   "metadata": {},
   "source": [
    "You have just loaded the following:\n",
    "\n",
    "- `X`: This is an (m, $T_x$, 78) dimensional array. We have m training examples, each of which is a snippet of $T_x =30$ musical values. At each time step, the input is one of 78 different possible values, represented as a one-hot vector. Thus for example, X[i,t,:] is a one-hot vector representating the value of the i-th example at time t. \n",
    "\n",
    "- `Y`: This is essentially the same as `X`, but shifted one step to the left (to the past). Similar to the dinosaurus assignment, we're interested in the network using the previous values to predict the next value, so our sequence model will try to predict $y^{\\langle t \\rangle}$ given $x^{\\langle 1\\rangle}, \\ldots, x^{\\langle t \\rangle}$. However, the data in `Y` is reordered to be dimension $(T_y, m, 78)$, where $T_y = T_x$. This format makes it more convenient to feed to the LSTM later. \n",
    "\n",
    "- `n_values`: The number of unique values in this dataset. This should be 78. \n",
    "\n",
    "- `indices_values`: python dictionary mapping from 0-77 to musical values."
   ]
  },
  {
   "cell_type": "markdown",
   "metadata": {},
   "source": [
    "### 1.2 - Overview of our model\n",
    "\n",
    "Here is the architecture of the model we will use. This is similar to the Dinosaurus model you had used in the previous notebook, except that in you will be implementing it in Keras. The architecture is as follows: \n",
    "\n",
    "<img src=\"images/music_generation.png\" style=\"width:600;height:400px;\">\n",
    "\n",
    "<!--\n",
    "<img src=\"images/djmodel.png\" style=\"width:600;height:400px;\">\n",
    "<br>\n",
    "<caption><center> **Figure 1**: LSTM model. $X = (x^{\\langle 1 \\rangle}, x^{\\langle 2 \\rangle}, ..., x^{\\langle T_x \\rangle})$ is a window of size $T_x$ scanned over the musical corpus. Each $x^{\\langle t \\rangle}$ is an index corresponding to a value (ex: \"A,0.250,< m2,P-4 >\") while $\\hat{y}$ is the prediction for the next value  </center></caption>\n",
    "!--> \n",
    "\n",
    "We will be training the model on random snippets of 30 values taken from a much longer piece of music. Thus, we won't bother to set the first input $x^{\\langle 1 \\rangle} = \\vec{0}$, which we had done previously to denote the start of a dinosaur name, since now most of these snippets of audio start somewhere in the middle of a piece of music. We are setting each of the snippts to have the same length $T_x = 30$ to make vectorization easier. \n"
   ]
  },
  {
   "cell_type": "markdown",
   "metadata": {},
   "source": [
    "## 2 - Building the model\n",
    "\n",
    "In this part you will build and train a model that will learn musical patterns. To do so, you will need to build a model that takes in X of shape $(m, T_x, 78)$ and Y of shape $(T_y, m, 78)$. We will use an LSTM with 64 dimensional hidden states. Lets set `n_a = 64`. \n"
   ]
  },
  {
   "cell_type": "code",
   "execution_count": 4,
   "metadata": {
    "collapsed": true
   },
   "outputs": [],
   "source": [
    "n_a = 64 "
   ]
  },
  {
   "cell_type": "markdown",
   "metadata": {},
   "source": [
    "\n",
    "Here's how you can create a Keras model with multiple inputs and outputs. If you're building an RNN where even at test time entire input sequence $x^{\\langle 1 \\rangle}, x^{\\langle 2 \\rangle}, \\ldots, x^{\\langle T_x \\rangle}$ were *given in advance*, for example if the inputs were words and the output was a label, then Keras has simple built-in functions to build the model. However, for sequence generation, at test time we don't know all the values of $x^{\\langle t\\rangle}$ in advance; instead we generate them one at a time using $x^{\\langle t\\rangle} = y^{\\langle t-1 \\rangle}$. So the code will be a bit more complicated, and you'll need to implement your own for-loop to iterate over the different time steps. \n",
    "\n",
    "The function `djmodel()` will call the LSTM layer $T_x$ times using a for-loop, and it is important that all $T_x$ copies have the same weights. I.e., it should not re-initiaiize the weights every time---the $T_x$ steps should have shared weights. The key steps for implementing layers with shareable weights in Keras are: \n",
    "1. Define the layer objects (we will use global variables for this).\n",
    "2. Call these objects when propagating the input.\n",
    "\n",
    "We have defined the layers objects you need as global variables. Please run the next cell to create them. Please check the Keras documentation to make sure you understand what these layers are: [Reshape()](https://keras.io/layers/core/#reshape), [LSTM()](https://keras.io/layers/recurrent/#lstm), [Dense()](https://keras.io/layers/core/#dense).\n"
   ]
  },
  {
   "cell_type": "code",
   "execution_count": 5,
   "metadata": {
    "collapsed": true
   },
   "outputs": [],
   "source": [
    "reshapor = Reshape((1, 78))                        # Used in Step 2.B of djmodel(), below\n",
    "LSTM_cell = LSTM(n_a, return_state = True)         # Used in Step 2.C\n",
    "densor = Dense(n_values, activation='softmax')     # Used in Step 2.D"
   ]
  },
  {
   "cell_type": "markdown",
   "metadata": {},
   "source": [
    "Each of `reshapor`, `LSTM_cell` and `densor` are now layer objects, and you can use them to implement `djmodel()`. In order to propagate a Keras tensor object X through one of these layers, use `layer_object(X)` (or `layer_object([X,Y])` if it requires multiple inputs.). For example, `reshapor(X)` will propagate X through the `Reshape((1,78))` layer defined above."
   ]
  },
  {
   "cell_type": "markdown",
   "metadata": {},
   "source": [
    " \n",
    "**Exercise**: Implement `djmodel()`. You will need to carry out 2 steps:\n",
    "\n",
    "1. Create an empty list \"outputs\" to save the outputs of the LSTM Cell at every time step.\n",
    "2. Loop for $t \\in 1, \\ldots, T_x$:\n",
    "\n",
    "    A. Select the \"t\"th time-step vector from X. The shape of this selection should be (78,). To do so, create a custom [Lambda](https://keras.io/layers/core/#lambda) layer in Keras by using this line of code:\n",
    "```    \n",
    "           x = Lambda(lambda x: X[:,t,:])(X)\n",
    "``` \n",
    "Look over the Keras documentation to figure out what this does. It is creating a \"temporary\" or \"unnamed\" function (that's what Lambda functions are) that extracts out the appropriate one-hot vector, and making this function a Keras `Layer` object to apply to `X`. \n",
    "\n",
    "    B. Reshape x to be (1,78). You may find the `reshapor()` layer (defined below) helpful.\n",
    "\n",
    "    C. Run x through one step of LSTM_cell. Remember to initialize the LSTM_cell with the previous step's hidden state $a$ and cell state $c$. Use the following formatting:\n",
    "```python\n",
    "a, _, c = LSTM_cell(input_x, initial_state=[previous hidden state, previous cell state])\n",
    "```\n",
    "\n",
    "    D. Propagate the LSTM's output activation value through a dense+softmax layer using `densor`. \n",
    "    \n",
    "    E. Append the predicted value to the list of \"outputs\"\n",
    " \n"
   ]
  },
  {
   "cell_type": "code",
   "execution_count": 8,
   "metadata": {
    "collapsed": true
   },
   "outputs": [],
   "source": [
    "# GRADED FUNCTION: djmodel\n",
    "\n",
    "def djmodel(Tx, n_a, n_values):\n",
    "    \"\"\"\n",
    "    Implement the model\n",
    "    \n",
    "    Arguments:\n",
    "    Tx -- length of the sequence in a corpus\n",
    "    n_a -- the number of activations used in our model\n",
    "    n_values -- number of unique values in the music data \n",
    "    \n",
    "    Returns:\n",
    "    model -- a keras model with the \n",
    "    \"\"\"\n",
    "    \n",
    "    # Define the input of your model with a shape \n",
    "    X = Input(shape=(Tx, n_values))\n",
    "    \n",
    "    # Define s0, initial hidden state for the decoder LSTM\n",
    "    a0 = Input(shape=(n_a,), name='a0')\n",
    "    c0 = Input(shape=(n_a,), name='c0')\n",
    "    a = a0\n",
    "    c = c0\n",
    "    \n",
    "    ### START CODE HERE ### \n",
    "    # Step 1: Create empty list to append the outputs while you iterate (≈1 line)\n",
    "    outputs = []\n",
    "    \n",
    "    # Step 2: Loop\n",
    "    for t in range(Tx):\n",
    "        \n",
    "        # Step 2.A: select the \"t\"th time step vector from X. \n",
    "        x = Lambda(lambda x: X[:,t,:])(X)\n",
    "        # Step 2.B: Use reshapor to reshape x to be (1, n_values) (≈1 line)\n",
    "        x = reshapor(x)\n",
    "        # Step 2.C: Perform one step of the LSTM_cell\n",
    "        a, _, c = LSTM_cell(x, initial_state=[a, c])\n",
    "        # Step 2.D: Apply densor to the hidden state output of LSTM_Cell\n",
    "        out = densor(a)\n",
    "        # Step 2.E: add the output to \"outputs\"\n",
    "        outputs.append(out)\n",
    "        \n",
    "    # Step 3: Create model instance\n",
    "    model = Model(inputs=[X, a0, c0], outputs=outputs)\n",
    "    \n",
    "    ### END CODE HERE ###\n",
    "    \n",
    "    return model"
   ]
  },
  {
   "cell_type": "markdown",
   "metadata": {},
   "source": [
    "Run the following cell to define your model. We will use `Tx=30`, `n_a=64` (the dimension of the LSTM activations), and `n_values=78`. This cell may take a few seconds to run. "
   ]
  },
  {
   "cell_type": "code",
   "execution_count": 9,
   "metadata": {
    "collapsed": true
   },
   "outputs": [],
   "source": [
    "model = djmodel(Tx = 30 , n_a = 64, n_values = 78)"
   ]
  },
  {
   "cell_type": "markdown",
   "metadata": {},
   "source": [
    "You now need to compile your model to be trained. We will Adam and a categorical cross-entropy loss."
   ]
  },
  {
   "cell_type": "code",
   "execution_count": 10,
   "metadata": {
    "collapsed": true
   },
   "outputs": [],
   "source": [
    "opt = Adam(lr=0.01, beta_1=0.9, beta_2=0.999, decay=0.01)\n",
    "\n",
    "model.compile(optimizer=opt, loss='categorical_crossentropy', metrics=['accuracy'])"
   ]
  },
  {
   "cell_type": "markdown",
   "metadata": {},
   "source": [
    "Finally, lets initialize `a0` and `c0` for the LSTM's initial state to be zero. "
   ]
  },
  {
   "cell_type": "code",
   "execution_count": 11,
   "metadata": {
    "collapsed": true,
    "scrolled": true
   },
   "outputs": [],
   "source": [
    "m = 60\n",
    "a0 = np.zeros((m, n_a))\n",
    "c0 = np.zeros((m, n_a))"
   ]
  },
  {
   "cell_type": "markdown",
   "metadata": {},
   "source": [
    "Lets now fit the model! We will turn `Y` to a list before doing so, since the cost function expects `Y` to be provided in this format (one list item per time-step). So `list(Y)` is a list with 30 items, where each of the list items is of shape (60,78). Lets train for 100 epochs. This will take a few minutes. \n",
    "\n"
   ]
  },
  {
   "cell_type": "code",
   "execution_count": 12,
   "metadata": {
    "scrolled": true
   },
   "outputs": [
    {
     "name": "stdout",
     "output_type": "stream",
     "text": [
      "Epoch 1/100\n",
      "60/60 [==============================] - 10s - loss: 125.7200 - dense_1_loss_1: 4.3546 - dense_1_loss_2: 4.3449 - dense_1_loss_3: 4.3392 - dense_1_loss_4: 4.3476 - dense_1_loss_5: 4.3385 - dense_1_loss_6: 4.3456 - dense_1_loss_7: 4.3373 - dense_1_loss_8: 4.3315 - dense_1_loss_9: 4.3321 - dense_1_loss_10: 4.3330 - dense_1_loss_11: 4.3334 - dense_1_loss_12: 4.3372 - dense_1_loss_13: 4.3324 - dense_1_loss_14: 4.3275 - dense_1_loss_15: 4.3353 - dense_1_loss_16: 4.3287 - dense_1_loss_17: 4.3303 - dense_1_loss_18: 4.3344 - dense_1_loss_19: 4.3295 - dense_1_loss_20: 4.3409 - dense_1_loss_21: 4.3329 - dense_1_loss_22: 4.3261 - dense_1_loss_23: 4.3317 - dense_1_loss_24: 4.3302 - dense_1_loss_25: 4.3385 - dense_1_loss_26: 4.3208 - dense_1_loss_27: 4.3343 - dense_1_loss_28: 4.3326 - dense_1_loss_29: 4.3392 - dense_1_loss_30: 0.0000e+00 - dense_1_acc_1: 0.0000e+00 - dense_1_acc_2: 0.0500 - dense_1_acc_3: 0.0833 - dense_1_acc_4: 0.0000e+00 - dense_1_acc_5: 0.0833 - dense_1_acc_6: 0.0833 - dense_1_acc_7: 0.0333 - dense_1_acc_8: 0.0667 - dense_1_acc_9: 0.0333 - dense_1_acc_10: 0.1167 - dense_1_acc_11: 0.0667 - dense_1_acc_12: 0.0833 - dense_1_acc_13: 0.0500 - dense_1_acc_14: 0.1500 - dense_1_acc_15: 0.0667 - dense_1_acc_16: 0.0667 - dense_1_acc_17: 0.1000 - dense_1_acc_18: 0.0833 - dense_1_acc_19: 0.1167 - dense_1_acc_20: 0.0667 - dense_1_acc_21: 0.0833 - dense_1_acc_22: 0.0833 - dense_1_acc_23: 0.0500 - dense_1_acc_24: 0.0833 - dense_1_acc_25: 0.0667 - dense_1_acc_26: 0.1667 - dense_1_acc_27: 0.1000 - dense_1_acc_28: 0.0833 - dense_1_acc_29: 0.1167 - dense_1_acc_30: 0.0000e+00                                                            \n",
      "Epoch 2/100\n",
      "60/60 [==============================] - 1s - loss: 121.6409 - dense_1_loss_1: 4.3322 - dense_1_loss_2: 4.2996 - dense_1_loss_3: 4.2690 - dense_1_loss_4: 4.2801 - dense_1_loss_5: 4.2374 - dense_1_loss_6: 4.2659 - dense_1_loss_7: 4.2313 - dense_1_loss_8: 4.1968 - dense_1_loss_9: 4.2167 - dense_1_loss_10: 4.1936 - dense_1_loss_11: 4.1763 - dense_1_loss_12: 4.2188 - dense_1_loss_13: 4.1916 - dense_1_loss_14: 4.1741 - dense_1_loss_15: 4.1570 - dense_1_loss_16: 4.1693 - dense_1_loss_17: 4.1643 - dense_1_loss_18: 4.2095 - dense_1_loss_19: 4.1132 - dense_1_loss_20: 4.1874 - dense_1_loss_21: 4.1612 - dense_1_loss_22: 4.1141 - dense_1_loss_23: 4.1586 - dense_1_loss_24: 4.1622 - dense_1_loss_25: 4.2063 - dense_1_loss_26: 4.0888 - dense_1_loss_27: 4.1158 - dense_1_loss_28: 4.1688 - dense_1_loss_29: 4.1809 - dense_1_loss_30: 0.0000e+00 - dense_1_acc_1: 0.0667 - dense_1_acc_2: 0.1000 - dense_1_acc_3: 0.2333 - dense_1_acc_4: 0.1500 - dense_1_acc_5: 0.2667 - dense_1_acc_6: 0.1500 - dense_1_acc_7: 0.0833 - dense_1_acc_8: 0.1833 - dense_1_acc_9: 0.1500 - dense_1_acc_10: 0.1500 - dense_1_acc_11: 0.1500 - dense_1_acc_12: 0.1333 - dense_1_acc_13: 0.2000 - dense_1_acc_14: 0.2000 - dense_1_acc_15: 0.1500 - dense_1_acc_16: 0.1500 - dense_1_acc_17: 0.1667 - dense_1_acc_18: 0.1167 - dense_1_acc_19: 0.1333 - dense_1_acc_20: 0.0667 - dense_1_acc_21: 0.1333 - dense_1_acc_22: 0.1167 - dense_1_acc_23: 0.1000 - dense_1_acc_24: 0.0500 - dense_1_acc_25: 0.0500 - dense_1_acc_26: 0.2000 - dense_1_acc_27: 0.1333 - dense_1_acc_28: 0.1333 - dense_1_acc_29: 0.0833 - dense_1_acc_30: 0.0000e+00         \n",
      "Epoch 3/100\n",
      "60/60 [==============================] - 1s - loss: 115.6612 - dense_1_loss_1: 4.3099 - dense_1_loss_2: 4.2504 - dense_1_loss_3: 4.1810 - dense_1_loss_4: 4.1805 - dense_1_loss_5: 4.0965 - dense_1_loss_6: 4.1482 - dense_1_loss_7: 4.0594 - dense_1_loss_8: 3.9509 - dense_1_loss_9: 3.9784 - dense_1_loss_10: 3.8799 - dense_1_loss_11: 3.8197 - dense_1_loss_12: 4.0304 - dense_1_loss_13: 3.9127 - dense_1_loss_14: 3.8641 - dense_1_loss_15: 3.8530 - dense_1_loss_16: 3.8797 - dense_1_loss_17: 3.9151 - dense_1_loss_18: 4.0531 - dense_1_loss_19: 3.7149 - dense_1_loss_20: 4.0464 - dense_1_loss_21: 4.0216 - dense_1_loss_22: 3.8617 - dense_1_loss_23: 3.9007 - dense_1_loss_24: 3.8937 - dense_1_loss_25: 4.1302 - dense_1_loss_26: 3.6596 - dense_1_loss_27: 3.8622 - dense_1_loss_28: 4.0065 - dense_1_loss_29: 4.2007 - dense_1_loss_30: 0.0000e+00 - dense_1_acc_1: 0.0500 - dense_1_acc_2: 0.0667 - dense_1_acc_3: 0.2000 - dense_1_acc_4: 0.1833 - dense_1_acc_5: 0.2833 - dense_1_acc_6: 0.1167 - dense_1_acc_7: 0.1167 - dense_1_acc_8: 0.1667 - dense_1_acc_9: 0.1000 - dense_1_acc_10: 0.1167 - dense_1_acc_11: 0.1500 - dense_1_acc_12: 0.1333 - dense_1_acc_13: 0.1667 - dense_1_acc_14: 0.2000 - dense_1_acc_15: 0.1167 - dense_1_acc_16: 0.0833 - dense_1_acc_17: 0.1667 - dense_1_acc_18: 0.1167 - dense_1_acc_19: 0.1500 - dense_1_acc_20: 0.0667 - dense_1_acc_21: 0.0833 - dense_1_acc_22: 0.1833 - dense_1_acc_23: 0.1000 - dense_1_acc_24: 0.0500 - dense_1_acc_25: 0.0833 - dense_1_acc_26: 0.2000 - dense_1_acc_27: 0.1167 - dense_1_acc_28: 0.1500 - dense_1_acc_29: 0.0833 - dense_1_acc_30: 0.0000e+00         \n",
      "Epoch 4/100\n",
      "60/60 [==============================] - 1s - loss: 111.3368 - dense_1_loss_1: 4.2887 - dense_1_loss_2: 4.2035 - dense_1_loss_3: 4.0941 - dense_1_loss_4: 4.0891 - dense_1_loss_5: 3.9779 - dense_1_loss_6: 4.0192 - dense_1_loss_7: 3.9266 - dense_1_loss_8: 3.7541 - dense_1_loss_9: 3.8266 - dense_1_loss_10: 3.6759 - dense_1_loss_11: 3.7247 - dense_1_loss_12: 3.9860 - dense_1_loss_13: 3.7523 - dense_1_loss_14: 3.6623 - dense_1_loss_15: 3.7057 - dense_1_loss_16: 3.7442 - dense_1_loss_17: 3.8002 - dense_1_loss_18: 3.8514 - dense_1_loss_19: 3.6200 - dense_1_loss_20: 3.8677 - dense_1_loss_21: 3.8868 - dense_1_loss_22: 3.7344 - dense_1_loss_23: 3.6665 - dense_1_loss_24: 3.6237 - dense_1_loss_25: 3.9318 - dense_1_loss_26: 3.5099 - dense_1_loss_27: 3.6550 - dense_1_loss_28: 3.7868 - dense_1_loss_29: 3.9718 - dense_1_loss_30: 0.0000e+00 - dense_1_acc_1: 0.1000 - dense_1_acc_2: 0.1333 - dense_1_acc_3: 0.2167 - dense_1_acc_4: 0.1667 - dense_1_acc_5: 0.2000 - dense_1_acc_6: 0.1000 - dense_1_acc_7: 0.1167 - dense_1_acc_8: 0.2000 - dense_1_acc_9: 0.1833 - dense_1_acc_10: 0.1333 - dense_1_acc_11: 0.1333 - dense_1_acc_12: 0.0833 - dense_1_acc_13: 0.1167 - dense_1_acc_14: 0.1167 - dense_1_acc_15: 0.1500 - dense_1_acc_16: 0.1167 - dense_1_acc_17: 0.1167 - dense_1_acc_18: 0.1167 - dense_1_acc_19: 0.1667 - dense_1_acc_20: 0.0500 - dense_1_acc_21: 0.0833 - dense_1_acc_22: 0.1000 - dense_1_acc_23: 0.1500 - dense_1_acc_24: 0.0833 - dense_1_acc_25: 0.0833 - dense_1_acc_26: 0.1500 - dense_1_acc_27: 0.1333 - dense_1_acc_28: 0.1333 - dense_1_acc_29: 0.0333 - dense_1_acc_30: 0.0000e+00     \n",
      "Epoch 5/100\n",
      "60/60 [==============================] - 1s - loss: 108.0376 - dense_1_loss_1: 4.2703 - dense_1_loss_2: 4.1566 - dense_1_loss_3: 4.0244 - dense_1_loss_4: 4.0079 - dense_1_loss_5: 3.8871 - dense_1_loss_6: 3.9114 - dense_1_loss_7: 3.8487 - dense_1_loss_8: 3.6370 - dense_1_loss_9: 3.7145 - dense_1_loss_10: 3.5196 - dense_1_loss_11: 3.6316 - dense_1_loss_12: 3.8991 - dense_1_loss_13: 3.6010 - dense_1_loss_14: 3.4718 - dense_1_loss_15: 3.6145 - dense_1_loss_16: 3.6175 - dense_1_loss_17: 3.6218 - dense_1_loss_18: 3.6884 - dense_1_loss_19: 3.5514 - dense_1_loss_20: 3.7444 - dense_1_loss_21: 3.7333 - dense_1_loss_22: 3.5672 - dense_1_loss_23: 3.5464 - dense_1_loss_24: 3.5130 - dense_1_loss_25: 3.8325 - dense_1_loss_26: 3.4130 - dense_1_loss_27: 3.5031 - dense_1_loss_28: 3.6800 - dense_1_loss_29: 3.8302 - dense_1_loss_30: 0.0000e+00 - dense_1_acc_1: 0.1000 - dense_1_acc_2: 0.1500 - dense_1_acc_3: 0.2000 - dense_1_acc_4: 0.1500 - dense_1_acc_5: 0.2167 - dense_1_acc_6: 0.1167 - dense_1_acc_7: 0.1333 - dense_1_acc_8: 0.2333 - dense_1_acc_9: 0.2000 - dense_1_acc_10: 0.1333 - dense_1_acc_11: 0.1500 - dense_1_acc_12: 0.0500 - dense_1_acc_13: 0.1500 - dense_1_acc_14: 0.2000 - dense_1_acc_15: 0.1833 - dense_1_acc_16: 0.1667 - dense_1_acc_17: 0.1333 - dense_1_acc_18: 0.1000 - dense_1_acc_19: 0.1333 - dense_1_acc_20: 0.0500 - dense_1_acc_21: 0.1167 - dense_1_acc_22: 0.1333 - dense_1_acc_23: 0.1167 - dense_1_acc_24: 0.1000 - dense_1_acc_25: 0.0667 - dense_1_acc_26: 0.1833 - dense_1_acc_27: 0.1500 - dense_1_acc_28: 0.1000 - dense_1_acc_29: 0.0167 - dense_1_acc_30: 0.0000e+00         \n",
      "Epoch 6/100\n",
      "60/60 [==============================] - 1s - loss: 105.3506 - dense_1_loss_1: 4.2530 - dense_1_loss_2: 4.1183 - dense_1_loss_3: 3.9486 - dense_1_loss_4: 3.9280 - dense_1_loss_5: 3.8057 - dense_1_loss_6: 3.8077 - dense_1_loss_7: 3.7560 - dense_1_loss_8: 3.5125 - dense_1_loss_9: 3.5566 - dense_1_loss_10: 3.3634 - dense_1_loss_11: 3.5225 - dense_1_loss_12: 3.7973 - dense_1_loss_13: 3.4989 - dense_1_loss_14: 3.4075 - dense_1_loss_15: 3.4843 - dense_1_loss_16: 3.5210 - dense_1_loss_17: 3.4967 - dense_1_loss_18: 3.5470 - dense_1_loss_19: 3.4966 - dense_1_loss_20: 3.6431 - dense_1_loss_21: 3.7462 - dense_1_loss_22: 3.4195 - dense_1_loss_23: 3.4275 - dense_1_loss_24: 3.5197 - dense_1_loss_25: 3.7924 - dense_1_loss_26: 3.2695 - dense_1_loss_27: 3.4544 - dense_1_loss_28: 3.5443 - dense_1_loss_29: 3.7125 - dense_1_loss_30: 0.0000e+00 - dense_1_acc_1: 0.1000 - dense_1_acc_2: 0.1333 - dense_1_acc_3: 0.2167 - dense_1_acc_4: 0.1500 - dense_1_acc_5: 0.2167 - dense_1_acc_6: 0.1500 - dense_1_acc_7: 0.1000 - dense_1_acc_8: 0.2167 - dense_1_acc_9: 0.1833 - dense_1_acc_10: 0.1500 - dense_1_acc_11: 0.1167 - dense_1_acc_12: 0.0667 - dense_1_acc_13: 0.1333 - dense_1_acc_14: 0.1667 - dense_1_acc_15: 0.1667 - dense_1_acc_16: 0.1167 - dense_1_acc_17: 0.1333 - dense_1_acc_18: 0.1167 - dense_1_acc_19: 0.1667 - dense_1_acc_20: 0.0667 - dense_1_acc_21: 0.1000 - dense_1_acc_22: 0.1500 - dense_1_acc_23: 0.1167 - dense_1_acc_24: 0.1167 - dense_1_acc_25: 0.0667 - dense_1_acc_26: 0.1833 - dense_1_acc_27: 0.1000 - dense_1_acc_28: 0.1833 - dense_1_acc_29: 0.0500 - dense_1_acc_30: 0.0000e+00     \n",
      "Epoch 7/100\n",
      "60/60 [==============================] - 1s - loss: 101.4314 - dense_1_loss_1: 4.2377 - dense_1_loss_2: 4.0841 - dense_1_loss_3: 3.8844 - dense_1_loss_4: 3.8548 - dense_1_loss_5: 3.7034 - dense_1_loss_6: 3.7323 - dense_1_loss_7: 3.6898 - dense_1_loss_8: 3.3729 - dense_1_loss_9: 3.4725 - dense_1_loss_10: 3.2769 - dense_1_loss_11: 3.3839 - dense_1_loss_12: 3.6543 - dense_1_loss_13: 3.3098 - dense_1_loss_14: 3.2085 - dense_1_loss_15: 3.3239 - dense_1_loss_16: 3.3795 - dense_1_loss_17: 3.3625 - dense_1_loss_18: 3.4133 - dense_1_loss_19: 3.3734 - dense_1_loss_20: 3.4592 - dense_1_loss_21: 3.5415 - dense_1_loss_22: 3.2201 - dense_1_loss_23: 3.3796 - dense_1_loss_24: 3.3548 - dense_1_loss_25: 3.5387 - dense_1_loss_26: 3.1110 - dense_1_loss_27: 3.2627 - dense_1_loss_28: 3.3392 - dense_1_loss_29: 3.5066 - dense_1_loss_30: 0.0000e+00 - dense_1_acc_1: 0.0667 - dense_1_acc_2: 0.0833 - dense_1_acc_3: 0.2000 - dense_1_acc_4: 0.1500 - dense_1_acc_5: 0.2333 - dense_1_acc_6: 0.1500 - dense_1_acc_7: 0.1000 - dense_1_acc_8: 0.2167 - dense_1_acc_9: 0.1833 - dense_1_acc_10: 0.2167 - dense_1_acc_11: 0.1833 - dense_1_acc_12: 0.1333 - dense_1_acc_13: 0.1833 - dense_1_acc_14: 0.2667 - dense_1_acc_15: 0.2167 - dense_1_acc_16: 0.1500 - dense_1_acc_17: 0.1333 - dense_1_acc_18: 0.1000 - dense_1_acc_19: 0.1833 - dense_1_acc_20: 0.0833 - dense_1_acc_21: 0.1167 - dense_1_acc_22: 0.2333 - dense_1_acc_23: 0.0667 - dense_1_acc_24: 0.1167 - dense_1_acc_25: 0.0833 - dense_1_acc_26: 0.2500 - dense_1_acc_27: 0.1333 - dense_1_acc_28: 0.0833 - dense_1_acc_29: 0.1000 - dense_1_acc_30: 0.0000e+00     \n",
      "Epoch 8/100\n",
      "60/60 [==============================] - 1s - loss: 97.6199 - dense_1_loss_1: 4.2241 - dense_1_loss_2: 4.0479 - dense_1_loss_3: 3.8163 - dense_1_loss_4: 3.7677 - dense_1_loss_5: 3.6097 - dense_1_loss_6: 3.6323 - dense_1_loss_7: 3.5835 - dense_1_loss_8: 3.2291 - dense_1_loss_9: 3.3228 - dense_1_loss_10: 3.1036 - dense_1_loss_11: 3.2256 - dense_1_loss_12: 3.4935 - dense_1_loss_13: 3.1756 - dense_1_loss_14: 3.1341 - dense_1_loss_15: 3.2003 - dense_1_loss_16: 3.2503 - dense_1_loss_17: 3.1774 - dense_1_loss_18: 3.2445 - dense_1_loss_19: 3.1660 - dense_1_loss_20: 3.2765 - dense_1_loss_21: 3.3283 - dense_1_loss_22: 3.0607 - dense_1_loss_23: 3.1980 - dense_1_loss_24: 3.2079 - dense_1_loss_25: 3.4406 - dense_1_loss_26: 2.9425 - dense_1_loss_27: 3.1046 - dense_1_loss_28: 3.2769 - dense_1_loss_29: 3.3795 - dense_1_loss_30: 0.0000e+00 - dense_1_acc_1: 0.0667 - dense_1_acc_2: 0.0833 - dense_1_acc_3: 0.1833 - dense_1_acc_4: 0.1500 - dense_1_acc_5: 0.2333 - dense_1_acc_6: 0.1333 - dense_1_acc_7: 0.1167 - dense_1_acc_8: 0.2500 - dense_1_acc_9: 0.2000 - dense_1_acc_10: 0.1500 - dense_1_acc_11: 0.1500 - dense_1_acc_12: 0.1333 - dense_1_acc_13: 0.2167 - dense_1_acc_14: 0.2500 - dense_1_acc_15: 0.2333 - dense_1_acc_16: 0.2000 - dense_1_acc_17: 0.2667 - dense_1_acc_18: 0.1667 - dense_1_acc_19: 0.2333 - dense_1_acc_20: 0.1833 - dense_1_acc_21: 0.2167 - dense_1_acc_22: 0.2000 - dense_1_acc_23: 0.1833 - dense_1_acc_24: 0.1500 - dense_1_acc_25: 0.1500 - dense_1_acc_26: 0.2833 - dense_1_acc_27: 0.1333 - dense_1_acc_28: 0.1667 - dense_1_acc_29: 0.2000 - dense_1_acc_30: 0.0000e+00         \n",
      "Epoch 9/100\n",
      "60/60 [==============================] - 1s - loss: 94.1767 - dense_1_loss_1: 4.2127 - dense_1_loss_2: 4.0151 - dense_1_loss_3: 3.7418 - dense_1_loss_4: 3.6863 - dense_1_loss_5: 3.4954 - dense_1_loss_6: 3.5243 - dense_1_loss_7: 3.4836 - dense_1_loss_8: 3.0855 - dense_1_loss_9: 3.2323 - dense_1_loss_10: 3.0321 - dense_1_loss_11: 3.1119 - dense_1_loss_12: 3.3587 - dense_1_loss_13: 3.0183 - dense_1_loss_14: 2.9611 - dense_1_loss_15: 3.1195 - dense_1_loss_16: 3.0824 - dense_1_loss_17: 3.0162 - dense_1_loss_18: 3.1002 - dense_1_loss_19: 3.0632 - dense_1_loss_20: 3.1123 - dense_1_loss_21: 3.1404 - dense_1_loss_22: 2.9069 - dense_1_loss_23: 3.1013 - dense_1_loss_24: 3.0660 - dense_1_loss_25: 3.3119 - dense_1_loss_26: 2.8147 - dense_1_loss_27: 3.1083 - dense_1_loss_28: 3.0007 - dense_1_loss_29: 3.2735 - dense_1_loss_30: 0.0000e+00 - dense_1_acc_1: 0.0667 - dense_1_acc_2: 0.0833 - dense_1_acc_3: 0.1833 - dense_1_acc_4: 0.1333 - dense_1_acc_5: 0.2333 - dense_1_acc_6: 0.1500 - dense_1_acc_7: 0.1333 - dense_1_acc_8: 0.2500 - dense_1_acc_9: 0.1500 - dense_1_acc_10: 0.1500 - dense_1_acc_11: 0.1833 - dense_1_acc_12: 0.1500 - dense_1_acc_13: 0.2833 - dense_1_acc_14: 0.3333 - dense_1_acc_15: 0.2167 - dense_1_acc_16: 0.1667 - dense_1_acc_17: 0.2833 - dense_1_acc_18: 0.2167 - dense_1_acc_19: 0.1833 - dense_1_acc_20: 0.2333 - dense_1_acc_21: 0.1833 - dense_1_acc_22: 0.1667 - dense_1_acc_23: 0.1500 - dense_1_acc_24: 0.1500 - dense_1_acc_25: 0.1333 - dense_1_acc_26: 0.2833 - dense_1_acc_27: 0.1000 - dense_1_acc_28: 0.2167 - dense_1_acc_29: 0.2000 - dense_1_acc_30: 0.0000e+00     \n",
      "Epoch 10/100\n",
      "60/60 [==============================] - 1s - loss: 89.8445 - dense_1_loss_1: 4.2013 - dense_1_loss_2: 3.9805 - dense_1_loss_3: 3.6709 - dense_1_loss_4: 3.6029 - dense_1_loss_5: 3.3899 - dense_1_loss_6: 3.4257 - dense_1_loss_7: 3.3577 - dense_1_loss_8: 2.9576 - dense_1_loss_9: 3.0973 - dense_1_loss_10: 2.8653 - dense_1_loss_11: 2.9677 - dense_1_loss_12: 3.1544 - dense_1_loss_13: 2.8523 - dense_1_loss_14: 2.8191 - dense_1_loss_15: 2.9281 - dense_1_loss_16: 2.9682 - dense_1_loss_17: 2.8473 - dense_1_loss_18: 2.9282 - dense_1_loss_19: 2.9163 - dense_1_loss_20: 2.9082 - dense_1_loss_21: 3.0052 - dense_1_loss_22: 2.7058 - dense_1_loss_23: 2.9493 - dense_1_loss_24: 2.8895 - dense_1_loss_25: 3.1431 - dense_1_loss_26: 2.5978 - dense_1_loss_27: 2.9160 - dense_1_loss_28: 2.8444 - dense_1_loss_29: 2.9546 - dense_1_loss_30: 0.0000e+00 - dense_1_acc_1: 0.0667 - dense_1_acc_2: 0.0833 - dense_1_acc_3: 0.2167 - dense_1_acc_4: 0.1833 - dense_1_acc_5: 0.2333 - dense_1_acc_6: 0.1500 - dense_1_acc_7: 0.1500 - dense_1_acc_8: 0.3167 - dense_1_acc_9: 0.1500 - dense_1_acc_10: 0.2333 - dense_1_acc_11: 0.2500 - dense_1_acc_12: 0.1667 - dense_1_acc_13: 0.2833 - dense_1_acc_14: 0.3333 - dense_1_acc_15: 0.2000 - dense_1_acc_16: 0.1667 - dense_1_acc_17: 0.2667 - dense_1_acc_18: 0.1500 - dense_1_acc_19: 0.1667 - dense_1_acc_20: 0.2667 - dense_1_acc_21: 0.1833 - dense_1_acc_22: 0.1667 - dense_1_acc_23: 0.1500 - dense_1_acc_24: 0.2000 - dense_1_acc_25: 0.1500 - dense_1_acc_26: 0.3500 - dense_1_acc_27: 0.1833 - dense_1_acc_28: 0.2167 - dense_1_acc_29: 0.2333 - dense_1_acc_30: 0.0000e+00     \n",
      "Epoch 11/100\n"
     ]
    },
    {
     "name": "stdout",
     "output_type": "stream",
     "text": [
      "60/60 [==============================] - 1s - loss: 85.9582 - dense_1_loss_1: 4.1904 - dense_1_loss_2: 3.9445 - dense_1_loss_3: 3.6036 - dense_1_loss_4: 3.5152 - dense_1_loss_5: 3.2837 - dense_1_loss_6: 3.2974 - dense_1_loss_7: 3.2093 - dense_1_loss_8: 2.7828 - dense_1_loss_9: 2.9453 - dense_1_loss_10: 2.7097 - dense_1_loss_11: 2.8381 - dense_1_loss_12: 2.9474 - dense_1_loss_13: 2.6478 - dense_1_loss_14: 2.7305 - dense_1_loss_15: 2.7364 - dense_1_loss_16: 2.8062 - dense_1_loss_17: 2.7196 - dense_1_loss_18: 2.7563 - dense_1_loss_19: 2.7776 - dense_1_loss_20: 2.7428 - dense_1_loss_21: 2.8202 - dense_1_loss_22: 2.5876 - dense_1_loss_23: 2.8089 - dense_1_loss_24: 2.7520 - dense_1_loss_25: 3.0634 - dense_1_loss_26: 2.4970 - dense_1_loss_27: 2.7348 - dense_1_loss_28: 2.7132 - dense_1_loss_29: 2.7966 - dense_1_loss_30: 0.0000e+00 - dense_1_acc_1: 0.0667 - dense_1_acc_2: 0.0833 - dense_1_acc_3: 0.2167 - dense_1_acc_4: 0.1833 - dense_1_acc_5: 0.2333 - dense_1_acc_6: 0.1167 - dense_1_acc_7: 0.1667 - dense_1_acc_8: 0.3333 - dense_1_acc_9: 0.1500 - dense_1_acc_10: 0.2500 - dense_1_acc_11: 0.2333 - dense_1_acc_12: 0.1333 - dense_1_acc_13: 0.3000 - dense_1_acc_14: 0.2833 - dense_1_acc_15: 0.3167 - dense_1_acc_16: 0.1833 - dense_1_acc_17: 0.1667 - dense_1_acc_18: 0.1667 - dense_1_acc_19: 0.2333 - dense_1_acc_20: 0.2833 - dense_1_acc_21: 0.2500 - dense_1_acc_22: 0.1667 - dense_1_acc_23: 0.2000 - dense_1_acc_24: 0.1667 - dense_1_acc_25: 0.0833 - dense_1_acc_26: 0.3167 - dense_1_acc_27: 0.2000 - dense_1_acc_28: 0.2667 - dense_1_acc_29: 0.1667 - dense_1_acc_30: 0.0000e+00     \n",
      "Epoch 12/100\n",
      "60/60 [==============================] - 1s - loss: 82.3485 - dense_1_loss_1: 4.1804 - dense_1_loss_2: 3.9083 - dense_1_loss_3: 3.5358 - dense_1_loss_4: 3.4148 - dense_1_loss_5: 3.1760 - dense_1_loss_6: 3.1772 - dense_1_loss_7: 3.1038 - dense_1_loss_8: 2.6463 - dense_1_loss_9: 2.8447 - dense_1_loss_10: 2.6841 - dense_1_loss_11: 2.7377 - dense_1_loss_12: 2.7990 - dense_1_loss_13: 2.4840 - dense_1_loss_14: 2.5556 - dense_1_loss_15: 2.6831 - dense_1_loss_16: 2.6510 - dense_1_loss_17: 2.5520 - dense_1_loss_18: 2.6726 - dense_1_loss_19: 2.6299 - dense_1_loss_20: 2.5900 - dense_1_loss_21: 2.6233 - dense_1_loss_22: 2.4193 - dense_1_loss_23: 2.5925 - dense_1_loss_24: 2.5655 - dense_1_loss_25: 2.8212 - dense_1_loss_26: 2.4212 - dense_1_loss_27: 2.5922 - dense_1_loss_28: 2.5416 - dense_1_loss_29: 2.7453 - dense_1_loss_30: 0.0000e+00 - dense_1_acc_1: 0.0667 - dense_1_acc_2: 0.1667 - dense_1_acc_3: 0.2000 - dense_1_acc_4: 0.1833 - dense_1_acc_5: 0.2333 - dense_1_acc_6: 0.1167 - dense_1_acc_7: 0.1000 - dense_1_acc_8: 0.3000 - dense_1_acc_9: 0.1833 - dense_1_acc_10: 0.2167 - dense_1_acc_11: 0.2167 - dense_1_acc_12: 0.1167 - dense_1_acc_13: 0.2833 - dense_1_acc_14: 0.2667 - dense_1_acc_15: 0.2833 - dense_1_acc_16: 0.2333 - dense_1_acc_17: 0.2333 - dense_1_acc_18: 0.1667 - dense_1_acc_19: 0.2167 - dense_1_acc_20: 0.2333 - dense_1_acc_21: 0.2500 - dense_1_acc_22: 0.2833 - dense_1_acc_23: 0.2167 - dense_1_acc_24: 0.2333 - dense_1_acc_25: 0.1000 - dense_1_acc_26: 0.3833 - dense_1_acc_27: 0.2833 - dense_1_acc_28: 0.3333 - dense_1_acc_29: 0.1833 - dense_1_acc_30: 0.0000e+00     \n",
      "Epoch 13/100\n",
      "60/60 [==============================] - 1s - loss: 78.1416 - dense_1_loss_1: 4.1695 - dense_1_loss_2: 3.8708 - dense_1_loss_3: 3.4696 - dense_1_loss_4: 3.3375 - dense_1_loss_5: 3.0765 - dense_1_loss_6: 3.0590 - dense_1_loss_7: 2.9639 - dense_1_loss_8: 2.5289 - dense_1_loss_9: 2.6593 - dense_1_loss_10: 2.4571 - dense_1_loss_11: 2.5967 - dense_1_loss_12: 2.6398 - dense_1_loss_13: 2.2915 - dense_1_loss_14: 2.4583 - dense_1_loss_15: 2.4551 - dense_1_loss_16: 2.5847 - dense_1_loss_17: 2.3652 - dense_1_loss_18: 2.4729 - dense_1_loss_19: 2.4007 - dense_1_loss_20: 2.3975 - dense_1_loss_21: 2.5497 - dense_1_loss_22: 2.2427 - dense_1_loss_23: 2.4055 - dense_1_loss_24: 2.4269 - dense_1_loss_25: 2.6528 - dense_1_loss_26: 2.2392 - dense_1_loss_27: 2.4896 - dense_1_loss_28: 2.3696 - dense_1_loss_29: 2.5112 - dense_1_loss_30: 0.0000e+00 - dense_1_acc_1: 0.0667 - dense_1_acc_2: 0.1667 - dense_1_acc_3: 0.2167 - dense_1_acc_4: 0.2167 - dense_1_acc_5: 0.2500 - dense_1_acc_6: 0.1167 - dense_1_acc_7: 0.1833 - dense_1_acc_8: 0.3500 - dense_1_acc_9: 0.2167 - dense_1_acc_10: 0.2333 - dense_1_acc_11: 0.2333 - dense_1_acc_12: 0.1833 - dense_1_acc_13: 0.3500 - dense_1_acc_14: 0.3333 - dense_1_acc_15: 0.3000 - dense_1_acc_16: 0.2000 - dense_1_acc_17: 0.3167 - dense_1_acc_18: 0.2500 - dense_1_acc_19: 0.2333 - dense_1_acc_20: 0.3167 - dense_1_acc_21: 0.2333 - dense_1_acc_22: 0.2500 - dense_1_acc_23: 0.2500 - dense_1_acc_24: 0.1667 - dense_1_acc_25: 0.1167 - dense_1_acc_26: 0.3667 - dense_1_acc_27: 0.2667 - dense_1_acc_28: 0.3333 - dense_1_acc_29: 0.2333 - dense_1_acc_30: 0.0000e+00     \n",
      "Epoch 14/100\n",
      "60/60 [==============================] - 1s - loss: 74.7939 - dense_1_loss_1: 4.1604 - dense_1_loss_2: 3.8307 - dense_1_loss_3: 3.4039 - dense_1_loss_4: 3.2414 - dense_1_loss_5: 2.9732 - dense_1_loss_6: 2.9370 - dense_1_loss_7: 2.8329 - dense_1_loss_8: 2.3863 - dense_1_loss_9: 2.5290 - dense_1_loss_10: 2.3257 - dense_1_loss_11: 2.4956 - dense_1_loss_12: 2.4358 - dense_1_loss_13: 2.1263 - dense_1_loss_14: 2.3720 - dense_1_loss_15: 2.3232 - dense_1_loss_16: 2.4507 - dense_1_loss_17: 2.2002 - dense_1_loss_18: 2.3184 - dense_1_loss_19: 2.3042 - dense_1_loss_20: 2.2814 - dense_1_loss_21: 2.3940 - dense_1_loss_22: 2.1828 - dense_1_loss_23: 2.3312 - dense_1_loss_24: 2.3304 - dense_1_loss_25: 2.4991 - dense_1_loss_26: 2.0866 - dense_1_loss_27: 2.3624 - dense_1_loss_28: 2.2465 - dense_1_loss_29: 2.4325 - dense_1_loss_30: 0.0000e+00 - dense_1_acc_1: 0.0667 - dense_1_acc_2: 0.1667 - dense_1_acc_3: 0.2333 - dense_1_acc_4: 0.2167 - dense_1_acc_5: 0.2500 - dense_1_acc_6: 0.1167 - dense_1_acc_7: 0.2500 - dense_1_acc_8: 0.4167 - dense_1_acc_9: 0.3167 - dense_1_acc_10: 0.3500 - dense_1_acc_11: 0.2667 - dense_1_acc_12: 0.2167 - dense_1_acc_13: 0.3833 - dense_1_acc_14: 0.3500 - dense_1_acc_15: 0.3167 - dense_1_acc_16: 0.2833 - dense_1_acc_17: 0.4167 - dense_1_acc_18: 0.3333 - dense_1_acc_19: 0.2167 - dense_1_acc_20: 0.3500 - dense_1_acc_21: 0.2500 - dense_1_acc_22: 0.2167 - dense_1_acc_23: 0.3167 - dense_1_acc_24: 0.2667 - dense_1_acc_25: 0.2333 - dense_1_acc_26: 0.4167 - dense_1_acc_27: 0.3500 - dense_1_acc_28: 0.3833 - dense_1_acc_29: 0.3333 - dense_1_acc_30: 0.0000e+00     \n",
      "Epoch 15/100\n",
      "60/60 [==============================] - 1s - loss: 71.4922 - dense_1_loss_1: 4.1517 - dense_1_loss_2: 3.7883 - dense_1_loss_3: 3.3347 - dense_1_loss_4: 3.1508 - dense_1_loss_5: 2.8680 - dense_1_loss_6: 2.8196 - dense_1_loss_7: 2.6918 - dense_1_loss_8: 2.2526 - dense_1_loss_9: 2.4356 - dense_1_loss_10: 2.2775 - dense_1_loss_11: 2.3830 - dense_1_loss_12: 2.2926 - dense_1_loss_13: 2.0336 - dense_1_loss_14: 2.2383 - dense_1_loss_15: 2.2358 - dense_1_loss_16: 2.3160 - dense_1_loss_17: 2.1010 - dense_1_loss_18: 2.1412 - dense_1_loss_19: 2.1581 - dense_1_loss_20: 2.1657 - dense_1_loss_21: 2.2275 - dense_1_loss_22: 2.0741 - dense_1_loss_23: 2.1990 - dense_1_loss_24: 2.1704 - dense_1_loss_25: 2.3526 - dense_1_loss_26: 2.0032 - dense_1_loss_27: 2.2296 - dense_1_loss_28: 2.1133 - dense_1_loss_29: 2.2869 - dense_1_loss_30: 0.0000e+00 - dense_1_acc_1: 0.0667 - dense_1_acc_2: 0.1667 - dense_1_acc_3: 0.2833 - dense_1_acc_4: 0.2833 - dense_1_acc_5: 0.3000 - dense_1_acc_6: 0.1500 - dense_1_acc_7: 0.2667 - dense_1_acc_8: 0.5167 - dense_1_acc_9: 0.2333 - dense_1_acc_10: 0.3500 - dense_1_acc_11: 0.2500 - dense_1_acc_12: 0.2333 - dense_1_acc_13: 0.4000 - dense_1_acc_14: 0.4333 - dense_1_acc_15: 0.2833 - dense_1_acc_16: 0.3167 - dense_1_acc_17: 0.3667 - dense_1_acc_18: 0.4000 - dense_1_acc_19: 0.3667 - dense_1_acc_20: 0.3667 - dense_1_acc_21: 0.3833 - dense_1_acc_22: 0.4000 - dense_1_acc_23: 0.3833 - dense_1_acc_24: 0.3333 - dense_1_acc_25: 0.2833 - dense_1_acc_26: 0.4333 - dense_1_acc_27: 0.3667 - dense_1_acc_28: 0.4333 - dense_1_acc_29: 0.3667 - dense_1_acc_30: 0.0000e+00     \n",
      "Epoch 16/100\n",
      "60/60 [==============================] - 1s - loss: 67.8226 - dense_1_loss_1: 4.1424 - dense_1_loss_2: 3.7457 - dense_1_loss_3: 3.2667 - dense_1_loss_4: 3.0559 - dense_1_loss_5: 2.7629 - dense_1_loss_6: 2.7258 - dense_1_loss_7: 2.5849 - dense_1_loss_8: 2.1527 - dense_1_loss_9: 2.2400 - dense_1_loss_10: 2.1358 - dense_1_loss_11: 2.2118 - dense_1_loss_12: 2.1388 - dense_1_loss_13: 1.8724 - dense_1_loss_14: 2.0319 - dense_1_loss_15: 2.1189 - dense_1_loss_16: 2.1661 - dense_1_loss_17: 1.9977 - dense_1_loss_18: 2.0331 - dense_1_loss_19: 2.0370 - dense_1_loss_20: 1.9787 - dense_1_loss_21: 2.0658 - dense_1_loss_22: 1.9532 - dense_1_loss_23: 2.0682 - dense_1_loss_24: 2.0602 - dense_1_loss_25: 2.2355 - dense_1_loss_26: 1.8045 - dense_1_loss_27: 2.1151 - dense_1_loss_28: 1.9799 - dense_1_loss_29: 2.1409 - dense_1_loss_30: 0.0000e+00 - dense_1_acc_1: 0.0667 - dense_1_acc_2: 0.1667 - dense_1_acc_3: 0.3167 - dense_1_acc_4: 0.2667 - dense_1_acc_5: 0.3333 - dense_1_acc_6: 0.2167 - dense_1_acc_7: 0.3167 - dense_1_acc_8: 0.4500 - dense_1_acc_9: 0.3500 - dense_1_acc_10: 0.3833 - dense_1_acc_11: 0.3333 - dense_1_acc_12: 0.3500 - dense_1_acc_13: 0.4667 - dense_1_acc_14: 0.4500 - dense_1_acc_15: 0.3000 - dense_1_acc_16: 0.3833 - dense_1_acc_17: 0.4167 - dense_1_acc_18: 0.3000 - dense_1_acc_19: 0.3167 - dense_1_acc_20: 0.4333 - dense_1_acc_21: 0.3667 - dense_1_acc_22: 0.4333 - dense_1_acc_23: 0.3000 - dense_1_acc_24: 0.3000 - dense_1_acc_25: 0.2500 - dense_1_acc_26: 0.5500 - dense_1_acc_27: 0.3000 - dense_1_acc_28: 0.4333 - dense_1_acc_29: 0.3667 - dense_1_acc_30: 0.0000e+00     \n",
      "Epoch 17/100\n",
      "60/60 [==============================] - 1s - loss: 64.8065 - dense_1_loss_1: 4.1344 - dense_1_loss_2: 3.7022 - dense_1_loss_3: 3.1936 - dense_1_loss_4: 2.9603 - dense_1_loss_5: 2.6558 - dense_1_loss_6: 2.6155 - dense_1_loss_7: 2.4705 - dense_1_loss_8: 2.0429 - dense_1_loss_9: 2.1059 - dense_1_loss_10: 2.0439 - dense_1_loss_11: 2.0715 - dense_1_loss_12: 2.0005 - dense_1_loss_13: 1.7986 - dense_1_loss_14: 1.8908 - dense_1_loss_15: 2.0100 - dense_1_loss_16: 1.9931 - dense_1_loss_17: 1.9249 - dense_1_loss_18: 1.9375 - dense_1_loss_19: 1.9264 - dense_1_loss_20: 1.8605 - dense_1_loss_21: 1.9684 - dense_1_loss_22: 1.8995 - dense_1_loss_23: 1.9359 - dense_1_loss_24: 1.9772 - dense_1_loss_25: 2.0865 - dense_1_loss_26: 1.7091 - dense_1_loss_27: 2.0145 - dense_1_loss_28: 1.8627 - dense_1_loss_29: 2.0141 - dense_1_loss_30: 0.0000e+00 - dense_1_acc_1: 0.0667 - dense_1_acc_2: 0.1833 - dense_1_acc_3: 0.3333 - dense_1_acc_4: 0.2667 - dense_1_acc_5: 0.3333 - dense_1_acc_6: 0.2333 - dense_1_acc_7: 0.3667 - dense_1_acc_8: 0.4667 - dense_1_acc_9: 0.4333 - dense_1_acc_10: 0.4333 - dense_1_acc_11: 0.3500 - dense_1_acc_12: 0.4167 - dense_1_acc_13: 0.5167 - dense_1_acc_14: 0.4667 - dense_1_acc_15: 0.3500 - dense_1_acc_16: 0.4667 - dense_1_acc_17: 0.5000 - dense_1_acc_18: 0.4000 - dense_1_acc_19: 0.4333 - dense_1_acc_20: 0.4500 - dense_1_acc_21: 0.3500 - dense_1_acc_22: 0.4667 - dense_1_acc_23: 0.4167 - dense_1_acc_24: 0.4000 - dense_1_acc_25: 0.2667 - dense_1_acc_26: 0.6167 - dense_1_acc_27: 0.4000 - dense_1_acc_28: 0.4833 - dense_1_acc_29: 0.4667 - dense_1_acc_30: 0.0000e+00     \n",
      "Epoch 18/100\n",
      "60/60 [==============================] - 1s - loss: 61.6539 - dense_1_loss_1: 4.1258 - dense_1_loss_2: 3.6586 - dense_1_loss_3: 3.1198 - dense_1_loss_4: 2.8562 - dense_1_loss_5: 2.5326 - dense_1_loss_6: 2.4951 - dense_1_loss_7: 2.3443 - dense_1_loss_8: 1.9102 - dense_1_loss_9: 2.0240 - dense_1_loss_10: 1.9268 - dense_1_loss_11: 1.9799 - dense_1_loss_12: 1.8615 - dense_1_loss_13: 1.6958 - dense_1_loss_14: 1.7599 - dense_1_loss_15: 1.9247 - dense_1_loss_16: 1.8861 - dense_1_loss_17: 1.8237 - dense_1_loss_18: 1.7973 - dense_1_loss_19: 1.8404 - dense_1_loss_20: 1.7382 - dense_1_loss_21: 1.8271 - dense_1_loss_22: 1.7984 - dense_1_loss_23: 1.8060 - dense_1_loss_24: 1.8250 - dense_1_loss_25: 1.9444 - dense_1_loss_26: 1.6953 - dense_1_loss_27: 1.8689 - dense_1_loss_28: 1.7386 - dense_1_loss_29: 1.8493 - dense_1_loss_30: 0.0000e+00 - dense_1_acc_1: 0.0667 - dense_1_acc_2: 0.1667 - dense_1_acc_3: 0.3333 - dense_1_acc_4: 0.3000 - dense_1_acc_5: 0.3333 - dense_1_acc_6: 0.2167 - dense_1_acc_7: 0.3833 - dense_1_acc_8: 0.5333 - dense_1_acc_9: 0.4000 - dense_1_acc_10: 0.4333 - dense_1_acc_11: 0.4500 - dense_1_acc_12: 0.3833 - dense_1_acc_13: 0.6333 - dense_1_acc_14: 0.5333 - dense_1_acc_15: 0.3833 - dense_1_acc_16: 0.4833 - dense_1_acc_17: 0.4333 - dense_1_acc_18: 0.4833 - dense_1_acc_19: 0.5167 - dense_1_acc_20: 0.4833 - dense_1_acc_21: 0.4333 - dense_1_acc_22: 0.5167 - dense_1_acc_23: 0.4833 - dense_1_acc_24: 0.5167 - dense_1_acc_25: 0.3500 - dense_1_acc_26: 0.5333 - dense_1_acc_27: 0.4500 - dense_1_acc_28: 0.5167 - dense_1_acc_29: 0.5333 - dense_1_acc_30: 0.0000e+00     \n",
      "Epoch 19/100\n",
      "60/60 [==============================] - 1s - loss: 58.9011 - dense_1_loss_1: 4.1171 - dense_1_loss_2: 3.6157 - dense_1_loss_3: 3.0368 - dense_1_loss_4: 2.7543 - dense_1_loss_5: 2.4212 - dense_1_loss_6: 2.3570 - dense_1_loss_7: 2.2239 - dense_1_loss_8: 1.7769 - dense_1_loss_9: 1.9253 - dense_1_loss_10: 1.8296 - dense_1_loss_11: 1.8743 - dense_1_loss_12: 1.7457 - dense_1_loss_13: 1.6018 - dense_1_loss_14: 1.6338 - dense_1_loss_15: 1.8156 - dense_1_loss_16: 1.7864 - dense_1_loss_17: 1.6842 - dense_1_loss_18: 1.6861 - dense_1_loss_19: 1.7363 - dense_1_loss_20: 1.6502 - dense_1_loss_21: 1.7380 - dense_1_loss_22: 1.6818 - dense_1_loss_23: 1.7649 - dense_1_loss_24: 1.6988 - dense_1_loss_25: 1.8947 - dense_1_loss_26: 1.6437 - dense_1_loss_27: 1.8091 - dense_1_loss_28: 1.6626 - dense_1_loss_29: 1.7353 - dense_1_loss_30: 0.0000e+00 - dense_1_acc_1: 0.0667 - dense_1_acc_2: 0.1833 - dense_1_acc_3: 0.3500 - dense_1_acc_4: 0.3000 - dense_1_acc_5: 0.3333 - dense_1_acc_6: 0.3333 - dense_1_acc_7: 0.4167 - dense_1_acc_8: 0.5833 - dense_1_acc_9: 0.4333 - dense_1_acc_10: 0.4500 - dense_1_acc_11: 0.3667 - dense_1_acc_12: 0.4667 - dense_1_acc_13: 0.6167 - dense_1_acc_14: 0.5333 - dense_1_acc_15: 0.4000 - dense_1_acc_16: 0.5000 - dense_1_acc_17: 0.4500 - dense_1_acc_18: 0.5167 - dense_1_acc_19: 0.4667 - dense_1_acc_20: 0.5667 - dense_1_acc_21: 0.4167 - dense_1_acc_22: 0.5167 - dense_1_acc_23: 0.5333 - dense_1_acc_24: 0.6000 - dense_1_acc_25: 0.4000 - dense_1_acc_26: 0.6167 - dense_1_acc_27: 0.5667 - dense_1_acc_28: 0.6333 - dense_1_acc_29: 0.5833 - dense_1_acc_30: 0.0000e+00     \n",
      "Epoch 20/100\n",
      "60/60 [==============================] - 1s - loss: 55.9843 - dense_1_loss_1: 4.1093 - dense_1_loss_2: 3.5712 - dense_1_loss_3: 2.9550 - dense_1_loss_4: 2.6586 - dense_1_loss_5: 2.3349 - dense_1_loss_6: 2.2407 - dense_1_loss_7: 2.0942 - dense_1_loss_8: 1.7050 - dense_1_loss_9: 1.7981 - dense_1_loss_10: 1.7390 - dense_1_loss_11: 1.7506 - dense_1_loss_12: 1.5956 - dense_1_loss_13: 1.5138 - dense_1_loss_14: 1.5707 - dense_1_loss_15: 1.7036 - dense_1_loss_16: 1.7095 - dense_1_loss_17: 1.5892 - dense_1_loss_18: 1.5803 - dense_1_loss_19: 1.6359 - dense_1_loss_20: 1.5482 - dense_1_loss_21: 1.6321 - dense_1_loss_22: 1.5768 - dense_1_loss_23: 1.6166 - dense_1_loss_24: 1.5780 - dense_1_loss_25: 1.7389 - dense_1_loss_26: 1.5653 - dense_1_loss_27: 1.6528 - dense_1_loss_28: 1.5431 - dense_1_loss_29: 1.6773 - dense_1_loss_30: 0.0000e+00 - dense_1_acc_1: 0.0667 - dense_1_acc_2: 0.1833 - dense_1_acc_3: 0.3500 - dense_1_acc_4: 0.3167 - dense_1_acc_5: 0.3333 - dense_1_acc_6: 0.3500 - dense_1_acc_7: 0.4333 - dense_1_acc_8: 0.6000 - dense_1_acc_9: 0.5333 - dense_1_acc_10: 0.5500 - dense_1_acc_11: 0.4167 - dense_1_acc_12: 0.6167 - dense_1_acc_13: 0.6500 - dense_1_acc_14: 0.5833 - dense_1_acc_15: 0.4333 - dense_1_acc_16: 0.4667 - dense_1_acc_17: 0.5000 - dense_1_acc_18: 0.5833 - dense_1_acc_19: 0.5333 - dense_1_acc_20: 0.5667 - dense_1_acc_21: 0.5167 - dense_1_acc_22: 0.5667 - dense_1_acc_23: 0.5833 - dense_1_acc_24: 0.6000 - dense_1_acc_25: 0.4667 - dense_1_acc_26: 0.6167 - dense_1_acc_27: 0.5833 - dense_1_acc_28: 0.6500 - dense_1_acc_29: 0.5500 - dense_1_acc_30: 0.0000e+00     \n",
      "Epoch 21/100\n"
     ]
    },
    {
     "name": "stdout",
     "output_type": "stream",
     "text": [
      "60/60 [==============================] - 1s - loss: 53.2068 - dense_1_loss_1: 4.1015 - dense_1_loss_2: 3.5257 - dense_1_loss_3: 2.8684 - dense_1_loss_4: 2.5612 - dense_1_loss_5: 2.2410 - dense_1_loss_6: 2.1112 - dense_1_loss_7: 1.9635 - dense_1_loss_8: 1.5958 - dense_1_loss_9: 1.7013 - dense_1_loss_10: 1.6594 - dense_1_loss_11: 1.6370 - dense_1_loss_12: 1.4434 - dense_1_loss_13: 1.4126 - dense_1_loss_14: 1.4461 - dense_1_loss_15: 1.6257 - dense_1_loss_16: 1.5917 - dense_1_loss_17: 1.4824 - dense_1_loss_18: 1.4966 - dense_1_loss_19: 1.5036 - dense_1_loss_20: 1.4544 - dense_1_loss_21: 1.5242 - dense_1_loss_22: 1.4947 - dense_1_loss_23: 1.5477 - dense_1_loss_24: 1.4957 - dense_1_loss_25: 1.6277 - dense_1_loss_26: 1.4587 - dense_1_loss_27: 1.5786 - dense_1_loss_28: 1.4428 - dense_1_loss_29: 1.6143 - dense_1_loss_30: 0.0000e+00 - dense_1_acc_1: 0.0667 - dense_1_acc_2: 0.1833 - dense_1_acc_3: 0.3500 - dense_1_acc_4: 0.3000 - dense_1_acc_5: 0.3167 - dense_1_acc_6: 0.3500 - dense_1_acc_7: 0.4500 - dense_1_acc_8: 0.6500 - dense_1_acc_9: 0.5000 - dense_1_acc_10: 0.5833 - dense_1_acc_11: 0.5500 - dense_1_acc_12: 0.6667 - dense_1_acc_13: 0.7500 - dense_1_acc_14: 0.6333 - dense_1_acc_15: 0.4500 - dense_1_acc_16: 0.5500 - dense_1_acc_17: 0.6667 - dense_1_acc_18: 0.6833 - dense_1_acc_19: 0.6500 - dense_1_acc_20: 0.6833 - dense_1_acc_21: 0.6333 - dense_1_acc_22: 0.7000 - dense_1_acc_23: 0.6500 - dense_1_acc_24: 0.5667 - dense_1_acc_25: 0.5000 - dense_1_acc_26: 0.6000 - dense_1_acc_27: 0.6667 - dense_1_acc_28: 0.7000 - dense_1_acc_29: 0.5667 - dense_1_acc_30: 0.0000e+00     \n",
      "Epoch 22/100\n",
      "60/60 [==============================] - 1s - loss: 50.7650 - dense_1_loss_1: 4.0945 - dense_1_loss_2: 3.4790 - dense_1_loss_3: 2.7836 - dense_1_loss_4: 2.4646 - dense_1_loss_5: 2.1519 - dense_1_loss_6: 1.9946 - dense_1_loss_7: 1.8497 - dense_1_loss_8: 1.4991 - dense_1_loss_9: 1.6141 - dense_1_loss_10: 1.6071 - dense_1_loss_11: 1.5168 - dense_1_loss_12: 1.3846 - dense_1_loss_13: 1.3250 - dense_1_loss_14: 1.3491 - dense_1_loss_15: 1.5363 - dense_1_loss_16: 1.4734 - dense_1_loss_17: 1.3867 - dense_1_loss_18: 1.4505 - dense_1_loss_19: 1.4435 - dense_1_loss_20: 1.3950 - dense_1_loss_21: 1.4205 - dense_1_loss_22: 1.3959 - dense_1_loss_23: 1.4500 - dense_1_loss_24: 1.4058 - dense_1_loss_25: 1.5520 - dense_1_loss_26: 1.3713 - dense_1_loss_27: 1.4973 - dense_1_loss_28: 1.3391 - dense_1_loss_29: 1.5340 - dense_1_loss_30: 0.0000e+00 - dense_1_acc_1: 0.0667 - dense_1_acc_2: 0.1833 - dense_1_acc_3: 0.3500 - dense_1_acc_4: 0.3000 - dense_1_acc_5: 0.3333 - dense_1_acc_6: 0.3667 - dense_1_acc_7: 0.4500 - dense_1_acc_8: 0.6833 - dense_1_acc_9: 0.4833 - dense_1_acc_10: 0.4333 - dense_1_acc_11: 0.6000 - dense_1_acc_12: 0.6667 - dense_1_acc_13: 0.7667 - dense_1_acc_14: 0.7500 - dense_1_acc_15: 0.6333 - dense_1_acc_16: 0.6333 - dense_1_acc_17: 0.7167 - dense_1_acc_18: 0.7167 - dense_1_acc_19: 0.6333 - dense_1_acc_20: 0.6500 - dense_1_acc_21: 0.6667 - dense_1_acc_22: 0.8333 - dense_1_acc_23: 0.6500 - dense_1_acc_24: 0.6333 - dense_1_acc_25: 0.5167 - dense_1_acc_26: 0.7333 - dense_1_acc_27: 0.6500 - dense_1_acc_28: 0.7333 - dense_1_acc_29: 0.6333 - dense_1_acc_30: 0.0000e+00     \n",
      "Epoch 23/100\n",
      "60/60 [==============================] - 1s - loss: 47.9748 - dense_1_loss_1: 4.0858 - dense_1_loss_2: 3.4322 - dense_1_loss_3: 2.6996 - dense_1_loss_4: 2.3716 - dense_1_loss_5: 2.0616 - dense_1_loss_6: 1.8790 - dense_1_loss_7: 1.7118 - dense_1_loss_8: 1.4008 - dense_1_loss_9: 1.5238 - dense_1_loss_10: 1.4706 - dense_1_loss_11: 1.4111 - dense_1_loss_12: 1.2635 - dense_1_loss_13: 1.2308 - dense_1_loss_14: 1.2808 - dense_1_loss_15: 1.4464 - dense_1_loss_16: 1.3190 - dense_1_loss_17: 1.2787 - dense_1_loss_18: 1.3408 - dense_1_loss_19: 1.3388 - dense_1_loss_20: 1.3123 - dense_1_loss_21: 1.3241 - dense_1_loss_22: 1.2944 - dense_1_loss_23: 1.3603 - dense_1_loss_24: 1.3141 - dense_1_loss_25: 1.4543 - dense_1_loss_26: 1.2412 - dense_1_loss_27: 1.3941 - dense_1_loss_28: 1.2993 - dense_1_loss_29: 1.4341 - dense_1_loss_30: 0.0000e+00 - dense_1_acc_1: 0.0667 - dense_1_acc_2: 0.2500 - dense_1_acc_3: 0.3667 - dense_1_acc_4: 0.3167 - dense_1_acc_5: 0.3333 - dense_1_acc_6: 0.4000 - dense_1_acc_7: 0.4333 - dense_1_acc_8: 0.6667 - dense_1_acc_9: 0.5667 - dense_1_acc_10: 0.6000 - dense_1_acc_11: 0.6333 - dense_1_acc_12: 0.7333 - dense_1_acc_13: 0.7833 - dense_1_acc_14: 0.8167 - dense_1_acc_15: 0.6333 - dense_1_acc_16: 0.7167 - dense_1_acc_17: 0.7667 - dense_1_acc_18: 0.7667 - dense_1_acc_19: 0.7000 - dense_1_acc_20: 0.7500 - dense_1_acc_21: 0.7667 - dense_1_acc_22: 0.7833 - dense_1_acc_23: 0.7500 - dense_1_acc_24: 0.7500 - dense_1_acc_25: 0.6167 - dense_1_acc_26: 0.8000 - dense_1_acc_27: 0.7167 - dense_1_acc_28: 0.7833 - dense_1_acc_29: 0.6833 - dense_1_acc_30: 0.0000e+00     \n",
      "Epoch 24/100\n",
      "60/60 [==============================] - 1s - loss: 45.6787 - dense_1_loss_1: 4.0782 - dense_1_loss_2: 3.3868 - dense_1_loss_3: 2.6211 - dense_1_loss_4: 2.2797 - dense_1_loss_5: 1.9696 - dense_1_loss_6: 1.7758 - dense_1_loss_7: 1.6062 - dense_1_loss_8: 1.3181 - dense_1_loss_9: 1.4322 - dense_1_loss_10: 1.3595 - dense_1_loss_11: 1.3637 - dense_1_loss_12: 1.1872 - dense_1_loss_13: 1.1617 - dense_1_loss_14: 1.2088 - dense_1_loss_15: 1.3458 - dense_1_loss_16: 1.2335 - dense_1_loss_17: 1.2175 - dense_1_loss_18: 1.2433 - dense_1_loss_19: 1.2641 - dense_1_loss_20: 1.2514 - dense_1_loss_21: 1.2458 - dense_1_loss_22: 1.2150 - dense_1_loss_23: 1.2619 - dense_1_loss_24: 1.2705 - dense_1_loss_25: 1.3685 - dense_1_loss_26: 1.1588 - dense_1_loss_27: 1.2858 - dense_1_loss_28: 1.2352 - dense_1_loss_29: 1.3329 - dense_1_loss_30: 0.0000e+00 - dense_1_acc_1: 0.0667 - dense_1_acc_2: 0.2833 - dense_1_acc_3: 0.3667 - dense_1_acc_4: 0.3333 - dense_1_acc_5: 0.3500 - dense_1_acc_6: 0.4833 - dense_1_acc_7: 0.6000 - dense_1_acc_8: 0.7667 - dense_1_acc_9: 0.6833 - dense_1_acc_10: 0.6667 - dense_1_acc_11: 0.6500 - dense_1_acc_12: 0.7667 - dense_1_acc_13: 0.7667 - dense_1_acc_14: 0.8000 - dense_1_acc_15: 0.6000 - dense_1_acc_16: 0.7500 - dense_1_acc_17: 0.8333 - dense_1_acc_18: 0.7667 - dense_1_acc_19: 0.6833 - dense_1_acc_20: 0.7500 - dense_1_acc_21: 0.7667 - dense_1_acc_22: 0.8000 - dense_1_acc_23: 0.7833 - dense_1_acc_24: 0.7667 - dense_1_acc_25: 0.6667 - dense_1_acc_26: 0.8167 - dense_1_acc_27: 0.7500 - dense_1_acc_28: 0.7833 - dense_1_acc_29: 0.7167 - dense_1_acc_30: 0.0000e+00     \n",
      "Epoch 25/100\n",
      "60/60 [==============================] - 1s - loss: 43.3105 - dense_1_loss_1: 4.0705 - dense_1_loss_2: 3.3396 - dense_1_loss_3: 2.5445 - dense_1_loss_4: 2.1887 - dense_1_loss_5: 1.8716 - dense_1_loss_6: 1.6665 - dense_1_loss_7: 1.4990 - dense_1_loss_8: 1.2515 - dense_1_loss_9: 1.3242 - dense_1_loss_10: 1.2402 - dense_1_loss_11: 1.2570 - dense_1_loss_12: 1.1502 - dense_1_loss_13: 1.0881 - dense_1_loss_14: 1.1286 - dense_1_loss_15: 1.2224 - dense_1_loss_16: 1.1675 - dense_1_loss_17: 1.1345 - dense_1_loss_18: 1.1597 - dense_1_loss_19: 1.2166 - dense_1_loss_20: 1.1715 - dense_1_loss_21: 1.1791 - dense_1_loss_22: 1.1417 - dense_1_loss_23: 1.1337 - dense_1_loss_24: 1.1713 - dense_1_loss_25: 1.2928 - dense_1_loss_26: 1.1117 - dense_1_loss_27: 1.2175 - dense_1_loss_28: 1.1292 - dense_1_loss_29: 1.2408 - dense_1_loss_30: 0.0000e+00 - dense_1_acc_1: 0.0667 - dense_1_acc_2: 0.3167 - dense_1_acc_3: 0.4167 - dense_1_acc_4: 0.3667 - dense_1_acc_5: 0.3667 - dense_1_acc_6: 0.5333 - dense_1_acc_7: 0.6500 - dense_1_acc_8: 0.7500 - dense_1_acc_9: 0.7167 - dense_1_acc_10: 0.8000 - dense_1_acc_11: 0.6667 - dense_1_acc_12: 0.8000 - dense_1_acc_13: 0.8333 - dense_1_acc_14: 0.8167 - dense_1_acc_15: 0.7833 - dense_1_acc_16: 0.7167 - dense_1_acc_17: 0.8333 - dense_1_acc_18: 0.8000 - dense_1_acc_19: 0.6667 - dense_1_acc_20: 0.7167 - dense_1_acc_21: 0.7833 - dense_1_acc_22: 0.8167 - dense_1_acc_23: 0.8167 - dense_1_acc_24: 0.8333 - dense_1_acc_25: 0.6500 - dense_1_acc_26: 0.8167 - dense_1_acc_27: 0.7333 - dense_1_acc_28: 0.8667 - dense_1_acc_29: 0.8000 - dense_1_acc_30: 0.0000e+00     \n",
      "Epoch 26/100\n",
      "60/60 [==============================] - 1s - loss: 41.1031 - dense_1_loss_1: 4.0633 - dense_1_loss_2: 3.2908 - dense_1_loss_3: 2.4590 - dense_1_loss_4: 2.0897 - dense_1_loss_5: 1.7749 - dense_1_loss_6: 1.5597 - dense_1_loss_7: 1.3883 - dense_1_loss_8: 1.1656 - dense_1_loss_9: 1.2497 - dense_1_loss_10: 1.1424 - dense_1_loss_11: 1.1475 - dense_1_loss_12: 1.0745 - dense_1_loss_13: 1.0037 - dense_1_loss_14: 1.0343 - dense_1_loss_15: 1.1241 - dense_1_loss_16: 1.0775 - dense_1_loss_17: 1.0440 - dense_1_loss_18: 1.0969 - dense_1_loss_19: 1.1095 - dense_1_loss_20: 1.0851 - dense_1_loss_21: 1.0995 - dense_1_loss_22: 1.0798 - dense_1_loss_23: 1.0984 - dense_1_loss_24: 1.1061 - dense_1_loss_25: 1.2123 - dense_1_loss_26: 1.0810 - dense_1_loss_27: 1.2108 - dense_1_loss_28: 1.0854 - dense_1_loss_29: 1.1492 - dense_1_loss_30: 0.0000e+00 - dense_1_acc_1: 0.0667 - dense_1_acc_2: 0.3167 - dense_1_acc_3: 0.4333 - dense_1_acc_4: 0.3667 - dense_1_acc_5: 0.4167 - dense_1_acc_6: 0.5333 - dense_1_acc_7: 0.6833 - dense_1_acc_8: 0.7833 - dense_1_acc_9: 0.7667 - dense_1_acc_10: 0.8167 - dense_1_acc_11: 0.7500 - dense_1_acc_12: 0.8500 - dense_1_acc_13: 0.8667 - dense_1_acc_14: 0.8500 - dense_1_acc_15: 0.7333 - dense_1_acc_16: 0.8000 - dense_1_acc_17: 0.8500 - dense_1_acc_18: 0.8167 - dense_1_acc_19: 0.7833 - dense_1_acc_20: 0.8333 - dense_1_acc_21: 0.8000 - dense_1_acc_22: 0.8167 - dense_1_acc_23: 0.7833 - dense_1_acc_24: 0.8500 - dense_1_acc_25: 0.6667 - dense_1_acc_26: 0.8000 - dense_1_acc_27: 0.6667 - dense_1_acc_28: 0.9000 - dense_1_acc_29: 0.7833 - dense_1_acc_30: 0.0000e+00     \n",
      "Epoch 27/100\n",
      "60/60 [==============================] - 1s - loss: 38.8608 - dense_1_loss_1: 4.0551 - dense_1_loss_2: 3.2436 - dense_1_loss_3: 2.3853 - dense_1_loss_4: 1.9811 - dense_1_loss_5: 1.6868 - dense_1_loss_6: 1.4689 - dense_1_loss_7: 1.3014 - dense_1_loss_8: 1.1265 - dense_1_loss_9: 1.1231 - dense_1_loss_10: 1.0697 - dense_1_loss_11: 1.0994 - dense_1_loss_12: 0.9973 - dense_1_loss_13: 0.9148 - dense_1_loss_14: 0.9622 - dense_1_loss_15: 1.1058 - dense_1_loss_16: 1.0087 - dense_1_loss_17: 0.9991 - dense_1_loss_18: 0.9770 - dense_1_loss_19: 1.0292 - dense_1_loss_20: 1.0292 - dense_1_loss_21: 1.0185 - dense_1_loss_22: 1.0011 - dense_1_loss_23: 1.0228 - dense_1_loss_24: 1.0185 - dense_1_loss_25: 1.1607 - dense_1_loss_26: 0.9757 - dense_1_loss_27: 1.0487 - dense_1_loss_28: 0.9736 - dense_1_loss_29: 1.0769 - dense_1_loss_30: 0.0000e+00 - dense_1_acc_1: 0.0667 - dense_1_acc_2: 0.3167 - dense_1_acc_3: 0.4333 - dense_1_acc_4: 0.4333 - dense_1_acc_5: 0.5000 - dense_1_acc_6: 0.5667 - dense_1_acc_7: 0.7500 - dense_1_acc_8: 0.7833 - dense_1_acc_9: 0.8167 - dense_1_acc_10: 0.8500 - dense_1_acc_11: 0.8000 - dense_1_acc_12: 0.8500 - dense_1_acc_13: 0.8833 - dense_1_acc_14: 0.8333 - dense_1_acc_15: 0.7167 - dense_1_acc_16: 0.9000 - dense_1_acc_17: 0.9000 - dense_1_acc_18: 0.9167 - dense_1_acc_19: 0.8333 - dense_1_acc_20: 0.8833 - dense_1_acc_21: 0.9333 - dense_1_acc_22: 0.9000 - dense_1_acc_23: 0.8833 - dense_1_acc_24: 0.8500 - dense_1_acc_25: 0.6667 - dense_1_acc_26: 0.8500 - dense_1_acc_27: 0.7667 - dense_1_acc_28: 0.9167 - dense_1_acc_29: 0.8500 - dense_1_acc_30: 0.0000e+00     \n",
      "Epoch 28/100\n",
      "60/60 [==============================] - 1s - loss: 36.8107 - dense_1_loss_1: 4.0472 - dense_1_loss_2: 3.1958 - dense_1_loss_3: 2.3035 - dense_1_loss_4: 1.8855 - dense_1_loss_5: 1.6097 - dense_1_loss_6: 1.3752 - dense_1_loss_7: 1.1934 - dense_1_loss_8: 1.0759 - dense_1_loss_9: 1.0564 - dense_1_loss_10: 1.0010 - dense_1_loss_11: 1.0017 - dense_1_loss_12: 0.9430 - dense_1_loss_13: 0.8510 - dense_1_loss_14: 0.8966 - dense_1_loss_15: 1.0109 - dense_1_loss_16: 0.9452 - dense_1_loss_17: 0.9339 - dense_1_loss_18: 0.9107 - dense_1_loss_19: 0.9327 - dense_1_loss_20: 0.9710 - dense_1_loss_21: 0.9492 - dense_1_loss_22: 0.9283 - dense_1_loss_23: 0.9642 - dense_1_loss_24: 0.9513 - dense_1_loss_25: 1.0445 - dense_1_loss_26: 0.8999 - dense_1_loss_27: 0.9935 - dense_1_loss_28: 0.9425 - dense_1_loss_29: 0.9968 - dense_1_loss_30: 0.0000e+00 - dense_1_acc_1: 0.0667 - dense_1_acc_2: 0.3167 - dense_1_acc_3: 0.4333 - dense_1_acc_4: 0.4500 - dense_1_acc_5: 0.5000 - dense_1_acc_6: 0.6000 - dense_1_acc_7: 0.7833 - dense_1_acc_8: 0.8167 - dense_1_acc_9: 0.8000 - dense_1_acc_10: 0.8500 - dense_1_acc_11: 0.8167 - dense_1_acc_12: 0.9500 - dense_1_acc_13: 0.9500 - dense_1_acc_14: 0.8667 - dense_1_acc_15: 0.7833 - dense_1_acc_16: 0.9667 - dense_1_acc_17: 0.9500 - dense_1_acc_18: 0.9500 - dense_1_acc_19: 0.9000 - dense_1_acc_20: 0.9333 - dense_1_acc_21: 0.9833 - dense_1_acc_22: 0.9500 - dense_1_acc_23: 0.9333 - dense_1_acc_24: 0.9333 - dense_1_acc_25: 0.8000 - dense_1_acc_26: 0.9667 - dense_1_acc_27: 0.8333 - dense_1_acc_28: 0.9333 - dense_1_acc_29: 0.8833 - dense_1_acc_30: 0.0000e+00     \n",
      "Epoch 29/100\n",
      "60/60 [==============================] - 1s - loss: 34.7782 - dense_1_loss_1: 4.0397 - dense_1_loss_2: 3.1508 - dense_1_loss_3: 2.2244 - dense_1_loss_4: 1.7995 - dense_1_loss_5: 1.5187 - dense_1_loss_6: 1.2912 - dense_1_loss_7: 1.1121 - dense_1_loss_8: 0.9809 - dense_1_loss_9: 0.9981 - dense_1_loss_10: 0.9063 - dense_1_loss_11: 0.9316 - dense_1_loss_12: 0.8514 - dense_1_loss_13: 0.7661 - dense_1_loss_14: 0.8190 - dense_1_loss_15: 0.8917 - dense_1_loss_16: 0.8657 - dense_1_loss_17: 0.8583 - dense_1_loss_18: 0.8605 - dense_1_loss_19: 0.8791 - dense_1_loss_20: 0.9071 - dense_1_loss_21: 0.8935 - dense_1_loss_22: 0.8743 - dense_1_loss_23: 0.9004 - dense_1_loss_24: 0.8662 - dense_1_loss_25: 0.9940 - dense_1_loss_26: 0.8513 - dense_1_loss_27: 0.9325 - dense_1_loss_28: 0.8769 - dense_1_loss_29: 0.9369 - dense_1_loss_30: 0.0000e+00 - dense_1_acc_1: 0.0667 - dense_1_acc_2: 0.3167 - dense_1_acc_3: 0.4500 - dense_1_acc_4: 0.4333 - dense_1_acc_5: 0.5167 - dense_1_acc_6: 0.6167 - dense_1_acc_7: 0.7833 - dense_1_acc_8: 0.8833 - dense_1_acc_9: 0.8333 - dense_1_acc_10: 0.8667 - dense_1_acc_11: 0.9000 - dense_1_acc_12: 0.9333 - dense_1_acc_13: 0.9667 - dense_1_acc_14: 0.9167 - dense_1_acc_15: 0.8500 - dense_1_acc_16: 0.9500 - dense_1_acc_17: 0.8833 - dense_1_acc_18: 0.9500 - dense_1_acc_19: 0.9167 - dense_1_acc_20: 0.8667 - dense_1_acc_21: 0.9500 - dense_1_acc_22: 0.9500 - dense_1_acc_23: 0.8833 - dense_1_acc_24: 0.9167 - dense_1_acc_25: 0.7500 - dense_1_acc_26: 0.9333 - dense_1_acc_27: 0.8667 - dense_1_acc_28: 0.9500 - dense_1_acc_29: 0.8333 - dense_1_acc_30: 0.0000e+00     \n",
      "Epoch 30/100\n",
      "60/60 [==============================] - 1s - loss: 32.8231 - dense_1_loss_1: 4.0328 - dense_1_loss_2: 3.1002 - dense_1_loss_3: 2.1487 - dense_1_loss_4: 1.7149 - dense_1_loss_5: 1.4359 - dense_1_loss_6: 1.2063 - dense_1_loss_7: 1.0204 - dense_1_loss_8: 0.9136 - dense_1_loss_9: 0.9049 - dense_1_loss_10: 0.8447 - dense_1_loss_11: 0.8783 - dense_1_loss_12: 0.7833 - dense_1_loss_13: 0.7086 - dense_1_loss_14: 0.7708 - dense_1_loss_15: 0.8213 - dense_1_loss_16: 0.8054 - dense_1_loss_17: 0.7959 - dense_1_loss_18: 0.7830 - dense_1_loss_19: 0.8241 - dense_1_loss_20: 0.8404 - dense_1_loss_21: 0.8282 - dense_1_loss_22: 0.8025 - dense_1_loss_23: 0.8160 - dense_1_loss_24: 0.8185 - dense_1_loss_25: 0.9136 - dense_1_loss_26: 0.7961 - dense_1_loss_27: 0.8450 - dense_1_loss_28: 0.7967 - dense_1_loss_29: 0.8730 - dense_1_loss_30: 0.0000e+00 - dense_1_acc_1: 0.0667 - dense_1_acc_2: 0.3500 - dense_1_acc_3: 0.5167 - dense_1_acc_4: 0.4500 - dense_1_acc_5: 0.5333 - dense_1_acc_6: 0.7000 - dense_1_acc_7: 0.8000 - dense_1_acc_8: 0.9000 - dense_1_acc_9: 0.8833 - dense_1_acc_10: 0.9500 - dense_1_acc_11: 0.9000 - dense_1_acc_12: 0.9500 - dense_1_acc_13: 0.9667 - dense_1_acc_14: 0.9167 - dense_1_acc_15: 0.9333 - dense_1_acc_16: 0.9333 - dense_1_acc_17: 0.9667 - dense_1_acc_18: 0.9833 - dense_1_acc_19: 0.9667 - dense_1_acc_20: 0.9167 - dense_1_acc_21: 0.9333 - dense_1_acc_22: 0.9667 - dense_1_acc_23: 0.9500 - dense_1_acc_24: 0.9500 - dense_1_acc_25: 0.8667 - dense_1_acc_26: 0.9500 - dense_1_acc_27: 0.9167 - dense_1_acc_28: 0.9667 - dense_1_acc_29: 0.8500 - dense_1_acc_30: 0.0000e+00     \n",
      "Epoch 31/100\n"
     ]
    },
    {
     "name": "stdout",
     "output_type": "stream",
     "text": [
      "60/60 [==============================] - 1s - loss: 31.0291 - dense_1_loss_1: 4.0252 - dense_1_loss_2: 3.0538 - dense_1_loss_3: 2.0755 - dense_1_loss_4: 1.6266 - dense_1_loss_5: 1.3600 - dense_1_loss_6: 1.1198 - dense_1_loss_7: 0.9462 - dense_1_loss_8: 0.8685 - dense_1_loss_9: 0.8130 - dense_1_loss_10: 0.7902 - dense_1_loss_11: 0.8155 - dense_1_loss_12: 0.7218 - dense_1_loss_13: 0.6586 - dense_1_loss_14: 0.7152 - dense_1_loss_15: 0.7780 - dense_1_loss_16: 0.7337 - dense_1_loss_17: 0.7340 - dense_1_loss_18: 0.7292 - dense_1_loss_19: 0.7521 - dense_1_loss_20: 0.7770 - dense_1_loss_21: 0.7617 - dense_1_loss_22: 0.7541 - dense_1_loss_23: 0.7535 - dense_1_loss_24: 0.7622 - dense_1_loss_25: 0.8390 - dense_1_loss_26: 0.7351 - dense_1_loss_27: 0.7690 - dense_1_loss_28: 0.7440 - dense_1_loss_29: 0.8166 - dense_1_loss_30: 0.0000e+00 - dense_1_acc_1: 0.0667 - dense_1_acc_2: 0.3500 - dense_1_acc_3: 0.5667 - dense_1_acc_4: 0.4667 - dense_1_acc_5: 0.5500 - dense_1_acc_6: 0.7833 - dense_1_acc_7: 0.9000 - dense_1_acc_8: 0.9000 - dense_1_acc_9: 0.9167 - dense_1_acc_10: 0.9667 - dense_1_acc_11: 0.9167 - dense_1_acc_12: 0.9833 - dense_1_acc_13: 0.9667 - dense_1_acc_14: 0.9167 - dense_1_acc_15: 0.9500 - dense_1_acc_16: 0.9833 - dense_1_acc_17: 0.9667 - dense_1_acc_18: 0.9833 - dense_1_acc_19: 0.9833 - dense_1_acc_20: 0.9333 - dense_1_acc_21: 0.9500 - dense_1_acc_22: 0.9667 - dense_1_acc_23: 0.9667 - dense_1_acc_24: 0.9500 - dense_1_acc_25: 0.9333 - dense_1_acc_26: 0.9833 - dense_1_acc_27: 0.9500 - dense_1_acc_28: 0.9667 - dense_1_acc_29: 0.9000 - dense_1_acc_30: 0.0000e+00     \n",
      "Epoch 32/100\n",
      "60/60 [==============================] - 1s - loss: 29.2614 - dense_1_loss_1: 4.0185 - dense_1_loss_2: 3.0049 - dense_1_loss_3: 2.0054 - dense_1_loss_4: 1.5417 - dense_1_loss_5: 1.2790 - dense_1_loss_6: 1.0414 - dense_1_loss_7: 0.8820 - dense_1_loss_8: 0.8023 - dense_1_loss_9: 0.7425 - dense_1_loss_10: 0.7231 - dense_1_loss_11: 0.7434 - dense_1_loss_12: 0.6587 - dense_1_loss_13: 0.5946 - dense_1_loss_14: 0.6431 - dense_1_loss_15: 0.7245 - dense_1_loss_16: 0.6831 - dense_1_loss_17: 0.6707 - dense_1_loss_18: 0.6761 - dense_1_loss_19: 0.6860 - dense_1_loss_20: 0.7158 - dense_1_loss_21: 0.7048 - dense_1_loss_22: 0.6959 - dense_1_loss_23: 0.7116 - dense_1_loss_24: 0.6925 - dense_1_loss_25: 0.7903 - dense_1_loss_26: 0.6781 - dense_1_loss_27: 0.7075 - dense_1_loss_28: 0.6977 - dense_1_loss_29: 0.7460 - dense_1_loss_30: 0.0000e+00 - dense_1_acc_1: 0.0667 - dense_1_acc_2: 0.3667 - dense_1_acc_3: 0.5667 - dense_1_acc_4: 0.4667 - dense_1_acc_5: 0.5833 - dense_1_acc_6: 0.7667 - dense_1_acc_7: 0.9333 - dense_1_acc_8: 0.9333 - dense_1_acc_9: 0.9333 - dense_1_acc_10: 0.9833 - dense_1_acc_11: 0.9333 - dense_1_acc_12: 1.0000 - dense_1_acc_13: 0.9833 - dense_1_acc_14: 0.9833 - dense_1_acc_15: 1.0000 - dense_1_acc_16: 0.9833 - dense_1_acc_17: 0.9833 - dense_1_acc_18: 0.9833 - dense_1_acc_19: 0.9667 - dense_1_acc_20: 0.9667 - dense_1_acc_21: 0.9833 - dense_1_acc_22: 0.9667 - dense_1_acc_23: 0.9333 - dense_1_acc_24: 0.9500 - dense_1_acc_25: 0.9333 - dense_1_acc_26: 0.9833 - dense_1_acc_27: 0.9667 - dense_1_acc_28: 0.9333 - dense_1_acc_29: 0.9000 - dense_1_acc_30: 0.0000e+00     \n",
      "Epoch 33/100\n",
      "60/60 [==============================] - 1s - loss: 27.6278 - dense_1_loss_1: 4.0124 - dense_1_loss_2: 2.9537 - dense_1_loss_3: 1.9316 - dense_1_loss_4: 1.4546 - dense_1_loss_5: 1.2025 - dense_1_loss_6: 0.9576 - dense_1_loss_7: 0.8223 - dense_1_loss_8: 0.7453 - dense_1_loss_9: 0.6839 - dense_1_loss_10: 0.6710 - dense_1_loss_11: 0.6768 - dense_1_loss_12: 0.6209 - dense_1_loss_13: 0.5366 - dense_1_loss_14: 0.5838 - dense_1_loss_15: 0.6687 - dense_1_loss_16: 0.6283 - dense_1_loss_17: 0.6213 - dense_1_loss_18: 0.6301 - dense_1_loss_19: 0.6383 - dense_1_loss_20: 0.6531 - dense_1_loss_21: 0.6626 - dense_1_loss_22: 0.6497 - dense_1_loss_23: 0.6666 - dense_1_loss_24: 0.6301 - dense_1_loss_25: 0.7208 - dense_1_loss_26: 0.6336 - dense_1_loss_27: 0.6594 - dense_1_loss_28: 0.6385 - dense_1_loss_29: 0.6733 - dense_1_loss_30: 0.0000e+00 - dense_1_acc_1: 0.0667 - dense_1_acc_2: 0.4000 - dense_1_acc_3: 0.5667 - dense_1_acc_4: 0.5000 - dense_1_acc_5: 0.6333 - dense_1_acc_6: 0.8333 - dense_1_acc_7: 0.9667 - dense_1_acc_8: 0.9333 - dense_1_acc_9: 0.9500 - dense_1_acc_10: 0.9833 - dense_1_acc_11: 0.9500 - dense_1_acc_12: 1.0000 - dense_1_acc_13: 0.9833 - dense_1_acc_14: 0.9833 - dense_1_acc_15: 1.0000 - dense_1_acc_16: 1.0000 - dense_1_acc_17: 0.9833 - dense_1_acc_18: 1.0000 - dense_1_acc_19: 0.9833 - dense_1_acc_20: 0.9833 - dense_1_acc_21: 0.9833 - dense_1_acc_22: 1.0000 - dense_1_acc_23: 0.9500 - dense_1_acc_24: 0.9500 - dense_1_acc_25: 0.9333 - dense_1_acc_26: 0.9833 - dense_1_acc_27: 1.0000 - dense_1_acc_28: 0.9667 - dense_1_acc_29: 0.9167 - dense_1_acc_30: 0.0000e+00     \n",
      "Epoch 34/100\n",
      "60/60 [==============================] - 1s - loss: 26.0604 - dense_1_loss_1: 4.0056 - dense_1_loss_2: 2.9068 - dense_1_loss_3: 1.8632 - dense_1_loss_4: 1.3773 - dense_1_loss_5: 1.1261 - dense_1_loss_6: 0.8833 - dense_1_loss_7: 0.7583 - dense_1_loss_8: 0.6876 - dense_1_loss_9: 0.6247 - dense_1_loss_10: 0.6205 - dense_1_loss_11: 0.6096 - dense_1_loss_12: 0.5767 - dense_1_loss_13: 0.4986 - dense_1_loss_14: 0.5348 - dense_1_loss_15: 0.5965 - dense_1_loss_16: 0.5752 - dense_1_loss_17: 0.5795 - dense_1_loss_18: 0.5765 - dense_1_loss_19: 0.5807 - dense_1_loss_20: 0.6050 - dense_1_loss_21: 0.6142 - dense_1_loss_22: 0.6103 - dense_1_loss_23: 0.6024 - dense_1_loss_24: 0.5867 - dense_1_loss_25: 0.6509 - dense_1_loss_26: 0.5780 - dense_1_loss_27: 0.6216 - dense_1_loss_28: 0.5875 - dense_1_loss_29: 0.6223 - dense_1_loss_30: 0.0000e+00 - dense_1_acc_1: 0.0667 - dense_1_acc_2: 0.4333 - dense_1_acc_3: 0.5667 - dense_1_acc_4: 0.5167 - dense_1_acc_5: 0.6333 - dense_1_acc_6: 0.8500 - dense_1_acc_7: 0.9667 - dense_1_acc_8: 0.9333 - dense_1_acc_9: 0.9333 - dense_1_acc_10: 0.9833 - dense_1_acc_11: 0.9500 - dense_1_acc_12: 1.0000 - dense_1_acc_13: 0.9833 - dense_1_acc_14: 1.0000 - dense_1_acc_15: 1.0000 - dense_1_acc_16: 1.0000 - dense_1_acc_17: 1.0000 - dense_1_acc_18: 1.0000 - dense_1_acc_19: 0.9833 - dense_1_acc_20: 0.9833 - dense_1_acc_21: 0.9833 - dense_1_acc_22: 1.0000 - dense_1_acc_23: 1.0000 - dense_1_acc_24: 0.9833 - dense_1_acc_25: 0.9500 - dense_1_acc_26: 0.9833 - dense_1_acc_27: 1.0000 - dense_1_acc_28: 0.9833 - dense_1_acc_29: 0.9667 - dense_1_acc_30: 0.0000e+00     \n",
      "Epoch 35/100\n",
      "60/60 [==============================] - 1s - loss: 24.6293 - dense_1_loss_1: 3.9991 - dense_1_loss_2: 2.8567 - dense_1_loss_3: 1.7931 - dense_1_loss_4: 1.2955 - dense_1_loss_5: 1.0537 - dense_1_loss_6: 0.8197 - dense_1_loss_7: 0.7017 - dense_1_loss_8: 0.6321 - dense_1_loss_9: 0.5760 - dense_1_loss_10: 0.5752 - dense_1_loss_11: 0.5630 - dense_1_loss_12: 0.5199 - dense_1_loss_13: 0.4576 - dense_1_loss_14: 0.4873 - dense_1_loss_15: 0.5519 - dense_1_loss_16: 0.5315 - dense_1_loss_17: 0.5286 - dense_1_loss_18: 0.5254 - dense_1_loss_19: 0.5284 - dense_1_loss_20: 0.5635 - dense_1_loss_21: 0.5720 - dense_1_loss_22: 0.5650 - dense_1_loss_23: 0.5498 - dense_1_loss_24: 0.5448 - dense_1_loss_25: 0.6168 - dense_1_loss_26: 0.5345 - dense_1_loss_27: 0.5550 - dense_1_loss_28: 0.5437 - dense_1_loss_29: 0.5876 - dense_1_loss_30: 0.0000e+00 - dense_1_acc_1: 0.0667 - dense_1_acc_2: 0.4333 - dense_1_acc_3: 0.5667 - dense_1_acc_4: 0.5333 - dense_1_acc_5: 0.7500 - dense_1_acc_6: 0.8667 - dense_1_acc_7: 0.9667 - dense_1_acc_8: 0.9167 - dense_1_acc_9: 0.9333 - dense_1_acc_10: 0.9833 - dense_1_acc_11: 0.9667 - dense_1_acc_12: 1.0000 - dense_1_acc_13: 1.0000 - dense_1_acc_14: 1.0000 - dense_1_acc_15: 1.0000 - dense_1_acc_16: 1.0000 - dense_1_acc_17: 1.0000 - dense_1_acc_18: 1.0000 - dense_1_acc_19: 0.9833 - dense_1_acc_20: 0.9833 - dense_1_acc_21: 0.9833 - dense_1_acc_22: 1.0000 - dense_1_acc_23: 1.0000 - dense_1_acc_24: 0.9833 - dense_1_acc_25: 0.9500 - dense_1_acc_26: 0.9833 - dense_1_acc_27: 1.0000 - dense_1_acc_28: 0.9833 - dense_1_acc_29: 0.9500 - dense_1_acc_30: 0.0000e+00     \n",
      "Epoch 36/100\n",
      "60/60 [==============================] - 1s - loss: 23.2321 - dense_1_loss_1: 3.9932 - dense_1_loss_2: 2.8090 - dense_1_loss_3: 1.7261 - dense_1_loss_4: 1.2151 - dense_1_loss_5: 0.9874 - dense_1_loss_6: 0.7515 - dense_1_loss_7: 0.6509 - dense_1_loss_8: 0.5804 - dense_1_loss_9: 0.5322 - dense_1_loss_10: 0.5293 - dense_1_loss_11: 0.5244 - dense_1_loss_12: 0.4680 - dense_1_loss_13: 0.4172 - dense_1_loss_14: 0.4420 - dense_1_loss_15: 0.5108 - dense_1_loss_16: 0.4831 - dense_1_loss_17: 0.4855 - dense_1_loss_18: 0.4830 - dense_1_loss_19: 0.4815 - dense_1_loss_20: 0.5151 - dense_1_loss_21: 0.5250 - dense_1_loss_22: 0.5076 - dense_1_loss_23: 0.5186 - dense_1_loss_24: 0.4999 - dense_1_loss_25: 0.5628 - dense_1_loss_26: 0.4916 - dense_1_loss_27: 0.4964 - dense_1_loss_28: 0.5050 - dense_1_loss_29: 0.5393 - dense_1_loss_30: 0.0000e+00 - dense_1_acc_1: 0.0667 - dense_1_acc_2: 0.4333 - dense_1_acc_3: 0.6000 - dense_1_acc_4: 0.5333 - dense_1_acc_5: 0.8333 - dense_1_acc_6: 0.9167 - dense_1_acc_7: 0.9667 - dense_1_acc_8: 0.9333 - dense_1_acc_9: 0.9667 - dense_1_acc_10: 1.0000 - dense_1_acc_11: 1.0000 - dense_1_acc_12: 1.0000 - dense_1_acc_13: 1.0000 - dense_1_acc_14: 1.0000 - dense_1_acc_15: 1.0000 - dense_1_acc_16: 1.0000 - dense_1_acc_17: 1.0000 - dense_1_acc_18: 1.0000 - dense_1_acc_19: 1.0000 - dense_1_acc_20: 0.9833 - dense_1_acc_21: 0.9833 - dense_1_acc_22: 1.0000 - dense_1_acc_23: 1.0000 - dense_1_acc_24: 0.9833 - dense_1_acc_25: 0.9500 - dense_1_acc_26: 0.9833 - dense_1_acc_27: 1.0000 - dense_1_acc_28: 0.9833 - dense_1_acc_29: 0.9667 - dense_1_acc_30: 0.0000e+00     \n",
      "Epoch 37/100\n",
      "60/60 [==============================] - 1s - loss: 21.9660 - dense_1_loss_1: 3.9866 - dense_1_loss_2: 2.7610 - dense_1_loss_3: 1.6623 - dense_1_loss_4: 1.1456 - dense_1_loss_5: 0.9196 - dense_1_loss_6: 0.6968 - dense_1_loss_7: 0.6004 - dense_1_loss_8: 0.5387 - dense_1_loss_9: 0.4924 - dense_1_loss_10: 0.4856 - dense_1_loss_11: 0.4838 - dense_1_loss_12: 0.4285 - dense_1_loss_13: 0.3784 - dense_1_loss_14: 0.4070 - dense_1_loss_15: 0.4672 - dense_1_loss_16: 0.4402 - dense_1_loss_17: 0.4416 - dense_1_loss_18: 0.4429 - dense_1_loss_19: 0.4512 - dense_1_loss_20: 0.4698 - dense_1_loss_21: 0.4803 - dense_1_loss_22: 0.4535 - dense_1_loss_23: 0.4802 - dense_1_loss_24: 0.4617 - dense_1_loss_25: 0.5168 - dense_1_loss_26: 0.4509 - dense_1_loss_27: 0.4585 - dense_1_loss_28: 0.4699 - dense_1_loss_29: 0.4947 - dense_1_loss_30: 0.0000e+00 - dense_1_acc_1: 0.0667 - dense_1_acc_2: 0.4333 - dense_1_acc_3: 0.6167 - dense_1_acc_4: 0.5333 - dense_1_acc_5: 0.8333 - dense_1_acc_6: 0.9500 - dense_1_acc_7: 0.9667 - dense_1_acc_8: 0.9500 - dense_1_acc_9: 0.9667 - dense_1_acc_10: 1.0000 - dense_1_acc_11: 1.0000 - dense_1_acc_12: 1.0000 - dense_1_acc_13: 1.0000 - dense_1_acc_14: 1.0000 - dense_1_acc_15: 1.0000 - dense_1_acc_16: 1.0000 - dense_1_acc_17: 1.0000 - dense_1_acc_18: 1.0000 - dense_1_acc_19: 1.0000 - dense_1_acc_20: 0.9833 - dense_1_acc_21: 0.9833 - dense_1_acc_22: 1.0000 - dense_1_acc_23: 1.0000 - dense_1_acc_24: 0.9833 - dense_1_acc_25: 0.9500 - dense_1_acc_26: 0.9833 - dense_1_acc_27: 1.0000 - dense_1_acc_28: 0.9833 - dense_1_acc_29: 0.9667 - dense_1_acc_30: 0.0000e+00     \n",
      "Epoch 38/100\n",
      "60/60 [==============================] - 1s - loss: 20.7878 - dense_1_loss_1: 3.9805 - dense_1_loss_2: 2.7162 - dense_1_loss_3: 1.6025 - dense_1_loss_4: 1.0792 - dense_1_loss_5: 0.8551 - dense_1_loss_6: 0.6424 - dense_1_loss_7: 0.5503 - dense_1_loss_8: 0.5009 - dense_1_loss_9: 0.4496 - dense_1_loss_10: 0.4509 - dense_1_loss_11: 0.4470 - dense_1_loss_12: 0.3895 - dense_1_loss_13: 0.3458 - dense_1_loss_14: 0.3711 - dense_1_loss_15: 0.4262 - dense_1_loss_16: 0.4050 - dense_1_loss_17: 0.3977 - dense_1_loss_18: 0.4068 - dense_1_loss_19: 0.4200 - dense_1_loss_20: 0.4268 - dense_1_loss_21: 0.4431 - dense_1_loss_22: 0.4234 - dense_1_loss_23: 0.4302 - dense_1_loss_24: 0.4167 - dense_1_loss_25: 0.4831 - dense_1_loss_26: 0.4203 - dense_1_loss_27: 0.4239 - dense_1_loss_28: 0.4275 - dense_1_loss_29: 0.4562 - dense_1_loss_30: 0.0000e+00 - dense_1_acc_1: 0.0667 - dense_1_acc_2: 0.4333 - dense_1_acc_3: 0.6500 - dense_1_acc_4: 0.5667 - dense_1_acc_5: 0.8667 - dense_1_acc_6: 0.9667 - dense_1_acc_7: 0.9833 - dense_1_acc_8: 0.9333 - dense_1_acc_9: 0.9833 - dense_1_acc_10: 1.0000 - dense_1_acc_11: 1.0000 - dense_1_acc_12: 1.0000 - dense_1_acc_13: 1.0000 - dense_1_acc_14: 1.0000 - dense_1_acc_15: 1.0000 - dense_1_acc_16: 1.0000 - dense_1_acc_17: 1.0000 - dense_1_acc_18: 1.0000 - dense_1_acc_19: 1.0000 - dense_1_acc_20: 1.0000 - dense_1_acc_21: 0.9833 - dense_1_acc_22: 1.0000 - dense_1_acc_23: 1.0000 - dense_1_acc_24: 0.9833 - dense_1_acc_25: 0.9500 - dense_1_acc_26: 0.9833 - dense_1_acc_27: 1.0000 - dense_1_acc_28: 0.9833 - dense_1_acc_29: 0.9667 - dense_1_acc_30: 0.0000e+00     \n",
      "Epoch 39/100\n",
      "60/60 [==============================] - 1s - loss: 19.6807 - dense_1_loss_1: 3.9748 - dense_1_loss_2: 2.6700 - dense_1_loss_3: 1.5428 - dense_1_loss_4: 1.0135 - dense_1_loss_5: 0.7982 - dense_1_loss_6: 0.5902 - dense_1_loss_7: 0.5055 - dense_1_loss_8: 0.4598 - dense_1_loss_9: 0.4135 - dense_1_loss_10: 0.4105 - dense_1_loss_11: 0.4100 - dense_1_loss_12: 0.3560 - dense_1_loss_13: 0.3156 - dense_1_loss_14: 0.3442 - dense_1_loss_15: 0.3847 - dense_1_loss_16: 0.3730 - dense_1_loss_17: 0.3573 - dense_1_loss_18: 0.3780 - dense_1_loss_19: 0.3725 - dense_1_loss_20: 0.3902 - dense_1_loss_21: 0.4042 - dense_1_loss_22: 0.3947 - dense_1_loss_23: 0.3971 - dense_1_loss_24: 0.3794 - dense_1_loss_25: 0.4401 - dense_1_loss_26: 0.3777 - dense_1_loss_27: 0.4035 - dense_1_loss_28: 0.3975 - dense_1_loss_29: 0.4262 - dense_1_loss_30: 0.0000e+00 - dense_1_acc_1: 0.0667 - dense_1_acc_2: 0.4333 - dense_1_acc_3: 0.6500 - dense_1_acc_4: 0.6500 - dense_1_acc_5: 0.8667 - dense_1_acc_6: 0.9833 - dense_1_acc_7: 0.9833 - dense_1_acc_8: 0.9667 - dense_1_acc_9: 0.9833 - dense_1_acc_10: 1.0000 - dense_1_acc_11: 1.0000 - dense_1_acc_12: 1.0000 - dense_1_acc_13: 1.0000 - dense_1_acc_14: 1.0000 - dense_1_acc_15: 1.0000 - dense_1_acc_16: 1.0000 - dense_1_acc_17: 1.0000 - dense_1_acc_18: 1.0000 - dense_1_acc_19: 1.0000 - dense_1_acc_20: 1.0000 - dense_1_acc_21: 0.9833 - dense_1_acc_22: 1.0000 - dense_1_acc_23: 1.0000 - dense_1_acc_24: 1.0000 - dense_1_acc_25: 0.9667 - dense_1_acc_26: 0.9833 - dense_1_acc_27: 1.0000 - dense_1_acc_28: 0.9833 - dense_1_acc_29: 0.9667 - dense_1_acc_30: 0.0000e+00     \n",
      "Epoch 40/100\n",
      "60/60 [==============================] - 1s - loss: 18.6470 - dense_1_loss_1: 3.9687 - dense_1_loss_2: 2.6248 - dense_1_loss_3: 1.4821 - dense_1_loss_4: 0.9457 - dense_1_loss_5: 0.7439 - dense_1_loss_6: 0.5475 - dense_1_loss_7: 0.4639 - dense_1_loss_8: 0.4262 - dense_1_loss_9: 0.3735 - dense_1_loss_10: 0.3726 - dense_1_loss_11: 0.3732 - dense_1_loss_12: 0.3220 - dense_1_loss_13: 0.2879 - dense_1_loss_14: 0.3118 - dense_1_loss_15: 0.3602 - dense_1_loss_16: 0.3445 - dense_1_loss_17: 0.3336 - dense_1_loss_18: 0.3368 - dense_1_loss_19: 0.3418 - dense_1_loss_20: 0.3664 - dense_1_loss_21: 0.3786 - dense_1_loss_22: 0.3543 - dense_1_loss_23: 0.3723 - dense_1_loss_24: 0.3525 - dense_1_loss_25: 0.3999 - dense_1_loss_26: 0.3562 - dense_1_loss_27: 0.3555 - dense_1_loss_28: 0.3632 - dense_1_loss_29: 0.3873 - dense_1_loss_30: 0.0000e+00 - dense_1_acc_1: 0.0667 - dense_1_acc_2: 0.4500 - dense_1_acc_3: 0.6500 - dense_1_acc_4: 0.8000 - dense_1_acc_5: 0.8667 - dense_1_acc_6: 0.9833 - dense_1_acc_7: 0.9833 - dense_1_acc_8: 0.9833 - dense_1_acc_9: 0.9833 - dense_1_acc_10: 1.0000 - dense_1_acc_11: 1.0000 - dense_1_acc_12: 1.0000 - dense_1_acc_13: 1.0000 - dense_1_acc_14: 1.0000 - dense_1_acc_15: 1.0000 - dense_1_acc_16: 1.0000 - dense_1_acc_17: 1.0000 - dense_1_acc_18: 1.0000 - dense_1_acc_19: 1.0000 - dense_1_acc_20: 1.0000 - dense_1_acc_21: 0.9833 - dense_1_acc_22: 1.0000 - dense_1_acc_23: 1.0000 - dense_1_acc_24: 1.0000 - dense_1_acc_25: 0.9833 - dense_1_acc_26: 0.9833 - dense_1_acc_27: 1.0000 - dense_1_acc_28: 0.9833 - dense_1_acc_29: 0.9667 - dense_1_acc_30: 0.0000e+00     \n",
      "Epoch 41/100\n"
     ]
    },
    {
     "name": "stdout",
     "output_type": "stream",
     "text": [
      "60/60 [==============================] - 1s - loss: 17.7069 - dense_1_loss_1: 3.9634 - dense_1_loss_2: 2.5797 - dense_1_loss_3: 1.4248 - dense_1_loss_4: 0.8848 - dense_1_loss_5: 0.6940 - dense_1_loss_6: 0.5081 - dense_1_loss_7: 0.4304 - dense_1_loss_8: 0.3901 - dense_1_loss_9: 0.3460 - dense_1_loss_10: 0.3456 - dense_1_loss_11: 0.3421 - dense_1_loss_12: 0.2996 - dense_1_loss_13: 0.2604 - dense_1_loss_14: 0.2902 - dense_1_loss_15: 0.3310 - dense_1_loss_16: 0.3138 - dense_1_loss_17: 0.3057 - dense_1_loss_18: 0.3078 - dense_1_loss_19: 0.3165 - dense_1_loss_20: 0.3333 - dense_1_loss_21: 0.3451 - dense_1_loss_22: 0.3266 - dense_1_loss_23: 0.3366 - dense_1_loss_24: 0.3225 - dense_1_loss_25: 0.3638 - dense_1_loss_26: 0.3230 - dense_1_loss_27: 0.3277 - dense_1_loss_28: 0.3380 - dense_1_loss_29: 0.3566 - dense_1_loss_30: 0.0000e+00 - dense_1_acc_1: 0.0667 - dense_1_acc_2: 0.4667 - dense_1_acc_3: 0.6500 - dense_1_acc_4: 0.8167 - dense_1_acc_5: 0.9167 - dense_1_acc_6: 0.9833 - dense_1_acc_7: 0.9833 - dense_1_acc_8: 0.9833 - dense_1_acc_9: 0.9833 - dense_1_acc_10: 1.0000 - dense_1_acc_11: 1.0000 - dense_1_acc_12: 1.0000 - dense_1_acc_13: 1.0000 - dense_1_acc_14: 1.0000 - dense_1_acc_15: 1.0000 - dense_1_acc_16: 1.0000 - dense_1_acc_17: 1.0000 - dense_1_acc_18: 1.0000 - dense_1_acc_19: 1.0000 - dense_1_acc_20: 1.0000 - dense_1_acc_21: 0.9833 - dense_1_acc_22: 1.0000 - dense_1_acc_23: 1.0000 - dense_1_acc_24: 1.0000 - dense_1_acc_25: 0.9833 - dense_1_acc_26: 0.9833 - dense_1_acc_27: 1.0000 - dense_1_acc_28: 0.9833 - dense_1_acc_29: 0.9833 - dense_1_acc_30: 0.0000e+00     \n",
      "Epoch 42/100\n",
      "60/60 [==============================] - 1s - loss: 16.8374 - dense_1_loss_1: 3.9574 - dense_1_loss_2: 2.5388 - dense_1_loss_3: 1.3700 - dense_1_loss_4: 0.8280 - dense_1_loss_5: 0.6458 - dense_1_loss_6: 0.4702 - dense_1_loss_7: 0.3958 - dense_1_loss_8: 0.3585 - dense_1_loss_9: 0.3222 - dense_1_loss_10: 0.3199 - dense_1_loss_11: 0.3125 - dense_1_loss_12: 0.2748 - dense_1_loss_13: 0.2355 - dense_1_loss_14: 0.2701 - dense_1_loss_15: 0.3002 - dense_1_loss_16: 0.2826 - dense_1_loss_17: 0.2764 - dense_1_loss_18: 0.2824 - dense_1_loss_19: 0.2916 - dense_1_loss_20: 0.2997 - dense_1_loss_21: 0.3180 - dense_1_loss_22: 0.3015 - dense_1_loss_23: 0.3059 - dense_1_loss_24: 0.2932 - dense_1_loss_25: 0.3343 - dense_1_loss_26: 0.2926 - dense_1_loss_27: 0.3109 - dense_1_loss_28: 0.3124 - dense_1_loss_29: 0.3363 - dense_1_loss_30: 0.0000e+00 - dense_1_acc_1: 0.0667 - dense_1_acc_2: 0.4667 - dense_1_acc_3: 0.6500 - dense_1_acc_4: 0.8333 - dense_1_acc_5: 0.9333 - dense_1_acc_6: 0.9667 - dense_1_acc_7: 0.9833 - dense_1_acc_8: 0.9833 - dense_1_acc_9: 0.9833 - dense_1_acc_10: 1.0000 - dense_1_acc_11: 1.0000 - dense_1_acc_12: 1.0000 - dense_1_acc_13: 1.0000 - dense_1_acc_14: 1.0000 - dense_1_acc_15: 1.0000 - dense_1_acc_16: 1.0000 - dense_1_acc_17: 1.0000 - dense_1_acc_18: 1.0000 - dense_1_acc_19: 1.0000 - dense_1_acc_20: 1.0000 - dense_1_acc_21: 1.0000 - dense_1_acc_22: 1.0000 - dense_1_acc_23: 1.0000 - dense_1_acc_24: 1.0000 - dense_1_acc_25: 1.0000 - dense_1_acc_26: 0.9833 - dense_1_acc_27: 1.0000 - dense_1_acc_28: 0.9833 - dense_1_acc_29: 0.9833 - dense_1_acc_30: 0.0000e+00     \n",
      "Epoch 43/100\n",
      "60/60 [==============================] - 1s - loss: 16.0491 - dense_1_loss_1: 3.9523 - dense_1_loss_2: 2.4929 - dense_1_loss_3: 1.3170 - dense_1_loss_4: 0.7726 - dense_1_loss_5: 0.6014 - dense_1_loss_6: 0.4376 - dense_1_loss_7: 0.3636 - dense_1_loss_8: 0.3351 - dense_1_loss_9: 0.2964 - dense_1_loss_10: 0.2949 - dense_1_loss_11: 0.2879 - dense_1_loss_12: 0.2499 - dense_1_loss_13: 0.2191 - dense_1_loss_14: 0.2495 - dense_1_loss_15: 0.2759 - dense_1_loss_16: 0.2608 - dense_1_loss_17: 0.2584 - dense_1_loss_18: 0.2590 - dense_1_loss_19: 0.2693 - dense_1_loss_20: 0.2800 - dense_1_loss_21: 0.2953 - dense_1_loss_22: 0.2775 - dense_1_loss_23: 0.2786 - dense_1_loss_24: 0.2650 - dense_1_loss_25: 0.3114 - dense_1_loss_26: 0.2758 - dense_1_loss_27: 0.2772 - dense_1_loss_28: 0.2871 - dense_1_loss_29: 0.3075 - dense_1_loss_30: 0.0000e+00 - dense_1_acc_1: 0.0667 - dense_1_acc_2: 0.4667 - dense_1_acc_3: 0.6500 - dense_1_acc_4: 0.8667 - dense_1_acc_5: 0.9500 - dense_1_acc_6: 0.9667 - dense_1_acc_7: 0.9833 - dense_1_acc_8: 0.9833 - dense_1_acc_9: 0.9833 - dense_1_acc_10: 1.0000 - dense_1_acc_11: 1.0000 - dense_1_acc_12: 1.0000 - dense_1_acc_13: 1.0000 - dense_1_acc_14: 1.0000 - dense_1_acc_15: 1.0000 - dense_1_acc_16: 1.0000 - dense_1_acc_17: 1.0000 - dense_1_acc_18: 1.0000 - dense_1_acc_19: 1.0000 - dense_1_acc_20: 1.0000 - dense_1_acc_21: 1.0000 - dense_1_acc_22: 1.0000 - dense_1_acc_23: 1.0000 - dense_1_acc_24: 1.0000 - dense_1_acc_25: 0.9833 - dense_1_acc_26: 1.0000 - dense_1_acc_27: 1.0000 - dense_1_acc_28: 0.9833 - dense_1_acc_29: 0.9833 - dense_1_acc_30: 0.0000e+00     \n",
      "Epoch 44/100\n",
      "60/60 [==============================] - 1s - loss: 15.3053 - dense_1_loss_1: 3.9466 - dense_1_loss_2: 2.4515 - dense_1_loss_3: 1.2677 - dense_1_loss_4: 0.7188 - dense_1_loss_5: 0.5633 - dense_1_loss_6: 0.4062 - dense_1_loss_7: 0.3378 - dense_1_loss_8: 0.3085 - dense_1_loss_9: 0.2729 - dense_1_loss_10: 0.2702 - dense_1_loss_11: 0.2616 - dense_1_loss_12: 0.2273 - dense_1_loss_13: 0.2024 - dense_1_loss_14: 0.2279 - dense_1_loss_15: 0.2548 - dense_1_loss_16: 0.2378 - dense_1_loss_17: 0.2382 - dense_1_loss_18: 0.2400 - dense_1_loss_19: 0.2390 - dense_1_loss_20: 0.2577 - dense_1_loss_21: 0.2688 - dense_1_loss_22: 0.2560 - dense_1_loss_23: 0.2562 - dense_1_loss_24: 0.2430 - dense_1_loss_25: 0.2860 - dense_1_loss_26: 0.2471 - dense_1_loss_27: 0.2591 - dense_1_loss_28: 0.2706 - dense_1_loss_29: 0.2884 - dense_1_loss_30: 0.0000e+00 - dense_1_acc_1: 0.0667 - dense_1_acc_2: 0.4667 - dense_1_acc_3: 0.6500 - dense_1_acc_4: 0.8833 - dense_1_acc_5: 0.9500 - dense_1_acc_6: 0.9833 - dense_1_acc_7: 0.9833 - dense_1_acc_8: 0.9833 - dense_1_acc_9: 0.9833 - dense_1_acc_10: 1.0000 - dense_1_acc_11: 1.0000 - dense_1_acc_12: 1.0000 - dense_1_acc_13: 1.0000 - dense_1_acc_14: 1.0000 - dense_1_acc_15: 1.0000 - dense_1_acc_16: 1.0000 - dense_1_acc_17: 1.0000 - dense_1_acc_18: 1.0000 - dense_1_acc_19: 1.0000 - dense_1_acc_20: 1.0000 - dense_1_acc_21: 1.0000 - dense_1_acc_22: 1.0000 - dense_1_acc_23: 1.0000 - dense_1_acc_24: 1.0000 - dense_1_acc_25: 1.0000 - dense_1_acc_26: 0.9833 - dense_1_acc_27: 1.0000 - dense_1_acc_28: 0.9833 - dense_1_acc_29: 0.9833 - dense_1_acc_30: 0.0000e+00     \n",
      "Epoch 45/100\n",
      "60/60 [==============================] - 1s - loss: 14.6257 - dense_1_loss_1: 3.9424 - dense_1_loss_2: 2.4096 - dense_1_loss_3: 1.2173 - dense_1_loss_4: 0.6743 - dense_1_loss_5: 0.5227 - dense_1_loss_6: 0.3773 - dense_1_loss_7: 0.3123 - dense_1_loss_8: 0.2831 - dense_1_loss_9: 0.2523 - dense_1_loss_10: 0.2512 - dense_1_loss_11: 0.2365 - dense_1_loss_12: 0.2111 - dense_1_loss_13: 0.1837 - dense_1_loss_14: 0.2111 - dense_1_loss_15: 0.2349 - dense_1_loss_16: 0.2194 - dense_1_loss_17: 0.2202 - dense_1_loss_18: 0.2200 - dense_1_loss_19: 0.2204 - dense_1_loss_20: 0.2350 - dense_1_loss_21: 0.2488 - dense_1_loss_22: 0.2340 - dense_1_loss_23: 0.2335 - dense_1_loss_24: 0.2242 - dense_1_loss_25: 0.2598 - dense_1_loss_26: 0.2268 - dense_1_loss_27: 0.2417 - dense_1_loss_28: 0.2487 - dense_1_loss_29: 0.2735 - dense_1_loss_30: 0.0000e+00 - dense_1_acc_1: 0.0667 - dense_1_acc_2: 0.4500 - dense_1_acc_3: 0.6500 - dense_1_acc_4: 0.9167 - dense_1_acc_5: 0.9500 - dense_1_acc_6: 0.9833 - dense_1_acc_7: 0.9833 - dense_1_acc_8: 0.9833 - dense_1_acc_9: 0.9833 - dense_1_acc_10: 1.0000 - dense_1_acc_11: 1.0000 - dense_1_acc_12: 1.0000 - dense_1_acc_13: 1.0000 - dense_1_acc_14: 1.0000 - dense_1_acc_15: 1.0000 - dense_1_acc_16: 1.0000 - dense_1_acc_17: 1.0000 - dense_1_acc_18: 1.0000 - dense_1_acc_19: 1.0000 - dense_1_acc_20: 1.0000 - dense_1_acc_21: 1.0000 - dense_1_acc_22: 1.0000 - dense_1_acc_23: 1.0000 - dense_1_acc_24: 1.0000 - dense_1_acc_25: 1.0000 - dense_1_acc_26: 0.9833 - dense_1_acc_27: 1.0000 - dense_1_acc_28: 0.9833 - dense_1_acc_29: 0.9833 - dense_1_acc_30: 0.0000e+00     \n",
      "Epoch 46/100\n",
      "60/60 [==============================] - 1s - loss: 14.0415 - dense_1_loss_1: 3.9367 - dense_1_loss_2: 2.3681 - dense_1_loss_3: 1.1759 - dense_1_loss_4: 0.6314 - dense_1_loss_5: 0.4865 - dense_1_loss_6: 0.3539 - dense_1_loss_7: 0.2897 - dense_1_loss_8: 0.2617 - dense_1_loss_9: 0.2347 - dense_1_loss_10: 0.2305 - dense_1_loss_11: 0.2184 - dense_1_loss_12: 0.1965 - dense_1_loss_13: 0.1688 - dense_1_loss_14: 0.2003 - dense_1_loss_15: 0.2134 - dense_1_loss_16: 0.2037 - dense_1_loss_17: 0.2070 - dense_1_loss_18: 0.1988 - dense_1_loss_19: 0.2114 - dense_1_loss_20: 0.2164 - dense_1_loss_21: 0.2366 - dense_1_loss_22: 0.2166 - dense_1_loss_23: 0.2187 - dense_1_loss_24: 0.2055 - dense_1_loss_25: 0.2448 - dense_1_loss_26: 0.2113 - dense_1_loss_27: 0.2176 - dense_1_loss_28: 0.2242 - dense_1_loss_29: 0.2622 - dense_1_loss_30: 0.0000e+00 - dense_1_acc_1: 0.0667 - dense_1_acc_2: 0.4667 - dense_1_acc_3: 0.6500 - dense_1_acc_4: 0.9167 - dense_1_acc_5: 0.9500 - dense_1_acc_6: 0.9667 - dense_1_acc_7: 0.9833 - dense_1_acc_8: 0.9833 - dense_1_acc_9: 0.9833 - dense_1_acc_10: 1.0000 - dense_1_acc_11: 1.0000 - dense_1_acc_12: 1.0000 - dense_1_acc_13: 1.0000 - dense_1_acc_14: 1.0000 - dense_1_acc_15: 1.0000 - dense_1_acc_16: 1.0000 - dense_1_acc_17: 1.0000 - dense_1_acc_18: 1.0000 - dense_1_acc_19: 1.0000 - dense_1_acc_20: 1.0000 - dense_1_acc_21: 1.0000 - dense_1_acc_22: 1.0000 - dense_1_acc_23: 1.0000 - dense_1_acc_24: 1.0000 - dense_1_acc_25: 0.9833 - dense_1_acc_26: 1.0000 - dense_1_acc_27: 1.0000 - dense_1_acc_28: 0.9833 - dense_1_acc_29: 0.9833 - dense_1_acc_30: 0.0000e+00     \n",
      "Epoch 47/100\n",
      "60/60 [==============================] - 1s - loss: 13.4818 - dense_1_loss_1: 3.9319 - dense_1_loss_2: 2.3285 - dense_1_loss_3: 1.1348 - dense_1_loss_4: 0.5904 - dense_1_loss_5: 0.4532 - dense_1_loss_6: 0.3294 - dense_1_loss_7: 0.2675 - dense_1_loss_8: 0.2390 - dense_1_loss_9: 0.2205 - dense_1_loss_10: 0.2113 - dense_1_loss_11: 0.2038 - dense_1_loss_12: 0.1806 - dense_1_loss_13: 0.1544 - dense_1_loss_14: 0.1886 - dense_1_loss_15: 0.1940 - dense_1_loss_16: 0.1846 - dense_1_loss_17: 0.1833 - dense_1_loss_18: 0.1925 - dense_1_loss_19: 0.1907 - dense_1_loss_20: 0.1973 - dense_1_loss_21: 0.2084 - dense_1_loss_22: 0.2038 - dense_1_loss_23: 0.1956 - dense_1_loss_24: 0.1957 - dense_1_loss_25: 0.2236 - dense_1_loss_26: 0.1909 - dense_1_loss_27: 0.2196 - dense_1_loss_28: 0.2312 - dense_1_loss_29: 0.2366 - dense_1_loss_30: 0.0000e+00 - dense_1_acc_1: 0.0667 - dense_1_acc_2: 0.4833 - dense_1_acc_3: 0.6833 - dense_1_acc_4: 0.9333 - dense_1_acc_5: 0.9500 - dense_1_acc_6: 0.9667 - dense_1_acc_7: 0.9833 - dense_1_acc_8: 1.0000 - dense_1_acc_9: 0.9833 - dense_1_acc_10: 1.0000 - dense_1_acc_11: 1.0000 - dense_1_acc_12: 1.0000 - dense_1_acc_13: 1.0000 - dense_1_acc_14: 1.0000 - dense_1_acc_15: 1.0000 - dense_1_acc_16: 1.0000 - dense_1_acc_17: 1.0000 - dense_1_acc_18: 1.0000 - dense_1_acc_19: 1.0000 - dense_1_acc_20: 1.0000 - dense_1_acc_21: 1.0000 - dense_1_acc_22: 1.0000 - dense_1_acc_23: 1.0000 - dense_1_acc_24: 1.0000 - dense_1_acc_25: 1.0000 - dense_1_acc_26: 0.9833 - dense_1_acc_27: 0.9833 - dense_1_acc_28: 0.9833 - dense_1_acc_29: 0.9833 - dense_1_acc_30: 0.0000e+00     \n",
      "Epoch 48/100\n",
      "60/60 [==============================] - 1s - loss: 12.9692 - dense_1_loss_1: 3.9274 - dense_1_loss_2: 2.2888 - dense_1_loss_3: 1.0959 - dense_1_loss_4: 0.5530 - dense_1_loss_5: 0.4274 - dense_1_loss_6: 0.3073 - dense_1_loss_7: 0.2492 - dense_1_loss_8: 0.2240 - dense_1_loss_9: 0.2022 - dense_1_loss_10: 0.1972 - dense_1_loss_11: 0.1872 - dense_1_loss_12: 0.1689 - dense_1_loss_13: 0.1412 - dense_1_loss_14: 0.1677 - dense_1_loss_15: 0.1882 - dense_1_loss_16: 0.1750 - dense_1_loss_17: 0.1751 - dense_1_loss_18: 0.1692 - dense_1_loss_19: 0.1786 - dense_1_loss_20: 0.1908 - dense_1_loss_21: 0.2016 - dense_1_loss_22: 0.1823 - dense_1_loss_23: 0.1827 - dense_1_loss_24: 0.1749 - dense_1_loss_25: 0.2175 - dense_1_loss_26: 0.1906 - dense_1_loss_27: 0.1832 - dense_1_loss_28: 0.1983 - dense_1_loss_29: 0.2238 - dense_1_loss_30: 0.0000e+00 - dense_1_acc_1: 0.0667 - dense_1_acc_2: 0.4833 - dense_1_acc_3: 0.7000 - dense_1_acc_4: 0.9333 - dense_1_acc_5: 0.9500 - dense_1_acc_6: 0.9833 - dense_1_acc_7: 0.9833 - dense_1_acc_8: 1.0000 - dense_1_acc_9: 1.0000 - dense_1_acc_10: 1.0000 - dense_1_acc_11: 1.0000 - dense_1_acc_12: 1.0000 - dense_1_acc_13: 1.0000 - dense_1_acc_14: 1.0000 - dense_1_acc_15: 1.0000 - dense_1_acc_16: 1.0000 - dense_1_acc_17: 1.0000 - dense_1_acc_18: 1.0000 - dense_1_acc_19: 1.0000 - dense_1_acc_20: 1.0000 - dense_1_acc_21: 1.0000 - dense_1_acc_22: 1.0000 - dense_1_acc_23: 1.0000 - dense_1_acc_24: 1.0000 - dense_1_acc_25: 0.9833 - dense_1_acc_26: 1.0000 - dense_1_acc_27: 1.0000 - dense_1_acc_28: 0.9833 - dense_1_acc_29: 1.0000 - dense_1_acc_30: 0.0000e+00     \n",
      "Epoch 49/100\n",
      "60/60 [==============================] - 1s - loss: 12.4702 - dense_1_loss_1: 3.9230 - dense_1_loss_2: 2.2504 - dense_1_loss_3: 1.0562 - dense_1_loss_4: 0.5187 - dense_1_loss_5: 0.4017 - dense_1_loss_6: 0.2880 - dense_1_loss_7: 0.2316 - dense_1_loss_8: 0.2098 - dense_1_loss_9: 0.1896 - dense_1_loss_10: 0.1826 - dense_1_loss_11: 0.1744 - dense_1_loss_12: 0.1558 - dense_1_loss_13: 0.1330 - dense_1_loss_14: 0.1572 - dense_1_loss_15: 0.1733 - dense_1_loss_16: 0.1589 - dense_1_loss_17: 0.1580 - dense_1_loss_18: 0.1650 - dense_1_loss_19: 0.1567 - dense_1_loss_20: 0.1707 - dense_1_loss_21: 0.1777 - dense_1_loss_22: 0.1705 - dense_1_loss_23: 0.1674 - dense_1_loss_24: 0.1630 - dense_1_loss_25: 0.1903 - dense_1_loss_26: 0.1616 - dense_1_loss_27: 0.1890 - dense_1_loss_28: 0.1965 - dense_1_loss_29: 0.1995 - dense_1_loss_30: 0.0000e+00 - dense_1_acc_1: 0.0667 - dense_1_acc_2: 0.4833 - dense_1_acc_3: 0.7000 - dense_1_acc_4: 0.9333 - dense_1_acc_5: 0.9833 - dense_1_acc_6: 0.9833 - dense_1_acc_7: 0.9833 - dense_1_acc_8: 1.0000 - dense_1_acc_9: 1.0000 - dense_1_acc_10: 1.0000 - dense_1_acc_11: 1.0000 - dense_1_acc_12: 1.0000 - dense_1_acc_13: 1.0000 - dense_1_acc_14: 1.0000 - dense_1_acc_15: 1.0000 - dense_1_acc_16: 1.0000 - dense_1_acc_17: 1.0000 - dense_1_acc_18: 1.0000 - dense_1_acc_19: 1.0000 - dense_1_acc_20: 1.0000 - dense_1_acc_21: 1.0000 - dense_1_acc_22: 1.0000 - dense_1_acc_23: 1.0000 - dense_1_acc_24: 1.0000 - dense_1_acc_25: 1.0000 - dense_1_acc_26: 1.0000 - dense_1_acc_27: 0.9833 - dense_1_acc_28: 1.0000 - dense_1_acc_29: 0.9833 - dense_1_acc_30: 0.0000e+00     \n",
      "Epoch 50/100\n",
      "60/60 [==============================] - 1s - loss: 12.0051 - dense_1_loss_1: 3.9184 - dense_1_loss_2: 2.2137 - dense_1_loss_3: 1.0182 - dense_1_loss_4: 0.4855 - dense_1_loss_5: 0.3756 - dense_1_loss_6: 0.2683 - dense_1_loss_7: 0.2154 - dense_1_loss_8: 0.1958 - dense_1_loss_9: 0.1760 - dense_1_loss_10: 0.1686 - dense_1_loss_11: 0.1614 - dense_1_loss_12: 0.1441 - dense_1_loss_13: 0.1237 - dense_1_loss_14: 0.1490 - dense_1_loss_15: 0.1575 - dense_1_loss_16: 0.1480 - dense_1_loss_17: 0.1484 - dense_1_loss_18: 0.1498 - dense_1_loss_19: 0.1493 - dense_1_loss_20: 0.1586 - dense_1_loss_21: 0.1660 - dense_1_loss_22: 0.1547 - dense_1_loss_23: 0.1520 - dense_1_loss_24: 0.1496 - dense_1_loss_25: 0.1769 - dense_1_loss_26: 0.1510 - dense_1_loss_27: 0.1668 - dense_1_loss_28: 0.1765 - dense_1_loss_29: 0.1861 - dense_1_loss_30: 0.0000e+00 - dense_1_acc_1: 0.0667 - dense_1_acc_2: 0.4833 - dense_1_acc_3: 0.7500 - dense_1_acc_4: 0.9500 - dense_1_acc_5: 0.9833 - dense_1_acc_6: 0.9833 - dense_1_acc_7: 0.9833 - dense_1_acc_8: 1.0000 - dense_1_acc_9: 1.0000 - dense_1_acc_10: 1.0000 - dense_1_acc_11: 1.0000 - dense_1_acc_12: 1.0000 - dense_1_acc_13: 1.0000 - dense_1_acc_14: 1.0000 - dense_1_acc_15: 1.0000 - dense_1_acc_16: 1.0000 - dense_1_acc_17: 1.0000 - dense_1_acc_18: 1.0000 - dense_1_acc_19: 1.0000 - dense_1_acc_20: 1.0000 - dense_1_acc_21: 1.0000 - dense_1_acc_22: 1.0000 - dense_1_acc_23: 1.0000 - dense_1_acc_24: 1.0000 - dense_1_acc_25: 1.0000 - dense_1_acc_26: 1.0000 - dense_1_acc_27: 1.0000 - dense_1_acc_28: 1.0000 - dense_1_acc_29: 1.0000 - dense_1_acc_30: 0.0000e+00     \n",
      "Epoch 51/100\n"
     ]
    },
    {
     "name": "stdout",
     "output_type": "stream",
     "text": [
      "60/60 [==============================] - 1s - loss: 11.6244 - dense_1_loss_1: 3.9139 - dense_1_loss_2: 2.1770 - dense_1_loss_3: 0.9843 - dense_1_loss_4: 0.4596 - dense_1_loss_5: 0.3524 - dense_1_loss_6: 0.2514 - dense_1_loss_7: 0.2025 - dense_1_loss_8: 0.1821 - dense_1_loss_9: 0.1643 - dense_1_loss_10: 0.1573 - dense_1_loss_11: 0.1487 - dense_1_loss_12: 0.1356 - dense_1_loss_13: 0.1158 - dense_1_loss_14: 0.1382 - dense_1_loss_15: 0.1468 - dense_1_loss_16: 0.1382 - dense_1_loss_17: 0.1406 - dense_1_loss_18: 0.1367 - dense_1_loss_19: 0.1434 - dense_1_loss_20: 0.1459 - dense_1_loss_21: 0.1579 - dense_1_loss_22: 0.1465 - dense_1_loss_23: 0.1428 - dense_1_loss_24: 0.1383 - dense_1_loss_25: 0.1695 - dense_1_loss_26: 0.1444 - dense_1_loss_27: 0.1485 - dense_1_loss_28: 0.1604 - dense_1_loss_29: 0.1815 - dense_1_loss_30: 0.0000e+00 - dense_1_acc_1: 0.0667 - dense_1_acc_2: 0.4833 - dense_1_acc_3: 0.8000 - dense_1_acc_4: 0.9500 - dense_1_acc_5: 0.9833 - dense_1_acc_6: 0.9833 - dense_1_acc_7: 0.9833 - dense_1_acc_8: 1.0000 - dense_1_acc_9: 1.0000 - dense_1_acc_10: 1.0000 - dense_1_acc_11: 1.0000 - dense_1_acc_12: 1.0000 - dense_1_acc_13: 1.0000 - dense_1_acc_14: 1.0000 - dense_1_acc_15: 1.0000 - dense_1_acc_16: 1.0000 - dense_1_acc_17: 1.0000 - dense_1_acc_18: 1.0000 - dense_1_acc_19: 1.0000 - dense_1_acc_20: 1.0000 - dense_1_acc_21: 1.0000 - dense_1_acc_22: 1.0000 - dense_1_acc_23: 1.0000 - dense_1_acc_24: 1.0000 - dense_1_acc_25: 1.0000 - dense_1_acc_26: 1.0000 - dense_1_acc_27: 1.0000 - dense_1_acc_28: 1.0000 - dense_1_acc_29: 1.0000 - dense_1_acc_30: 0.0000e+00     \n",
      "Epoch 52/100\n",
      "60/60 [==============================] - 1s - loss: 11.2439 - dense_1_loss_1: 3.9099 - dense_1_loss_2: 2.1432 - dense_1_loss_3: 0.9505 - dense_1_loss_4: 0.4332 - dense_1_loss_5: 0.3315 - dense_1_loss_6: 0.2361 - dense_1_loss_7: 0.1895 - dense_1_loss_8: 0.1691 - dense_1_loss_9: 0.1535 - dense_1_loss_10: 0.1463 - dense_1_loss_11: 0.1380 - dense_1_loss_12: 0.1253 - dense_1_loss_13: 0.1086 - dense_1_loss_14: 0.1286 - dense_1_loss_15: 0.1358 - dense_1_loss_16: 0.1265 - dense_1_loss_17: 0.1286 - dense_1_loss_18: 0.1298 - dense_1_loss_19: 0.1290 - dense_1_loss_20: 0.1327 - dense_1_loss_21: 0.1445 - dense_1_loss_22: 0.1364 - dense_1_loss_23: 0.1303 - dense_1_loss_24: 0.1302 - dense_1_loss_25: 0.1520 - dense_1_loss_26: 0.1319 - dense_1_loss_27: 0.1471 - dense_1_loss_28: 0.1554 - dense_1_loss_29: 0.1705 - dense_1_loss_30: 0.0000e+00 - dense_1_acc_1: 0.0667 - dense_1_acc_2: 0.4833 - dense_1_acc_3: 0.8000 - dense_1_acc_4: 0.9500 - dense_1_acc_5: 0.9833 - dense_1_acc_6: 0.9833 - dense_1_acc_7: 0.9833 - dense_1_acc_8: 1.0000 - dense_1_acc_9: 1.0000 - dense_1_acc_10: 1.0000 - dense_1_acc_11: 1.0000 - dense_1_acc_12: 1.0000 - dense_1_acc_13: 1.0000 - dense_1_acc_14: 1.0000 - dense_1_acc_15: 1.0000 - dense_1_acc_16: 1.0000 - dense_1_acc_17: 1.0000 - dense_1_acc_18: 1.0000 - dense_1_acc_19: 1.0000 - dense_1_acc_20: 1.0000 - dense_1_acc_21: 1.0000 - dense_1_acc_22: 1.0000 - dense_1_acc_23: 1.0000 - dense_1_acc_24: 1.0000 - dense_1_acc_25: 1.0000 - dense_1_acc_26: 1.0000 - dense_1_acc_27: 1.0000 - dense_1_acc_28: 1.0000 - dense_1_acc_29: 0.9833 - dense_1_acc_30: 0.0000e+00     \n",
      "Epoch 53/100\n",
      "60/60 [==============================] - 1s - loss: 10.9141 - dense_1_loss_1: 3.9053 - dense_1_loss_2: 2.1097 - dense_1_loss_3: 0.9188 - dense_1_loss_4: 0.4100 - dense_1_loss_5: 0.3138 - dense_1_loss_6: 0.2231 - dense_1_loss_7: 0.1785 - dense_1_loss_8: 0.1591 - dense_1_loss_9: 0.1443 - dense_1_loss_10: 0.1370 - dense_1_loss_11: 0.1298 - dense_1_loss_12: 0.1178 - dense_1_loss_13: 0.1020 - dense_1_loss_14: 0.1206 - dense_1_loss_15: 0.1285 - dense_1_loss_16: 0.1193 - dense_1_loss_17: 0.1205 - dense_1_loss_18: 0.1200 - dense_1_loss_19: 0.1204 - dense_1_loss_20: 0.1282 - dense_1_loss_21: 0.1348 - dense_1_loss_22: 0.1241 - dense_1_loss_23: 0.1231 - dense_1_loss_24: 0.1226 - dense_1_loss_25: 0.1462 - dense_1_loss_26: 0.1214 - dense_1_loss_27: 0.1315 - dense_1_loss_28: 0.1400 - dense_1_loss_29: 0.1637 - dense_1_loss_30: 0.0000e+00 - dense_1_acc_1: 0.0667 - dense_1_acc_2: 0.4833 - dense_1_acc_3: 0.8000 - dense_1_acc_4: 0.9500 - dense_1_acc_5: 0.9833 - dense_1_acc_6: 0.9833 - dense_1_acc_7: 0.9833 - dense_1_acc_8: 1.0000 - dense_1_acc_9: 1.0000 - dense_1_acc_10: 1.0000 - dense_1_acc_11: 1.0000 - dense_1_acc_12: 1.0000 - dense_1_acc_13: 1.0000 - dense_1_acc_14: 1.0000 - dense_1_acc_15: 1.0000 - dense_1_acc_16: 1.0000 - dense_1_acc_17: 1.0000 - dense_1_acc_18: 1.0000 - dense_1_acc_19: 1.0000 - dense_1_acc_20: 1.0000 - dense_1_acc_21: 1.0000 - dense_1_acc_22: 1.0000 - dense_1_acc_23: 1.0000 - dense_1_acc_24: 1.0000 - dense_1_acc_25: 1.0000 - dense_1_acc_26: 1.0000 - dense_1_acc_27: 1.0000 - dense_1_acc_28: 1.0000 - dense_1_acc_29: 1.0000 - dense_1_acc_30: 0.0000e+00     \n",
      "Epoch 54/100\n",
      "60/60 [==============================] - 1s - loss: 10.6010 - dense_1_loss_1: 3.9012 - dense_1_loss_2: 2.0780 - dense_1_loss_3: 0.8897 - dense_1_loss_4: 0.3879 - dense_1_loss_5: 0.2953 - dense_1_loss_6: 0.2094 - dense_1_loss_7: 0.1665 - dense_1_loss_8: 0.1486 - dense_1_loss_9: 0.1352 - dense_1_loss_10: 0.1279 - dense_1_loss_11: 0.1221 - dense_1_loss_12: 0.1106 - dense_1_loss_13: 0.0958 - dense_1_loss_14: 0.1135 - dense_1_loss_15: 0.1206 - dense_1_loss_16: 0.1123 - dense_1_loss_17: 0.1126 - dense_1_loss_18: 0.1122 - dense_1_loss_19: 0.1128 - dense_1_loss_20: 0.1218 - dense_1_loss_21: 0.1252 - dense_1_loss_22: 0.1147 - dense_1_loss_23: 0.1163 - dense_1_loss_24: 0.1135 - dense_1_loss_25: 0.1364 - dense_1_loss_26: 0.1146 - dense_1_loss_27: 0.1222 - dense_1_loss_28: 0.1342 - dense_1_loss_29: 0.1501 - dense_1_loss_30: 0.0000e+00 - dense_1_acc_1: 0.0667 - dense_1_acc_2: 0.4833 - dense_1_acc_3: 0.8000 - dense_1_acc_4: 0.9667 - dense_1_acc_5: 0.9833 - dense_1_acc_6: 0.9833 - dense_1_acc_7: 0.9833 - dense_1_acc_8: 1.0000 - dense_1_acc_9: 1.0000 - dense_1_acc_10: 1.0000 - dense_1_acc_11: 1.0000 - dense_1_acc_12: 1.0000 - dense_1_acc_13: 1.0000 - dense_1_acc_14: 1.0000 - dense_1_acc_15: 1.0000 - dense_1_acc_16: 1.0000 - dense_1_acc_17: 1.0000 - dense_1_acc_18: 1.0000 - dense_1_acc_19: 1.0000 - dense_1_acc_20: 1.0000 - dense_1_acc_21: 1.0000 - dense_1_acc_22: 1.0000 - dense_1_acc_23: 1.0000 - dense_1_acc_24: 1.0000 - dense_1_acc_25: 1.0000 - dense_1_acc_26: 1.0000 - dense_1_acc_27: 1.0000 - dense_1_acc_28: 1.0000 - dense_1_acc_29: 1.0000 - dense_1_acc_30: 0.0000e+00     \n",
      "Epoch 55/100\n",
      "60/60 [==============================] - 1s - loss: 10.3181 - dense_1_loss_1: 3.8970 - dense_1_loss_2: 2.0454 - dense_1_loss_3: 0.8626 - dense_1_loss_4: 0.3675 - dense_1_loss_5: 0.2807 - dense_1_loss_6: 0.1980 - dense_1_loss_7: 0.1580 - dense_1_loss_8: 0.1402 - dense_1_loss_9: 0.1274 - dense_1_loss_10: 0.1193 - dense_1_loss_11: 0.1139 - dense_1_loss_12: 0.1039 - dense_1_loss_13: 0.0907 - dense_1_loss_14: 0.1077 - dense_1_loss_15: 0.1123 - dense_1_loss_16: 0.1051 - dense_1_loss_17: 0.1051 - dense_1_loss_18: 0.1060 - dense_1_loss_19: 0.1065 - dense_1_loss_20: 0.1120 - dense_1_loss_21: 0.1171 - dense_1_loss_22: 0.1080 - dense_1_loss_23: 0.1072 - dense_1_loss_24: 0.1052 - dense_1_loss_25: 0.1244 - dense_1_loss_26: 0.1080 - dense_1_loss_27: 0.1202 - dense_1_loss_28: 0.1293 - dense_1_loss_29: 0.1394 - dense_1_loss_30: 0.0000e+00 - dense_1_acc_1: 0.0667 - dense_1_acc_2: 0.4833 - dense_1_acc_3: 0.8167 - dense_1_acc_4: 0.9667 - dense_1_acc_5: 0.9833 - dense_1_acc_6: 0.9833 - dense_1_acc_7: 0.9833 - dense_1_acc_8: 1.0000 - dense_1_acc_9: 1.0000 - dense_1_acc_10: 1.0000 - dense_1_acc_11: 1.0000 - dense_1_acc_12: 1.0000 - dense_1_acc_13: 1.0000 - dense_1_acc_14: 1.0000 - dense_1_acc_15: 1.0000 - dense_1_acc_16: 1.0000 - dense_1_acc_17: 1.0000 - dense_1_acc_18: 1.0000 - dense_1_acc_19: 1.0000 - dense_1_acc_20: 1.0000 - dense_1_acc_21: 1.0000 - dense_1_acc_22: 1.0000 - dense_1_acc_23: 1.0000 - dense_1_acc_24: 1.0000 - dense_1_acc_25: 1.0000 - dense_1_acc_26: 1.0000 - dense_1_acc_27: 1.0000 - dense_1_acc_28: 1.0000 - dense_1_acc_29: 1.0000 - dense_1_acc_30: 0.0000e+00     \n",
      "Epoch 56/100\n",
      "60/60 [==============================] - 1s - loss: 10.0503 - dense_1_loss_1: 3.8933 - dense_1_loss_2: 2.0161 - dense_1_loss_3: 0.8360 - dense_1_loss_4: 0.3479 - dense_1_loss_5: 0.2646 - dense_1_loss_6: 0.1849 - dense_1_loss_7: 0.1489 - dense_1_loss_8: 0.1309 - dense_1_loss_9: 0.1196 - dense_1_loss_10: 0.1121 - dense_1_loss_11: 0.1063 - dense_1_loss_12: 0.0976 - dense_1_loss_13: 0.0855 - dense_1_loss_14: 0.1013 - dense_1_loss_15: 0.1054 - dense_1_loss_16: 0.0979 - dense_1_loss_17: 0.0990 - dense_1_loss_18: 0.0994 - dense_1_loss_19: 0.1007 - dense_1_loss_20: 0.1030 - dense_1_loss_21: 0.1104 - dense_1_loss_22: 0.1018 - dense_1_loss_23: 0.0990 - dense_1_loss_24: 0.0990 - dense_1_loss_25: 0.1150 - dense_1_loss_26: 0.1033 - dense_1_loss_27: 0.1143 - dense_1_loss_28: 0.1241 - dense_1_loss_29: 0.1332 - dense_1_loss_30: 0.0000e+00 - dense_1_acc_1: 0.0667 - dense_1_acc_2: 0.4833 - dense_1_acc_3: 0.8333 - dense_1_acc_4: 0.9833 - dense_1_acc_5: 0.9833 - dense_1_acc_6: 1.0000 - dense_1_acc_7: 0.9833 - dense_1_acc_8: 1.0000 - dense_1_acc_9: 1.0000 - dense_1_acc_10: 1.0000 - dense_1_acc_11: 1.0000 - dense_1_acc_12: 1.0000 - dense_1_acc_13: 1.0000 - dense_1_acc_14: 1.0000 - dense_1_acc_15: 1.0000 - dense_1_acc_16: 1.0000 - dense_1_acc_17: 1.0000 - dense_1_acc_18: 1.0000 - dense_1_acc_19: 1.0000 - dense_1_acc_20: 1.0000 - dense_1_acc_21: 1.0000 - dense_1_acc_22: 1.0000 - dense_1_acc_23: 1.0000 - dense_1_acc_24: 1.0000 - dense_1_acc_25: 1.0000 - dense_1_acc_26: 1.0000 - dense_1_acc_27: 1.0000 - dense_1_acc_28: 1.0000 - dense_1_acc_29: 0.9833 - dense_1_acc_30: 0.0000e+00    \n",
      "Epoch 57/100\n",
      "60/60 [==============================] - 1s - loss: 9.8076 - dense_1_loss_1: 3.8895 - dense_1_loss_2: 1.9862 - dense_1_loss_3: 0.8110 - dense_1_loss_4: 0.3305 - dense_1_loss_5: 0.2518 - dense_1_loss_6: 0.1752 - dense_1_loss_7: 0.1417 - dense_1_loss_8: 0.1237 - dense_1_loss_9: 0.1133 - dense_1_loss_10: 0.1061 - dense_1_loss_11: 0.0996 - dense_1_loss_12: 0.0928 - dense_1_loss_13: 0.0810 - dense_1_loss_14: 0.0953 - dense_1_loss_15: 0.1002 - dense_1_loss_16: 0.0928 - dense_1_loss_17: 0.0933 - dense_1_loss_18: 0.0927 - dense_1_loss_19: 0.0957 - dense_1_loss_20: 0.0979 - dense_1_loss_21: 0.1050 - dense_1_loss_22: 0.0946 - dense_1_loss_23: 0.0931 - dense_1_loss_24: 0.0938 - dense_1_loss_25: 0.1109 - dense_1_loss_26: 0.0963 - dense_1_loss_27: 0.1034 - dense_1_loss_28: 0.1124 - dense_1_loss_29: 0.1280 - dense_1_loss_30: 0.0000e+00 - dense_1_acc_1: 0.0667 - dense_1_acc_2: 0.4833 - dense_1_acc_3: 0.8500 - dense_1_acc_4: 0.9833 - dense_1_acc_5: 0.9833 - dense_1_acc_6: 1.0000 - dense_1_acc_7: 0.9833 - dense_1_acc_8: 1.0000 - dense_1_acc_9: 1.0000 - dense_1_acc_10: 1.0000 - dense_1_acc_11: 1.0000 - dense_1_acc_12: 1.0000 - dense_1_acc_13: 1.0000 - dense_1_acc_14: 1.0000 - dense_1_acc_15: 1.0000 - dense_1_acc_16: 1.0000 - dense_1_acc_17: 1.0000 - dense_1_acc_18: 1.0000 - dense_1_acc_19: 1.0000 - dense_1_acc_20: 1.0000 - dense_1_acc_21: 1.0000 - dense_1_acc_22: 1.0000 - dense_1_acc_23: 1.0000 - dense_1_acc_24: 1.0000 - dense_1_acc_25: 1.0000 - dense_1_acc_26: 1.0000 - dense_1_acc_27: 1.0000 - dense_1_acc_28: 1.0000 - dense_1_acc_29: 1.0000 - dense_1_acc_30: 0.0000e+00      \n",
      "Epoch 58/100\n",
      "60/60 [==============================] - 1s - loss: 9.5854 - dense_1_loss_1: 3.8854 - dense_1_loss_2: 1.9578 - dense_1_loss_3: 0.7889 - dense_1_loss_4: 0.3135 - dense_1_loss_5: 0.2388 - dense_1_loss_6: 0.1658 - dense_1_loss_7: 0.1335 - dense_1_loss_8: 0.1169 - dense_1_loss_9: 0.1067 - dense_1_loss_10: 0.1000 - dense_1_loss_11: 0.0940 - dense_1_loss_12: 0.0881 - dense_1_loss_13: 0.0761 - dense_1_loss_14: 0.0908 - dense_1_loss_15: 0.0943 - dense_1_loss_16: 0.0878 - dense_1_loss_17: 0.0884 - dense_1_loss_18: 0.0872 - dense_1_loss_19: 0.0896 - dense_1_loss_20: 0.0933 - dense_1_loss_21: 0.0990 - dense_1_loss_22: 0.0894 - dense_1_loss_23: 0.0892 - dense_1_loss_24: 0.0884 - dense_1_loss_25: 0.1082 - dense_1_loss_26: 0.0886 - dense_1_loss_27: 0.0964 - dense_1_loss_28: 0.1060 - dense_1_loss_29: 0.1228 - dense_1_loss_30: 0.0000e+00 - dense_1_acc_1: 0.0667 - dense_1_acc_2: 0.5000 - dense_1_acc_3: 0.8500 - dense_1_acc_4: 0.9833 - dense_1_acc_5: 0.9833 - dense_1_acc_6: 1.0000 - dense_1_acc_7: 0.9833 - dense_1_acc_8: 1.0000 - dense_1_acc_9: 1.0000 - dense_1_acc_10: 1.0000 - dense_1_acc_11: 1.0000 - dense_1_acc_12: 1.0000 - dense_1_acc_13: 1.0000 - dense_1_acc_14: 1.0000 - dense_1_acc_15: 1.0000 - dense_1_acc_16: 1.0000 - dense_1_acc_17: 1.0000 - dense_1_acc_18: 1.0000 - dense_1_acc_19: 1.0000 - dense_1_acc_20: 1.0000 - dense_1_acc_21: 1.0000 - dense_1_acc_22: 1.0000 - dense_1_acc_23: 1.0000 - dense_1_acc_24: 1.0000 - dense_1_acc_25: 1.0000 - dense_1_acc_26: 1.0000 - dense_1_acc_27: 1.0000 - dense_1_acc_28: 1.0000 - dense_1_acc_29: 1.0000 - dense_1_acc_30: 0.0000e+00      \n",
      "Epoch 59/100\n",
      "60/60 [==============================] - 1s - loss: 9.3695 - dense_1_loss_1: 3.8821 - dense_1_loss_2: 1.9306 - dense_1_loss_3: 0.7657 - dense_1_loss_4: 0.2994 - dense_1_loss_5: 0.2263 - dense_1_loss_6: 0.1576 - dense_1_loss_7: 0.1260 - dense_1_loss_8: 0.1105 - dense_1_loss_9: 0.1013 - dense_1_loss_10: 0.0937 - dense_1_loss_11: 0.0894 - dense_1_loss_12: 0.0827 - dense_1_loss_13: 0.0727 - dense_1_loss_14: 0.0861 - dense_1_loss_15: 0.0888 - dense_1_loss_16: 0.0825 - dense_1_loss_17: 0.0823 - dense_1_loss_18: 0.0843 - dense_1_loss_19: 0.0828 - dense_1_loss_20: 0.0870 - dense_1_loss_21: 0.0918 - dense_1_loss_22: 0.0859 - dense_1_loss_23: 0.0828 - dense_1_loss_24: 0.0825 - dense_1_loss_25: 0.0981 - dense_1_loss_26: 0.0826 - dense_1_loss_27: 0.0974 - dense_1_loss_28: 0.1054 - dense_1_loss_29: 0.1114 - dense_1_loss_30: 0.0000e+00 - dense_1_acc_1: 0.0667 - dense_1_acc_2: 0.5000 - dense_1_acc_3: 0.8500 - dense_1_acc_4: 0.9833 - dense_1_acc_5: 0.9833 - dense_1_acc_6: 1.0000 - dense_1_acc_7: 1.0000 - dense_1_acc_8: 1.0000 - dense_1_acc_9: 1.0000 - dense_1_acc_10: 1.0000 - dense_1_acc_11: 1.0000 - dense_1_acc_12: 1.0000 - dense_1_acc_13: 1.0000 - dense_1_acc_14: 1.0000 - dense_1_acc_15: 1.0000 - dense_1_acc_16: 1.0000 - dense_1_acc_17: 1.0000 - dense_1_acc_18: 1.0000 - dense_1_acc_19: 1.0000 - dense_1_acc_20: 1.0000 - dense_1_acc_21: 1.0000 - dense_1_acc_22: 1.0000 - dense_1_acc_23: 1.0000 - dense_1_acc_24: 1.0000 - dense_1_acc_25: 1.0000 - dense_1_acc_26: 1.0000 - dense_1_acc_27: 1.0000 - dense_1_acc_28: 1.0000 - dense_1_acc_29: 1.0000 - dense_1_acc_30: 0.0000e+00     \n",
      "Epoch 60/100\n",
      "60/60 [==============================] - 1s - loss: 9.1758 - dense_1_loss_1: 3.8783 - dense_1_loss_2: 1.9032 - dense_1_loss_3: 0.7452 - dense_1_loss_4: 0.2859 - dense_1_loss_5: 0.2153 - dense_1_loss_6: 0.1491 - dense_1_loss_7: 0.1196 - dense_1_loss_8: 0.1050 - dense_1_loss_9: 0.0952 - dense_1_loss_10: 0.0889 - dense_1_loss_11: 0.0841 - dense_1_loss_12: 0.0785 - dense_1_loss_13: 0.0690 - dense_1_loss_14: 0.0814 - dense_1_loss_15: 0.0849 - dense_1_loss_16: 0.0780 - dense_1_loss_17: 0.0790 - dense_1_loss_18: 0.0788 - dense_1_loss_19: 0.0787 - dense_1_loss_20: 0.0822 - dense_1_loss_21: 0.0878 - dense_1_loss_22: 0.0802 - dense_1_loss_23: 0.0778 - dense_1_loss_24: 0.0777 - dense_1_loss_25: 0.0927 - dense_1_loss_26: 0.0799 - dense_1_loss_27: 0.0922 - dense_1_loss_28: 0.0992 - dense_1_loss_29: 0.1078 - dense_1_loss_30: 0.0000e+00 - dense_1_acc_1: 0.0667 - dense_1_acc_2: 0.5000 - dense_1_acc_3: 0.8500 - dense_1_acc_4: 0.9833 - dense_1_acc_5: 0.9833 - dense_1_acc_6: 1.0000 - dense_1_acc_7: 1.0000 - dense_1_acc_8: 1.0000 - dense_1_acc_9: 1.0000 - dense_1_acc_10: 1.0000 - dense_1_acc_11: 1.0000 - dense_1_acc_12: 1.0000 - dense_1_acc_13: 1.0000 - dense_1_acc_14: 1.0000 - dense_1_acc_15: 1.0000 - dense_1_acc_16: 1.0000 - dense_1_acc_17: 1.0000 - dense_1_acc_18: 1.0000 - dense_1_acc_19: 1.0000 - dense_1_acc_20: 1.0000 - dense_1_acc_21: 1.0000 - dense_1_acc_22: 1.0000 - dense_1_acc_23: 1.0000 - dense_1_acc_24: 1.0000 - dense_1_acc_25: 1.0000 - dense_1_acc_26: 1.0000 - dense_1_acc_27: 1.0000 - dense_1_acc_28: 1.0000 - dense_1_acc_29: 1.0000 - dense_1_acc_30: 0.0000e+00     \n",
      "Epoch 61/100\n"
     ]
    },
    {
     "name": "stdout",
     "output_type": "stream",
     "text": [
      "60/60 [==============================] - 1s - loss: 8.9964 - dense_1_loss_1: 3.8746 - dense_1_loss_2: 1.8778 - dense_1_loss_3: 0.7259 - dense_1_loss_4: 0.2721 - dense_1_loss_5: 0.2062 - dense_1_loss_6: 0.1421 - dense_1_loss_7: 0.1148 - dense_1_loss_8: 0.1002 - dense_1_loss_9: 0.0904 - dense_1_loss_10: 0.0844 - dense_1_loss_11: 0.0798 - dense_1_loss_12: 0.0751 - dense_1_loss_13: 0.0656 - dense_1_loss_14: 0.0776 - dense_1_loss_15: 0.0806 - dense_1_loss_16: 0.0746 - dense_1_loss_17: 0.0753 - dense_1_loss_18: 0.0740 - dense_1_loss_19: 0.0759 - dense_1_loss_20: 0.0781 - dense_1_loss_21: 0.0833 - dense_1_loss_22: 0.0761 - dense_1_loss_23: 0.0737 - dense_1_loss_24: 0.0736 - dense_1_loss_25: 0.0901 - dense_1_loss_26: 0.0768 - dense_1_loss_27: 0.0815 - dense_1_loss_28: 0.0932 - dense_1_loss_29: 0.1030 - dense_1_loss_30: 0.0000e+00 - dense_1_acc_1: 0.0667 - dense_1_acc_2: 0.5000 - dense_1_acc_3: 0.8500 - dense_1_acc_4: 0.9833 - dense_1_acc_5: 0.9833 - dense_1_acc_6: 1.0000 - dense_1_acc_7: 1.0000 - dense_1_acc_8: 1.0000 - dense_1_acc_9: 1.0000 - dense_1_acc_10: 1.0000 - dense_1_acc_11: 1.0000 - dense_1_acc_12: 1.0000 - dense_1_acc_13: 1.0000 - dense_1_acc_14: 1.0000 - dense_1_acc_15: 1.0000 - dense_1_acc_16: 1.0000 - dense_1_acc_17: 1.0000 - dense_1_acc_18: 1.0000 - dense_1_acc_19: 1.0000 - dense_1_acc_20: 1.0000 - dense_1_acc_21: 1.0000 - dense_1_acc_22: 1.0000 - dense_1_acc_23: 1.0000 - dense_1_acc_24: 1.0000 - dense_1_acc_25: 1.0000 - dense_1_acc_26: 1.0000 - dense_1_acc_27: 1.0000 - dense_1_acc_28: 1.0000 - dense_1_acc_29: 1.0000 - dense_1_acc_30: 0.0000e+00     \n",
      "Epoch 62/100\n",
      "60/60 [==============================] - 1s - loss: 8.8318 - dense_1_loss_1: 3.8712 - dense_1_loss_2: 1.8523 - dense_1_loss_3: 0.7075 - dense_1_loss_4: 0.2614 - dense_1_loss_5: 0.1965 - dense_1_loss_6: 0.1353 - dense_1_loss_7: 0.1096 - dense_1_loss_8: 0.0950 - dense_1_loss_9: 0.0860 - dense_1_loss_10: 0.0802 - dense_1_loss_11: 0.0763 - dense_1_loss_12: 0.0720 - dense_1_loss_13: 0.0624 - dense_1_loss_14: 0.0745 - dense_1_loss_15: 0.0766 - dense_1_loss_16: 0.0710 - dense_1_loss_17: 0.0715 - dense_1_loss_18: 0.0705 - dense_1_loss_19: 0.0727 - dense_1_loss_20: 0.0738 - dense_1_loss_21: 0.0793 - dense_1_loss_22: 0.0723 - dense_1_loss_23: 0.0693 - dense_1_loss_24: 0.0706 - dense_1_loss_25: 0.0849 - dense_1_loss_26: 0.0724 - dense_1_loss_27: 0.0791 - dense_1_loss_28: 0.0887 - dense_1_loss_29: 0.0987 - dense_1_loss_30: 0.0000e+00 - dense_1_acc_1: 0.0667 - dense_1_acc_2: 0.5167 - dense_1_acc_3: 0.8500 - dense_1_acc_4: 0.9833 - dense_1_acc_5: 0.9833 - dense_1_acc_6: 1.0000 - dense_1_acc_7: 1.0000 - dense_1_acc_8: 1.0000 - dense_1_acc_9: 1.0000 - dense_1_acc_10: 1.0000 - dense_1_acc_11: 1.0000 - dense_1_acc_12: 1.0000 - dense_1_acc_13: 1.0000 - dense_1_acc_14: 1.0000 - dense_1_acc_15: 1.0000 - dense_1_acc_16: 1.0000 - dense_1_acc_17: 1.0000 - dense_1_acc_18: 1.0000 - dense_1_acc_19: 1.0000 - dense_1_acc_20: 1.0000 - dense_1_acc_21: 1.0000 - dense_1_acc_22: 1.0000 - dense_1_acc_23: 1.0000 - dense_1_acc_24: 1.0000 - dense_1_acc_25: 1.0000 - dense_1_acc_26: 1.0000 - dense_1_acc_27: 1.0000 - dense_1_acc_28: 1.0000 - dense_1_acc_29: 1.0000 - dense_1_acc_30: 0.0000e+00     \n",
      "Epoch 63/100\n",
      "60/60 [==============================] - 1s - loss: 8.6740 - dense_1_loss_1: 3.8679 - dense_1_loss_2: 1.8282 - dense_1_loss_3: 0.6891 - dense_1_loss_4: 0.2496 - dense_1_loss_5: 0.1872 - dense_1_loss_6: 0.1290 - dense_1_loss_7: 0.1045 - dense_1_loss_8: 0.0896 - dense_1_loss_9: 0.0819 - dense_1_loss_10: 0.0759 - dense_1_loss_11: 0.0727 - dense_1_loss_12: 0.0689 - dense_1_loss_13: 0.0592 - dense_1_loss_14: 0.0712 - dense_1_loss_15: 0.0727 - dense_1_loss_16: 0.0674 - dense_1_loss_17: 0.0673 - dense_1_loss_18: 0.0676 - dense_1_loss_19: 0.0687 - dense_1_loss_20: 0.0698 - dense_1_loss_21: 0.0753 - dense_1_loss_22: 0.0688 - dense_1_loss_23: 0.0658 - dense_1_loss_24: 0.0672 - dense_1_loss_25: 0.0793 - dense_1_loss_26: 0.0683 - dense_1_loss_27: 0.0796 - dense_1_loss_28: 0.0861 - dense_1_loss_29: 0.0953 - dense_1_loss_30: 0.0000e+00 - dense_1_acc_1: 0.0667 - dense_1_acc_2: 0.5167 - dense_1_acc_3: 0.8500 - dense_1_acc_4: 0.9833 - dense_1_acc_5: 0.9833 - dense_1_acc_6: 1.0000 - dense_1_acc_7: 1.0000 - dense_1_acc_8: 1.0000 - dense_1_acc_9: 1.0000 - dense_1_acc_10: 1.0000 - dense_1_acc_11: 1.0000 - dense_1_acc_12: 1.0000 - dense_1_acc_13: 1.0000 - dense_1_acc_14: 1.0000 - dense_1_acc_15: 1.0000 - dense_1_acc_16: 1.0000 - dense_1_acc_17: 1.0000 - dense_1_acc_18: 1.0000 - dense_1_acc_19: 1.0000 - dense_1_acc_20: 1.0000 - dense_1_acc_21: 1.0000 - dense_1_acc_22: 1.0000 - dense_1_acc_23: 1.0000 - dense_1_acc_24: 1.0000 - dense_1_acc_25: 1.0000 - dense_1_acc_26: 1.0000 - dense_1_acc_27: 1.0000 - dense_1_acc_28: 1.0000 - dense_1_acc_29: 1.0000 - dense_1_acc_30: 0.0000e+00     \n",
      "Epoch 64/100\n",
      "60/60 [==============================] - 1s - loss: 8.5233 - dense_1_loss_1: 3.8643 - dense_1_loss_2: 1.8055 - dense_1_loss_3: 0.6708 - dense_1_loss_4: 0.2396 - dense_1_loss_5: 0.1787 - dense_1_loss_6: 0.1228 - dense_1_loss_7: 0.0995 - dense_1_loss_8: 0.0857 - dense_1_loss_9: 0.0777 - dense_1_loss_10: 0.0724 - dense_1_loss_11: 0.0689 - dense_1_loss_12: 0.0658 - dense_1_loss_13: 0.0567 - dense_1_loss_14: 0.0673 - dense_1_loss_15: 0.0699 - dense_1_loss_16: 0.0648 - dense_1_loss_17: 0.0643 - dense_1_loss_18: 0.0643 - dense_1_loss_19: 0.0654 - dense_1_loss_20: 0.0672 - dense_1_loss_21: 0.0713 - dense_1_loss_22: 0.0650 - dense_1_loss_23: 0.0632 - dense_1_loss_24: 0.0638 - dense_1_loss_25: 0.0761 - dense_1_loss_26: 0.0653 - dense_1_loss_27: 0.0753 - dense_1_loss_28: 0.0821 - dense_1_loss_29: 0.0894 - dense_1_loss_30: 0.0000e+00 - dense_1_acc_1: 0.0667 - dense_1_acc_2: 0.5167 - dense_1_acc_3: 0.8500 - dense_1_acc_4: 0.9833 - dense_1_acc_5: 0.9833 - dense_1_acc_6: 1.0000 - dense_1_acc_7: 1.0000 - dense_1_acc_8: 1.0000 - dense_1_acc_9: 1.0000 - dense_1_acc_10: 1.0000 - dense_1_acc_11: 1.0000 - dense_1_acc_12: 1.0000 - dense_1_acc_13: 1.0000 - dense_1_acc_14: 1.0000 - dense_1_acc_15: 1.0000 - dense_1_acc_16: 1.0000 - dense_1_acc_17: 1.0000 - dense_1_acc_18: 1.0000 - dense_1_acc_19: 1.0000 - dense_1_acc_20: 1.0000 - dense_1_acc_21: 1.0000 - dense_1_acc_22: 1.0000 - dense_1_acc_23: 1.0000 - dense_1_acc_24: 1.0000 - dense_1_acc_25: 1.0000 - dense_1_acc_26: 1.0000 - dense_1_acc_27: 1.0000 - dense_1_acc_28: 1.0000 - dense_1_acc_29: 1.0000 - dense_1_acc_30: 0.0000e+00     \n",
      "Epoch 65/100\n",
      "60/60 [==============================] - 1s - loss: 8.3888 - dense_1_loss_1: 3.8612 - dense_1_loss_2: 1.7825 - dense_1_loss_3: 0.6556 - dense_1_loss_4: 0.2304 - dense_1_loss_5: 0.1711 - dense_1_loss_6: 0.1179 - dense_1_loss_7: 0.0953 - dense_1_loss_8: 0.0821 - dense_1_loss_9: 0.0741 - dense_1_loss_10: 0.0692 - dense_1_loss_11: 0.0658 - dense_1_loss_12: 0.0630 - dense_1_loss_13: 0.0544 - dense_1_loss_14: 0.0641 - dense_1_loss_15: 0.0672 - dense_1_loss_16: 0.0624 - dense_1_loss_17: 0.0621 - dense_1_loss_18: 0.0612 - dense_1_loss_19: 0.0627 - dense_1_loss_20: 0.0645 - dense_1_loss_21: 0.0683 - dense_1_loss_22: 0.0619 - dense_1_loss_23: 0.0608 - dense_1_loss_24: 0.0608 - dense_1_loss_25: 0.0743 - dense_1_loss_26: 0.0626 - dense_1_loss_27: 0.0697 - dense_1_loss_28: 0.0777 - dense_1_loss_29: 0.0858 - dense_1_loss_30: 0.0000e+00 - dense_1_acc_1: 0.0667 - dense_1_acc_2: 0.5167 - dense_1_acc_3: 0.8500 - dense_1_acc_4: 0.9833 - dense_1_acc_5: 0.9833 - dense_1_acc_6: 1.0000 - dense_1_acc_7: 1.0000 - dense_1_acc_8: 1.0000 - dense_1_acc_9: 1.0000 - dense_1_acc_10: 1.0000 - dense_1_acc_11: 1.0000 - dense_1_acc_12: 1.0000 - dense_1_acc_13: 1.0000 - dense_1_acc_14: 1.0000 - dense_1_acc_15: 1.0000 - dense_1_acc_16: 1.0000 - dense_1_acc_17: 1.0000 - dense_1_acc_18: 1.0000 - dense_1_acc_19: 1.0000 - dense_1_acc_20: 1.0000 - dense_1_acc_21: 1.0000 - dense_1_acc_22: 1.0000 - dense_1_acc_23: 1.0000 - dense_1_acc_24: 1.0000 - dense_1_acc_25: 1.0000 - dense_1_acc_26: 1.0000 - dense_1_acc_27: 1.0000 - dense_1_acc_28: 1.0000 - dense_1_acc_29: 1.0000 - dense_1_acc_30: 0.0000e+00     \n",
      "Epoch 66/100\n",
      "60/60 [==============================] - 1s - loss: 8.2563 - dense_1_loss_1: 3.8578 - dense_1_loss_2: 1.7605 - dense_1_loss_3: 0.6399 - dense_1_loss_4: 0.2208 - dense_1_loss_5: 0.1638 - dense_1_loss_6: 0.1132 - dense_1_loss_7: 0.0913 - dense_1_loss_8: 0.0787 - dense_1_loss_9: 0.0708 - dense_1_loss_10: 0.0659 - dense_1_loss_11: 0.0628 - dense_1_loss_12: 0.0602 - dense_1_loss_13: 0.0523 - dense_1_loss_14: 0.0614 - dense_1_loss_15: 0.0639 - dense_1_loss_16: 0.0597 - dense_1_loss_17: 0.0595 - dense_1_loss_18: 0.0587 - dense_1_loss_19: 0.0598 - dense_1_loss_20: 0.0613 - dense_1_loss_21: 0.0651 - dense_1_loss_22: 0.0594 - dense_1_loss_23: 0.0577 - dense_1_loss_24: 0.0582 - dense_1_loss_25: 0.0698 - dense_1_loss_26: 0.0594 - dense_1_loss_27: 0.0679 - dense_1_loss_28: 0.0758 - dense_1_loss_29: 0.0806 - dense_1_loss_30: 0.0000e+00 - dense_1_acc_1: 0.0667 - dense_1_acc_2: 0.5167 - dense_1_acc_3: 0.8500 - dense_1_acc_4: 0.9833 - dense_1_acc_5: 0.9833 - dense_1_acc_6: 1.0000 - dense_1_acc_7: 1.0000 - dense_1_acc_8: 1.0000 - dense_1_acc_9: 1.0000 - dense_1_acc_10: 1.0000 - dense_1_acc_11: 1.0000 - dense_1_acc_12: 1.0000 - dense_1_acc_13: 1.0000 - dense_1_acc_14: 1.0000 - dense_1_acc_15: 1.0000 - dense_1_acc_16: 1.0000 - dense_1_acc_17: 1.0000 - dense_1_acc_18: 1.0000 - dense_1_acc_19: 1.0000 - dense_1_acc_20: 1.0000 - dense_1_acc_21: 1.0000 - dense_1_acc_22: 1.0000 - dense_1_acc_23: 1.0000 - dense_1_acc_24: 1.0000 - dense_1_acc_25: 1.0000 - dense_1_acc_26: 1.0000 - dense_1_acc_27: 1.0000 - dense_1_acc_28: 1.0000 - dense_1_acc_29: 1.0000 - dense_1_acc_30: 0.0000e+00     \n",
      "Epoch 67/100\n",
      "60/60 [==============================] - 1s - loss: 8.1375 - dense_1_loss_1: 3.8544 - dense_1_loss_2: 1.7389 - dense_1_loss_3: 0.6254 - dense_1_loss_4: 0.2125 - dense_1_loss_5: 0.1582 - dense_1_loss_6: 0.1087 - dense_1_loss_7: 0.0882 - dense_1_loss_8: 0.0754 - dense_1_loss_9: 0.0681 - dense_1_loss_10: 0.0630 - dense_1_loss_11: 0.0601 - dense_1_loss_12: 0.0579 - dense_1_loss_13: 0.0503 - dense_1_loss_14: 0.0593 - dense_1_loss_15: 0.0608 - dense_1_loss_16: 0.0570 - dense_1_loss_17: 0.0569 - dense_1_loss_18: 0.0565 - dense_1_loss_19: 0.0570 - dense_1_loss_20: 0.0581 - dense_1_loss_21: 0.0621 - dense_1_loss_22: 0.0574 - dense_1_loss_23: 0.0546 - dense_1_loss_24: 0.0557 - dense_1_loss_25: 0.0658 - dense_1_loss_26: 0.0568 - dense_1_loss_27: 0.0675 - dense_1_loss_28: 0.0740 - dense_1_loss_29: 0.0769 - dense_1_loss_30: 0.0000e+00 - dense_1_acc_1: 0.0667 - dense_1_acc_2: 0.5167 - dense_1_acc_3: 0.8667 - dense_1_acc_4: 0.9833 - dense_1_acc_5: 0.9833 - dense_1_acc_6: 1.0000 - dense_1_acc_7: 1.0000 - dense_1_acc_8: 1.0000 - dense_1_acc_9: 1.0000 - dense_1_acc_10: 1.0000 - dense_1_acc_11: 1.0000 - dense_1_acc_12: 1.0000 - dense_1_acc_13: 1.0000 - dense_1_acc_14: 1.0000 - dense_1_acc_15: 1.0000 - dense_1_acc_16: 1.0000 - dense_1_acc_17: 1.0000 - dense_1_acc_18: 1.0000 - dense_1_acc_19: 1.0000 - dense_1_acc_20: 1.0000 - dense_1_acc_21: 1.0000 - dense_1_acc_22: 1.0000 - dense_1_acc_23: 1.0000 - dense_1_acc_24: 1.0000 - dense_1_acc_25: 1.0000 - dense_1_acc_26: 1.0000 - dense_1_acc_27: 1.0000 - dense_1_acc_28: 1.0000 - dense_1_acc_29: 1.0000 - dense_1_acc_30: 0.0000e+00     \n",
      "Epoch 68/100\n",
      "60/60 [==============================] - 1s - loss: 8.0225 - dense_1_loss_1: 3.8513 - dense_1_loss_2: 1.7180 - dense_1_loss_3: 0.6111 - dense_1_loss_4: 0.2048 - dense_1_loss_5: 0.1518 - dense_1_loss_6: 0.1044 - dense_1_loss_7: 0.0847 - dense_1_loss_8: 0.0725 - dense_1_loss_9: 0.0654 - dense_1_loss_10: 0.0603 - dense_1_loss_11: 0.0579 - dense_1_loss_12: 0.0560 - dense_1_loss_13: 0.0479 - dense_1_loss_14: 0.0572 - dense_1_loss_15: 0.0583 - dense_1_loss_16: 0.0547 - dense_1_loss_17: 0.0545 - dense_1_loss_18: 0.0542 - dense_1_loss_19: 0.0550 - dense_1_loss_20: 0.0558 - dense_1_loss_21: 0.0597 - dense_1_loss_22: 0.0549 - dense_1_loss_23: 0.0523 - dense_1_loss_24: 0.0532 - dense_1_loss_25: 0.0641 - dense_1_loss_26: 0.0544 - dense_1_loss_27: 0.0633 - dense_1_loss_28: 0.0709 - dense_1_loss_29: 0.0738 - dense_1_loss_30: 0.0000e+00 - dense_1_acc_1: 0.0667 - dense_1_acc_2: 0.5333 - dense_1_acc_3: 0.8667 - dense_1_acc_4: 0.9833 - dense_1_acc_5: 1.0000 - dense_1_acc_6: 1.0000 - dense_1_acc_7: 1.0000 - dense_1_acc_8: 1.0000 - dense_1_acc_9: 1.0000 - dense_1_acc_10: 1.0000 - dense_1_acc_11: 1.0000 - dense_1_acc_12: 1.0000 - dense_1_acc_13: 1.0000 - dense_1_acc_14: 1.0000 - dense_1_acc_15: 1.0000 - dense_1_acc_16: 1.0000 - dense_1_acc_17: 1.0000 - dense_1_acc_18: 1.0000 - dense_1_acc_19: 1.0000 - dense_1_acc_20: 1.0000 - dense_1_acc_21: 1.0000 - dense_1_acc_22: 1.0000 - dense_1_acc_23: 1.0000 - dense_1_acc_24: 1.0000 - dense_1_acc_25: 1.0000 - dense_1_acc_26: 1.0000 - dense_1_acc_27: 1.0000 - dense_1_acc_28: 1.0000 - dense_1_acc_29: 1.0000 - dense_1_acc_30: 0.0000e+00     \n",
      "Epoch 69/100\n",
      "60/60 [==============================] - 1s - loss: 7.9143 - dense_1_loss_1: 3.8482 - dense_1_loss_2: 1.6983 - dense_1_loss_3: 0.5975 - dense_1_loss_4: 0.1969 - dense_1_loss_5: 0.1460 - dense_1_loss_6: 0.0997 - dense_1_loss_7: 0.0814 - dense_1_loss_8: 0.0698 - dense_1_loss_9: 0.0622 - dense_1_loss_10: 0.0582 - dense_1_loss_11: 0.0549 - dense_1_loss_12: 0.0539 - dense_1_loss_13: 0.0461 - dense_1_loss_14: 0.0544 - dense_1_loss_15: 0.0564 - dense_1_loss_16: 0.0528 - dense_1_loss_17: 0.0523 - dense_1_loss_18: 0.0520 - dense_1_loss_19: 0.0529 - dense_1_loss_20: 0.0539 - dense_1_loss_21: 0.0575 - dense_1_loss_22: 0.0523 - dense_1_loss_23: 0.0506 - dense_1_loss_24: 0.0511 - dense_1_loss_25: 0.0629 - dense_1_loss_26: 0.0525 - dense_1_loss_27: 0.0595 - dense_1_loss_28: 0.0668 - dense_1_loss_29: 0.0732 - dense_1_loss_30: 0.0000e+00 - dense_1_acc_1: 0.0667 - dense_1_acc_2: 0.5500 - dense_1_acc_3: 0.8667 - dense_1_acc_4: 0.9833 - dense_1_acc_5: 1.0000 - dense_1_acc_6: 1.0000 - dense_1_acc_7: 1.0000 - dense_1_acc_8: 1.0000 - dense_1_acc_9: 1.0000 - dense_1_acc_10: 1.0000 - dense_1_acc_11: 1.0000 - dense_1_acc_12: 1.0000 - dense_1_acc_13: 1.0000 - dense_1_acc_14: 1.0000 - dense_1_acc_15: 1.0000 - dense_1_acc_16: 1.0000 - dense_1_acc_17: 1.0000 - dense_1_acc_18: 1.0000 - dense_1_acc_19: 1.0000 - dense_1_acc_20: 1.0000 - dense_1_acc_21: 1.0000 - dense_1_acc_22: 1.0000 - dense_1_acc_23: 1.0000 - dense_1_acc_24: 1.0000 - dense_1_acc_25: 1.0000 - dense_1_acc_26: 1.0000 - dense_1_acc_27: 1.0000 - dense_1_acc_28: 1.0000 - dense_1_acc_29: 1.0000 - dense_1_acc_30: 0.0000e+00     \n",
      "Epoch 70/100\n",
      "60/60 [==============================] - 1s - loss: 7.8119 - dense_1_loss_1: 3.8451 - dense_1_loss_2: 1.6782 - dense_1_loss_3: 0.5840 - dense_1_loss_4: 0.1901 - dense_1_loss_5: 0.1406 - dense_1_loss_6: 0.0962 - dense_1_loss_7: 0.0783 - dense_1_loss_8: 0.0671 - dense_1_loss_9: 0.0600 - dense_1_loss_10: 0.0560 - dense_1_loss_11: 0.0530 - dense_1_loss_12: 0.0517 - dense_1_loss_13: 0.0443 - dense_1_loss_14: 0.0526 - dense_1_loss_15: 0.0542 - dense_1_loss_16: 0.0507 - dense_1_loss_17: 0.0503 - dense_1_loss_18: 0.0501 - dense_1_loss_19: 0.0509 - dense_1_loss_20: 0.0518 - dense_1_loss_21: 0.0551 - dense_1_loss_22: 0.0503 - dense_1_loss_23: 0.0486 - dense_1_loss_24: 0.0491 - dense_1_loss_25: 0.0603 - dense_1_loss_26: 0.0505 - dense_1_loss_27: 0.0577 - dense_1_loss_28: 0.0651 - dense_1_loss_29: 0.0698 - dense_1_loss_30: 0.0000e+00 - dense_1_acc_1: 0.0667 - dense_1_acc_2: 0.5667 - dense_1_acc_3: 0.8833 - dense_1_acc_4: 0.9833 - dense_1_acc_5: 1.0000 - dense_1_acc_6: 1.0000 - dense_1_acc_7: 1.0000 - dense_1_acc_8: 1.0000 - dense_1_acc_9: 1.0000 - dense_1_acc_10: 1.0000 - dense_1_acc_11: 1.0000 - dense_1_acc_12: 1.0000 - dense_1_acc_13: 1.0000 - dense_1_acc_14: 1.0000 - dense_1_acc_15: 1.0000 - dense_1_acc_16: 1.0000 - dense_1_acc_17: 1.0000 - dense_1_acc_18: 1.0000 - dense_1_acc_19: 1.0000 - dense_1_acc_20: 1.0000 - dense_1_acc_21: 1.0000 - dense_1_acc_22: 1.0000 - dense_1_acc_23: 1.0000 - dense_1_acc_24: 1.0000 - dense_1_acc_25: 1.0000 - dense_1_acc_26: 1.0000 - dense_1_acc_27: 1.0000 - dense_1_acc_28: 1.0000 - dense_1_acc_29: 1.0000 - dense_1_acc_30: 0.0000e+00     \n",
      "Epoch 71/100\n"
     ]
    },
    {
     "name": "stdout",
     "output_type": "stream",
     "text": [
      "60/60 [==============================] - 1s - loss: 7.7141 - dense_1_loss_1: 3.8419 - dense_1_loss_2: 1.6594 - dense_1_loss_3: 0.5721 - dense_1_loss_4: 0.1831 - dense_1_loss_5: 0.1353 - dense_1_loss_6: 0.0929 - dense_1_loss_7: 0.0755 - dense_1_loss_8: 0.0645 - dense_1_loss_9: 0.0577 - dense_1_loss_10: 0.0539 - dense_1_loss_11: 0.0512 - dense_1_loss_12: 0.0497 - dense_1_loss_13: 0.0430 - dense_1_loss_14: 0.0507 - dense_1_loss_15: 0.0521 - dense_1_loss_16: 0.0487 - dense_1_loss_17: 0.0484 - dense_1_loss_18: 0.0483 - dense_1_loss_19: 0.0488 - dense_1_loss_20: 0.0496 - dense_1_loss_21: 0.0528 - dense_1_loss_22: 0.0485 - dense_1_loss_23: 0.0465 - dense_1_loss_24: 0.0474 - dense_1_loss_25: 0.0563 - dense_1_loss_26: 0.0486 - dense_1_loss_27: 0.0576 - dense_1_loss_28: 0.0635 - dense_1_loss_29: 0.0660 - dense_1_loss_30: 0.0000e+00 - dense_1_acc_1: 0.0667 - dense_1_acc_2: 0.5667 - dense_1_acc_3: 0.8833 - dense_1_acc_4: 0.9833 - dense_1_acc_5: 1.0000 - dense_1_acc_6: 1.0000 - dense_1_acc_7: 1.0000 - dense_1_acc_8: 1.0000 - dense_1_acc_9: 1.0000 - dense_1_acc_10: 1.0000 - dense_1_acc_11: 1.0000 - dense_1_acc_12: 1.0000 - dense_1_acc_13: 1.0000 - dense_1_acc_14: 1.0000 - dense_1_acc_15: 1.0000 - dense_1_acc_16: 1.0000 - dense_1_acc_17: 1.0000 - dense_1_acc_18: 1.0000 - dense_1_acc_19: 1.0000 - dense_1_acc_20: 1.0000 - dense_1_acc_21: 1.0000 - dense_1_acc_22: 1.0000 - dense_1_acc_23: 1.0000 - dense_1_acc_24: 1.0000 - dense_1_acc_25: 1.0000 - dense_1_acc_26: 1.0000 - dense_1_acc_27: 1.0000 - dense_1_acc_28: 1.0000 - dense_1_acc_29: 1.0000 - dense_1_acc_30: 0.0000e+00     \n",
      "Epoch 72/100\n",
      "60/60 [==============================] - 1s - loss: 7.6224 - dense_1_loss_1: 3.8390 - dense_1_loss_2: 1.6402 - dense_1_loss_3: 0.5601 - dense_1_loss_4: 0.1776 - dense_1_loss_5: 0.1307 - dense_1_loss_6: 0.0899 - dense_1_loss_7: 0.0728 - dense_1_loss_8: 0.0623 - dense_1_loss_9: 0.0556 - dense_1_loss_10: 0.0519 - dense_1_loss_11: 0.0492 - dense_1_loss_12: 0.0479 - dense_1_loss_13: 0.0415 - dense_1_loss_14: 0.0487 - dense_1_loss_15: 0.0504 - dense_1_loss_16: 0.0470 - dense_1_loss_17: 0.0468 - dense_1_loss_18: 0.0465 - dense_1_loss_19: 0.0469 - dense_1_loss_20: 0.0479 - dense_1_loss_21: 0.0507 - dense_1_loss_22: 0.0466 - dense_1_loss_23: 0.0447 - dense_1_loss_24: 0.0459 - dense_1_loss_25: 0.0539 - dense_1_loss_26: 0.0469 - dense_1_loss_27: 0.0556 - dense_1_loss_28: 0.0611 - dense_1_loss_29: 0.0641 - dense_1_loss_30: 0.0000e+00 - dense_1_acc_1: 0.0667 - dense_1_acc_2: 0.5667 - dense_1_acc_3: 0.8833 - dense_1_acc_4: 0.9833 - dense_1_acc_5: 1.0000 - dense_1_acc_6: 1.0000 - dense_1_acc_7: 1.0000 - dense_1_acc_8: 1.0000 - dense_1_acc_9: 1.0000 - dense_1_acc_10: 1.0000 - dense_1_acc_11: 1.0000 - dense_1_acc_12: 1.0000 - dense_1_acc_13: 1.0000 - dense_1_acc_14: 1.0000 - dense_1_acc_15: 1.0000 - dense_1_acc_16: 1.0000 - dense_1_acc_17: 1.0000 - dense_1_acc_18: 1.0000 - dense_1_acc_19: 1.0000 - dense_1_acc_20: 1.0000 - dense_1_acc_21: 1.0000 - dense_1_acc_22: 1.0000 - dense_1_acc_23: 1.0000 - dense_1_acc_24: 1.0000 - dense_1_acc_25: 1.0000 - dense_1_acc_26: 1.0000 - dense_1_acc_27: 1.0000 - dense_1_acc_28: 1.0000 - dense_1_acc_29: 1.0000 - dense_1_acc_30: 0.0000e+00     \n",
      "Epoch 73/100\n",
      "60/60 [==============================] - 1s - loss: 7.5362 - dense_1_loss_1: 3.8358 - dense_1_loss_2: 1.6227 - dense_1_loss_3: 0.5490 - dense_1_loss_4: 0.1714 - dense_1_loss_5: 0.1265 - dense_1_loss_6: 0.0870 - dense_1_loss_7: 0.0706 - dense_1_loss_8: 0.0602 - dense_1_loss_9: 0.0536 - dense_1_loss_10: 0.0501 - dense_1_loss_11: 0.0474 - dense_1_loss_12: 0.0463 - dense_1_loss_13: 0.0401 - dense_1_loss_14: 0.0469 - dense_1_loss_15: 0.0489 - dense_1_loss_16: 0.0456 - dense_1_loss_17: 0.0452 - dense_1_loss_18: 0.0447 - dense_1_loss_19: 0.0452 - dense_1_loss_20: 0.0465 - dense_1_loss_21: 0.0489 - dense_1_loss_22: 0.0448 - dense_1_loss_23: 0.0431 - dense_1_loss_24: 0.0443 - dense_1_loss_25: 0.0529 - dense_1_loss_26: 0.0455 - dense_1_loss_27: 0.0522 - dense_1_loss_28: 0.0584 - dense_1_loss_29: 0.0624 - dense_1_loss_30: 0.0000e+00 - dense_1_acc_1: 0.0667 - dense_1_acc_2: 0.5833 - dense_1_acc_3: 0.8833 - dense_1_acc_4: 0.9833 - dense_1_acc_5: 1.0000 - dense_1_acc_6: 1.0000 - dense_1_acc_7: 1.0000 - dense_1_acc_8: 1.0000 - dense_1_acc_9: 1.0000 - dense_1_acc_10: 1.0000 - dense_1_acc_11: 1.0000 - dense_1_acc_12: 1.0000 - dense_1_acc_13: 1.0000 - dense_1_acc_14: 1.0000 - dense_1_acc_15: 1.0000 - dense_1_acc_16: 1.0000 - dense_1_acc_17: 1.0000 - dense_1_acc_18: 1.0000 - dense_1_acc_19: 1.0000 - dense_1_acc_20: 1.0000 - dense_1_acc_21: 1.0000 - dense_1_acc_22: 1.0000 - dense_1_acc_23: 1.0000 - dense_1_acc_24: 1.0000 - dense_1_acc_25: 1.0000 - dense_1_acc_26: 1.0000 - dense_1_acc_27: 1.0000 - dense_1_acc_28: 1.0000 - dense_1_acc_29: 1.0000 - dense_1_acc_30: 0.0000e+00     \n",
      "Epoch 74/100\n",
      "60/60 [==============================] - 1s - loss: 7.4499 - dense_1_loss_1: 3.8327 - dense_1_loss_2: 1.6053 - dense_1_loss_3: 0.5375 - dense_1_loss_4: 0.1654 - dense_1_loss_5: 0.1219 - dense_1_loss_6: 0.0838 - dense_1_loss_7: 0.0679 - dense_1_loss_8: 0.0579 - dense_1_loss_9: 0.0516 - dense_1_loss_10: 0.0484 - dense_1_loss_11: 0.0457 - dense_1_loss_12: 0.0449 - dense_1_loss_13: 0.0386 - dense_1_loss_14: 0.0457 - dense_1_loss_15: 0.0469 - dense_1_loss_16: 0.0440 - dense_1_loss_17: 0.0436 - dense_1_loss_18: 0.0430 - dense_1_loss_19: 0.0438 - dense_1_loss_20: 0.0448 - dense_1_loss_21: 0.0471 - dense_1_loss_22: 0.0433 - dense_1_loss_23: 0.0413 - dense_1_loss_24: 0.0426 - dense_1_loss_25: 0.0510 - dense_1_loss_26: 0.0440 - dense_1_loss_27: 0.0504 - dense_1_loss_28: 0.0568 - dense_1_loss_29: 0.0599 - dense_1_loss_30: 0.0000e+00 - dense_1_acc_1: 0.0667 - dense_1_acc_2: 0.6000 - dense_1_acc_3: 0.8833 - dense_1_acc_4: 0.9833 - dense_1_acc_5: 1.0000 - dense_1_acc_6: 1.0000 - dense_1_acc_7: 1.0000 - dense_1_acc_8: 1.0000 - dense_1_acc_9: 1.0000 - dense_1_acc_10: 1.0000 - dense_1_acc_11: 1.0000 - dense_1_acc_12: 1.0000 - dense_1_acc_13: 1.0000 - dense_1_acc_14: 1.0000 - dense_1_acc_15: 1.0000 - dense_1_acc_16: 1.0000 - dense_1_acc_17: 1.0000 - dense_1_acc_18: 1.0000 - dense_1_acc_19: 1.0000 - dense_1_acc_20: 1.0000 - dense_1_acc_21: 1.0000 - dense_1_acc_22: 1.0000 - dense_1_acc_23: 1.0000 - dense_1_acc_24: 1.0000 - dense_1_acc_25: 1.0000 - dense_1_acc_26: 1.0000 - dense_1_acc_27: 1.0000 - dense_1_acc_28: 1.0000 - dense_1_acc_29: 1.0000 - dense_1_acc_30: 0.0000e+00     \n",
      "Epoch 75/100\n",
      "60/60 [==============================] - 1s - loss: 7.3730 - dense_1_loss_1: 3.8300 - dense_1_loss_2: 1.5881 - dense_1_loss_3: 0.5270 - dense_1_loss_4: 0.1605 - dense_1_loss_5: 0.1178 - dense_1_loss_6: 0.0811 - dense_1_loss_7: 0.0658 - dense_1_loss_8: 0.0559 - dense_1_loss_9: 0.0499 - dense_1_loss_10: 0.0468 - dense_1_loss_11: 0.0442 - dense_1_loss_12: 0.0437 - dense_1_loss_13: 0.0372 - dense_1_loss_14: 0.0444 - dense_1_loss_15: 0.0452 - dense_1_loss_16: 0.0426 - dense_1_loss_17: 0.0421 - dense_1_loss_18: 0.0417 - dense_1_loss_19: 0.0425 - dense_1_loss_20: 0.0433 - dense_1_loss_21: 0.0455 - dense_1_loss_22: 0.0420 - dense_1_loss_23: 0.0398 - dense_1_loss_24: 0.0412 - dense_1_loss_25: 0.0493 - dense_1_loss_26: 0.0425 - dense_1_loss_27: 0.0493 - dense_1_loss_28: 0.0552 - dense_1_loss_29: 0.0582 - dense_1_loss_30: 0.0000e+00 - dense_1_acc_1: 0.0667 - dense_1_acc_2: 0.6000 - dense_1_acc_3: 0.9000 - dense_1_acc_4: 0.9833 - dense_1_acc_5: 1.0000 - dense_1_acc_6: 1.0000 - dense_1_acc_7: 1.0000 - dense_1_acc_8: 1.0000 - dense_1_acc_9: 1.0000 - dense_1_acc_10: 1.0000 - dense_1_acc_11: 1.0000 - dense_1_acc_12: 1.0000 - dense_1_acc_13: 1.0000 - dense_1_acc_14: 1.0000 - dense_1_acc_15: 1.0000 - dense_1_acc_16: 1.0000 - dense_1_acc_17: 1.0000 - dense_1_acc_18: 1.0000 - dense_1_acc_19: 1.0000 - dense_1_acc_20: 1.0000 - dense_1_acc_21: 1.0000 - dense_1_acc_22: 1.0000 - dense_1_acc_23: 1.0000 - dense_1_acc_24: 1.0000 - dense_1_acc_25: 1.0000 - dense_1_acc_26: 1.0000 - dense_1_acc_27: 1.0000 - dense_1_acc_28: 1.0000 - dense_1_acc_29: 1.0000 - dense_1_acc_30: 0.0000e+00     \n",
      "Epoch 76/100\n",
      "60/60 [==============================] - 1s - loss: 7.2967 - dense_1_loss_1: 3.8269 - dense_1_loss_2: 1.5715 - dense_1_loss_3: 0.5163 - dense_1_loss_4: 0.1555 - dense_1_loss_5: 0.1140 - dense_1_loss_6: 0.0783 - dense_1_loss_7: 0.0638 - dense_1_loss_8: 0.0541 - dense_1_loss_9: 0.0484 - dense_1_loss_10: 0.0454 - dense_1_loss_11: 0.0427 - dense_1_loss_12: 0.0423 - dense_1_loss_13: 0.0361 - dense_1_loss_14: 0.0429 - dense_1_loss_15: 0.0438 - dense_1_loss_16: 0.0413 - dense_1_loss_17: 0.0406 - dense_1_loss_18: 0.0404 - dense_1_loss_19: 0.0412 - dense_1_loss_20: 0.0418 - dense_1_loss_21: 0.0439 - dense_1_loss_22: 0.0406 - dense_1_loss_23: 0.0385 - dense_1_loss_24: 0.0398 - dense_1_loss_25: 0.0474 - dense_1_loss_26: 0.0409 - dense_1_loss_27: 0.0484 - dense_1_loss_28: 0.0538 - dense_1_loss_29: 0.0561 - dense_1_loss_30: 0.0000e+00 - dense_1_acc_1: 0.0667 - dense_1_acc_2: 0.6000 - dense_1_acc_3: 0.9167 - dense_1_acc_4: 0.9833 - dense_1_acc_5: 1.0000 - dense_1_acc_6: 1.0000 - dense_1_acc_7: 1.0000 - dense_1_acc_8: 1.0000 - dense_1_acc_9: 1.0000 - dense_1_acc_10: 1.0000 - dense_1_acc_11: 1.0000 - dense_1_acc_12: 1.0000 - dense_1_acc_13: 1.0000 - dense_1_acc_14: 1.0000 - dense_1_acc_15: 1.0000 - dense_1_acc_16: 1.0000 - dense_1_acc_17: 1.0000 - dense_1_acc_18: 1.0000 - dense_1_acc_19: 1.0000 - dense_1_acc_20: 1.0000 - dense_1_acc_21: 1.0000 - dense_1_acc_22: 1.0000 - dense_1_acc_23: 1.0000 - dense_1_acc_24: 1.0000 - dense_1_acc_25: 1.0000 - dense_1_acc_26: 1.0000 - dense_1_acc_27: 1.0000 - dense_1_acc_28: 1.0000 - dense_1_acc_29: 1.0000 - dense_1_acc_30: 0.0000e+00     \n",
      "Epoch 77/100\n",
      "60/60 [==============================] - 1s - loss: 7.2266 - dense_1_loss_1: 3.8241 - dense_1_loss_2: 1.5554 - dense_1_loss_3: 0.5069 - dense_1_loss_4: 0.1512 - dense_1_loss_5: 0.1108 - dense_1_loss_6: 0.0760 - dense_1_loss_7: 0.0621 - dense_1_loss_8: 0.0526 - dense_1_loss_9: 0.0469 - dense_1_loss_10: 0.0440 - dense_1_loss_11: 0.0413 - dense_1_loss_12: 0.0410 - dense_1_loss_13: 0.0351 - dense_1_loss_14: 0.0413 - dense_1_loss_15: 0.0427 - dense_1_loss_16: 0.0400 - dense_1_loss_17: 0.0394 - dense_1_loss_18: 0.0392 - dense_1_loss_19: 0.0399 - dense_1_loss_20: 0.0404 - dense_1_loss_21: 0.0424 - dense_1_loss_22: 0.0393 - dense_1_loss_23: 0.0373 - dense_1_loss_24: 0.0386 - dense_1_loss_25: 0.0459 - dense_1_loss_26: 0.0398 - dense_1_loss_27: 0.0466 - dense_1_loss_28: 0.0519 - dense_1_loss_29: 0.0544 - dense_1_loss_30: 0.0000e+00 - dense_1_acc_1: 0.0667 - dense_1_acc_2: 0.6000 - dense_1_acc_3: 0.9167 - dense_1_acc_4: 0.9833 - dense_1_acc_5: 1.0000 - dense_1_acc_6: 1.0000 - dense_1_acc_7: 1.0000 - dense_1_acc_8: 1.0000 - dense_1_acc_9: 1.0000 - dense_1_acc_10: 1.0000 - dense_1_acc_11: 1.0000 - dense_1_acc_12: 1.0000 - dense_1_acc_13: 1.0000 - dense_1_acc_14: 1.0000 - dense_1_acc_15: 1.0000 - dense_1_acc_16: 1.0000 - dense_1_acc_17: 1.0000 - dense_1_acc_18: 1.0000 - dense_1_acc_19: 1.0000 - dense_1_acc_20: 1.0000 - dense_1_acc_21: 1.0000 - dense_1_acc_22: 1.0000 - dense_1_acc_23: 1.0000 - dense_1_acc_24: 1.0000 - dense_1_acc_25: 1.0000 - dense_1_acc_26: 1.0000 - dense_1_acc_27: 1.0000 - dense_1_acc_28: 1.0000 - dense_1_acc_29: 1.0000 - dense_1_acc_30: 0.0000e+00     \n",
      "Epoch 78/100\n",
      "60/60 [==============================] - 1s - loss: 7.1568 - dense_1_loss_1: 3.8210 - dense_1_loss_2: 1.5395 - dense_1_loss_3: 0.4971 - dense_1_loss_4: 0.1468 - dense_1_loss_5: 0.1075 - dense_1_loss_6: 0.0736 - dense_1_loss_7: 0.0601 - dense_1_loss_8: 0.0512 - dense_1_loss_9: 0.0453 - dense_1_loss_10: 0.0427 - dense_1_loss_11: 0.0398 - dense_1_loss_12: 0.0397 - dense_1_loss_13: 0.0341 - dense_1_loss_14: 0.0398 - dense_1_loss_15: 0.0416 - dense_1_loss_16: 0.0388 - dense_1_loss_17: 0.0383 - dense_1_loss_18: 0.0379 - dense_1_loss_19: 0.0385 - dense_1_loss_20: 0.0391 - dense_1_loss_21: 0.0411 - dense_1_loss_22: 0.0379 - dense_1_loss_23: 0.0363 - dense_1_loss_24: 0.0374 - dense_1_loss_25: 0.0447 - dense_1_loss_26: 0.0388 - dense_1_loss_27: 0.0449 - dense_1_loss_28: 0.0505 - dense_1_loss_29: 0.0526 - dense_1_loss_30: 0.0000e+00 - dense_1_acc_1: 0.0667 - dense_1_acc_2: 0.6000 - dense_1_acc_3: 0.9167 - dense_1_acc_4: 0.9833 - dense_1_acc_5: 1.0000 - dense_1_acc_6: 1.0000 - dense_1_acc_7: 1.0000 - dense_1_acc_8: 1.0000 - dense_1_acc_9: 1.0000 - dense_1_acc_10: 1.0000 - dense_1_acc_11: 1.0000 - dense_1_acc_12: 1.0000 - dense_1_acc_13: 1.0000 - dense_1_acc_14: 1.0000 - dense_1_acc_15: 1.0000 - dense_1_acc_16: 1.0000 - dense_1_acc_17: 1.0000 - dense_1_acc_18: 1.0000 - dense_1_acc_19: 1.0000 - dense_1_acc_20: 1.0000 - dense_1_acc_21: 1.0000 - dense_1_acc_22: 1.0000 - dense_1_acc_23: 1.0000 - dense_1_acc_24: 1.0000 - dense_1_acc_25: 1.0000 - dense_1_acc_26: 1.0000 - dense_1_acc_27: 1.0000 - dense_1_acc_28: 1.0000 - dense_1_acc_29: 1.0000 - dense_1_acc_30: 0.0000e+00     \n",
      "Epoch 79/100\n",
      "60/60 [==============================] - 1s - loss: 7.0895 - dense_1_loss_1: 3.8184 - dense_1_loss_2: 1.5245 - dense_1_loss_3: 0.4868 - dense_1_loss_4: 0.1423 - dense_1_loss_5: 0.1042 - dense_1_loss_6: 0.0713 - dense_1_loss_7: 0.0582 - dense_1_loss_8: 0.0496 - dense_1_loss_9: 0.0439 - dense_1_loss_10: 0.0415 - dense_1_loss_11: 0.0385 - dense_1_loss_12: 0.0385 - dense_1_loss_13: 0.0331 - dense_1_loss_14: 0.0386 - dense_1_loss_15: 0.0404 - dense_1_loss_16: 0.0377 - dense_1_loss_17: 0.0372 - dense_1_loss_18: 0.0368 - dense_1_loss_19: 0.0374 - dense_1_loss_20: 0.0379 - dense_1_loss_21: 0.0399 - dense_1_loss_22: 0.0368 - dense_1_loss_23: 0.0352 - dense_1_loss_24: 0.0362 - dense_1_loss_25: 0.0437 - dense_1_loss_26: 0.0377 - dense_1_loss_27: 0.0432 - dense_1_loss_28: 0.0490 - dense_1_loss_29: 0.0510 - dense_1_loss_30: 0.0000e+00 - dense_1_acc_1: 0.0667 - dense_1_acc_2: 0.6000 - dense_1_acc_3: 0.9167 - dense_1_acc_4: 0.9833 - dense_1_acc_5: 1.0000 - dense_1_acc_6: 1.0000 - dense_1_acc_7: 1.0000 - dense_1_acc_8: 1.0000 - dense_1_acc_9: 1.0000 - dense_1_acc_10: 1.0000 - dense_1_acc_11: 1.0000 - dense_1_acc_12: 1.0000 - dense_1_acc_13: 1.0000 - dense_1_acc_14: 1.0000 - dense_1_acc_15: 1.0000 - dense_1_acc_16: 1.0000 - dense_1_acc_17: 1.0000 - dense_1_acc_18: 1.0000 - dense_1_acc_19: 1.0000 - dense_1_acc_20: 1.0000 - dense_1_acc_21: 1.0000 - dense_1_acc_22: 1.0000 - dense_1_acc_23: 1.0000 - dense_1_acc_24: 1.0000 - dense_1_acc_25: 1.0000 - dense_1_acc_26: 1.0000 - dense_1_acc_27: 1.0000 - dense_1_acc_28: 1.0000 - dense_1_acc_29: 1.0000 - dense_1_acc_30: 0.0000e+00     \n",
      "Epoch 80/100\n",
      "60/60 [==============================] - 1s - loss: 7.0253 - dense_1_loss_1: 3.8154 - dense_1_loss_2: 1.5091 - dense_1_loss_3: 0.4785 - dense_1_loss_4: 0.1384 - dense_1_loss_5: 0.1012 - dense_1_loss_6: 0.0694 - dense_1_loss_7: 0.0567 - dense_1_loss_8: 0.0482 - dense_1_loss_9: 0.0427 - dense_1_loss_10: 0.0402 - dense_1_loss_11: 0.0374 - dense_1_loss_12: 0.0374 - dense_1_loss_13: 0.0321 - dense_1_loss_14: 0.0377 - dense_1_loss_15: 0.0390 - dense_1_loss_16: 0.0365 - dense_1_loss_17: 0.0360 - dense_1_loss_18: 0.0358 - dense_1_loss_19: 0.0362 - dense_1_loss_20: 0.0366 - dense_1_loss_21: 0.0386 - dense_1_loss_22: 0.0358 - dense_1_loss_23: 0.0340 - dense_1_loss_24: 0.0352 - dense_1_loss_25: 0.0418 - dense_1_loss_26: 0.0362 - dense_1_loss_27: 0.0429 - dense_1_loss_28: 0.0477 - dense_1_loss_29: 0.0487 - dense_1_loss_30: 0.0000e+00 - dense_1_acc_1: 0.0667 - dense_1_acc_2: 0.6000 - dense_1_acc_3: 0.9167 - dense_1_acc_4: 0.9833 - dense_1_acc_5: 1.0000 - dense_1_acc_6: 1.0000 - dense_1_acc_7: 1.0000 - dense_1_acc_8: 1.0000 - dense_1_acc_9: 1.0000 - dense_1_acc_10: 1.0000 - dense_1_acc_11: 1.0000 - dense_1_acc_12: 1.0000 - dense_1_acc_13: 1.0000 - dense_1_acc_14: 1.0000 - dense_1_acc_15: 1.0000 - dense_1_acc_16: 1.0000 - dense_1_acc_17: 1.0000 - dense_1_acc_18: 1.0000 - dense_1_acc_19: 1.0000 - dense_1_acc_20: 1.0000 - dense_1_acc_21: 1.0000 - dense_1_acc_22: 1.0000 - dense_1_acc_23: 1.0000 - dense_1_acc_24: 1.0000 - dense_1_acc_25: 1.0000 - dense_1_acc_26: 1.0000 - dense_1_acc_27: 1.0000 - dense_1_acc_28: 1.0000 - dense_1_acc_29: 1.0000 - dense_1_acc_30: 0.0000e+00     \n",
      "Epoch 81/100\n"
     ]
    },
    {
     "name": "stdout",
     "output_type": "stream",
     "text": [
      "60/60 [==============================] - 1s - loss: 6.9646 - dense_1_loss_1: 3.8126 - dense_1_loss_2: 1.4946 - dense_1_loss_3: 0.4691 - dense_1_loss_4: 0.1348 - dense_1_loss_5: 0.0980 - dense_1_loss_6: 0.0675 - dense_1_loss_7: 0.0550 - dense_1_loss_8: 0.0465 - dense_1_loss_9: 0.0415 - dense_1_loss_10: 0.0389 - dense_1_loss_11: 0.0364 - dense_1_loss_12: 0.0365 - dense_1_loss_13: 0.0311 - dense_1_loss_14: 0.0369 - dense_1_loss_15: 0.0375 - dense_1_loss_16: 0.0355 - dense_1_loss_17: 0.0349 - dense_1_loss_18: 0.0349 - dense_1_loss_19: 0.0353 - dense_1_loss_20: 0.0355 - dense_1_loss_21: 0.0376 - dense_1_loss_22: 0.0350 - dense_1_loss_23: 0.0328 - dense_1_loss_24: 0.0343 - dense_1_loss_25: 0.0405 - dense_1_loss_26: 0.0351 - dense_1_loss_27: 0.0421 - dense_1_loss_28: 0.0467 - dense_1_loss_29: 0.0475 - dense_1_loss_30: 0.0000e+00 - dense_1_acc_1: 0.0667 - dense_1_acc_2: 0.6000 - dense_1_acc_3: 0.9167 - dense_1_acc_4: 1.0000 - dense_1_acc_5: 1.0000 - dense_1_acc_6: 1.0000 - dense_1_acc_7: 1.0000 - dense_1_acc_8: 1.0000 - dense_1_acc_9: 1.0000 - dense_1_acc_10: 1.0000 - dense_1_acc_11: 1.0000 - dense_1_acc_12: 1.0000 - dense_1_acc_13: 1.0000 - dense_1_acc_14: 1.0000 - dense_1_acc_15: 1.0000 - dense_1_acc_16: 1.0000 - dense_1_acc_17: 1.0000 - dense_1_acc_18: 1.0000 - dense_1_acc_19: 1.0000 - dense_1_acc_20: 1.0000 - dense_1_acc_21: 1.0000 - dense_1_acc_22: 1.0000 - dense_1_acc_23: 1.0000 - dense_1_acc_24: 1.0000 - dense_1_acc_25: 1.0000 - dense_1_acc_26: 1.0000 - dense_1_acc_27: 1.0000 - dense_1_acc_28: 1.0000 - dense_1_acc_29: 1.0000 - dense_1_acc_30: 0.0000e+00     \n",
      "Epoch 82/100\n",
      "60/60 [==============================] - 1s - loss: 6.9073 - dense_1_loss_1: 3.8096 - dense_1_loss_2: 1.4805 - dense_1_loss_3: 0.4611 - dense_1_loss_4: 0.1317 - dense_1_loss_5: 0.0955 - dense_1_loss_6: 0.0658 - dense_1_loss_7: 0.0535 - dense_1_loss_8: 0.0453 - dense_1_loss_9: 0.0403 - dense_1_loss_10: 0.0378 - dense_1_loss_11: 0.0354 - dense_1_loss_12: 0.0356 - dense_1_loss_13: 0.0303 - dense_1_loss_14: 0.0359 - dense_1_loss_15: 0.0365 - dense_1_loss_16: 0.0346 - dense_1_loss_17: 0.0338 - dense_1_loss_18: 0.0339 - dense_1_loss_19: 0.0342 - dense_1_loss_20: 0.0345 - dense_1_loss_21: 0.0365 - dense_1_loss_22: 0.0340 - dense_1_loss_23: 0.0318 - dense_1_loss_24: 0.0332 - dense_1_loss_25: 0.0394 - dense_1_loss_26: 0.0341 - dense_1_loss_27: 0.0408 - dense_1_loss_28: 0.0454 - dense_1_loss_29: 0.0463 - dense_1_loss_30: 0.0000e+00 - dense_1_acc_1: 0.0667 - dense_1_acc_2: 0.6000 - dense_1_acc_3: 0.9167 - dense_1_acc_4: 1.0000 - dense_1_acc_5: 1.0000 - dense_1_acc_6: 1.0000 - dense_1_acc_7: 1.0000 - dense_1_acc_8: 1.0000 - dense_1_acc_9: 1.0000 - dense_1_acc_10: 1.0000 - dense_1_acc_11: 1.0000 - dense_1_acc_12: 1.0000 - dense_1_acc_13: 1.0000 - dense_1_acc_14: 1.0000 - dense_1_acc_15: 1.0000 - dense_1_acc_16: 1.0000 - dense_1_acc_17: 1.0000 - dense_1_acc_18: 1.0000 - dense_1_acc_19: 1.0000 - dense_1_acc_20: 1.0000 - dense_1_acc_21: 1.0000 - dense_1_acc_22: 1.0000 - dense_1_acc_23: 1.0000 - dense_1_acc_24: 1.0000 - dense_1_acc_25: 1.0000 - dense_1_acc_26: 1.0000 - dense_1_acc_27: 1.0000 - dense_1_acc_28: 1.0000 - dense_1_acc_29: 1.0000 - dense_1_acc_30: 0.0000e+00     \n",
      "Epoch 83/100\n",
      "60/60 [==============================] - 1s - loss: 6.8484 - dense_1_loss_1: 3.8069 - dense_1_loss_2: 1.4657 - dense_1_loss_3: 0.4525 - dense_1_loss_4: 0.1278 - dense_1_loss_5: 0.0928 - dense_1_loss_6: 0.0638 - dense_1_loss_7: 0.0519 - dense_1_loss_8: 0.0440 - dense_1_loss_9: 0.0391 - dense_1_loss_10: 0.0367 - dense_1_loss_11: 0.0343 - dense_1_loss_12: 0.0346 - dense_1_loss_13: 0.0295 - dense_1_loss_14: 0.0346 - dense_1_loss_15: 0.0359 - dense_1_loss_16: 0.0337 - dense_1_loss_17: 0.0330 - dense_1_loss_18: 0.0329 - dense_1_loss_19: 0.0332 - dense_1_loss_20: 0.0336 - dense_1_loss_21: 0.0354 - dense_1_loss_22: 0.0329 - dense_1_loss_23: 0.0310 - dense_1_loss_24: 0.0323 - dense_1_loss_25: 0.0385 - dense_1_loss_26: 0.0333 - dense_1_loss_27: 0.0392 - dense_1_loss_28: 0.0442 - dense_1_loss_29: 0.0453 - dense_1_loss_30: 0.0000e+00 - dense_1_acc_1: 0.0667 - dense_1_acc_2: 0.6000 - dense_1_acc_3: 0.9167 - dense_1_acc_4: 1.0000 - dense_1_acc_5: 1.0000 - dense_1_acc_6: 1.0000 - dense_1_acc_7: 1.0000 - dense_1_acc_8: 1.0000 - dense_1_acc_9: 1.0000 - dense_1_acc_10: 1.0000 - dense_1_acc_11: 1.0000 - dense_1_acc_12: 1.0000 - dense_1_acc_13: 1.0000 - dense_1_acc_14: 1.0000 - dense_1_acc_15: 1.0000 - dense_1_acc_16: 1.0000 - dense_1_acc_17: 1.0000 - dense_1_acc_18: 1.0000 - dense_1_acc_19: 1.0000 - dense_1_acc_20: 1.0000 - dense_1_acc_21: 1.0000 - dense_1_acc_22: 1.0000 - dense_1_acc_23: 1.0000 - dense_1_acc_24: 1.0000 - dense_1_acc_25: 1.0000 - dense_1_acc_26: 1.0000 - dense_1_acc_27: 1.0000 - dense_1_acc_28: 1.0000 - dense_1_acc_29: 1.0000 - dense_1_acc_30: 0.0000e+00     \n",
      "Epoch 84/100\n",
      "60/60 [==============================] - 1s - loss: 6.7953 - dense_1_loss_1: 3.8041 - dense_1_loss_2: 1.4518 - dense_1_loss_3: 0.4448 - dense_1_loss_4: 0.1249 - dense_1_loss_5: 0.0905 - dense_1_loss_6: 0.0621 - dense_1_loss_7: 0.0506 - dense_1_loss_8: 0.0430 - dense_1_loss_9: 0.0380 - dense_1_loss_10: 0.0358 - dense_1_loss_11: 0.0333 - dense_1_loss_12: 0.0336 - dense_1_loss_13: 0.0287 - dense_1_loss_14: 0.0336 - dense_1_loss_15: 0.0351 - dense_1_loss_16: 0.0328 - dense_1_loss_17: 0.0322 - dense_1_loss_18: 0.0319 - dense_1_loss_19: 0.0324 - dense_1_loss_20: 0.0327 - dense_1_loss_21: 0.0344 - dense_1_loss_22: 0.0319 - dense_1_loss_23: 0.0301 - dense_1_loss_24: 0.0314 - dense_1_loss_25: 0.0375 - dense_1_loss_26: 0.0326 - dense_1_loss_27: 0.0380 - dense_1_loss_28: 0.0429 - dense_1_loss_29: 0.0443 - dense_1_loss_30: 0.0000e+00 - dense_1_acc_1: 0.0667 - dense_1_acc_2: 0.6000 - dense_1_acc_3: 0.9167 - dense_1_acc_4: 1.0000 - dense_1_acc_5: 1.0000 - dense_1_acc_6: 1.0000 - dense_1_acc_7: 1.0000 - dense_1_acc_8: 1.0000 - dense_1_acc_9: 1.0000 - dense_1_acc_10: 1.0000 - dense_1_acc_11: 1.0000 - dense_1_acc_12: 1.0000 - dense_1_acc_13: 1.0000 - dense_1_acc_14: 1.0000 - dense_1_acc_15: 1.0000 - dense_1_acc_16: 1.0000 - dense_1_acc_17: 1.0000 - dense_1_acc_18: 1.0000 - dense_1_acc_19: 1.0000 - dense_1_acc_20: 1.0000 - dense_1_acc_21: 1.0000 - dense_1_acc_22: 1.0000 - dense_1_acc_23: 1.0000 - dense_1_acc_24: 1.0000 - dense_1_acc_25: 1.0000 - dense_1_acc_26: 1.0000 - dense_1_acc_27: 1.0000 - dense_1_acc_28: 1.0000 - dense_1_acc_29: 1.0000 - dense_1_acc_30: 0.0000e+00     \n",
      "Epoch 85/100\n",
      "60/60 [==============================] - 1s - loss: 6.7425 - dense_1_loss_1: 3.8012 - dense_1_loss_2: 1.4388 - dense_1_loss_3: 0.4369 - dense_1_loss_4: 0.1217 - dense_1_loss_5: 0.0879 - dense_1_loss_6: 0.0605 - dense_1_loss_7: 0.0493 - dense_1_loss_8: 0.0418 - dense_1_loss_9: 0.0370 - dense_1_loss_10: 0.0348 - dense_1_loss_11: 0.0324 - dense_1_loss_12: 0.0328 - dense_1_loss_13: 0.0280 - dense_1_loss_14: 0.0328 - dense_1_loss_15: 0.0341 - dense_1_loss_16: 0.0319 - dense_1_loss_17: 0.0313 - dense_1_loss_18: 0.0311 - dense_1_loss_19: 0.0316 - dense_1_loss_20: 0.0317 - dense_1_loss_21: 0.0335 - dense_1_loss_22: 0.0311 - dense_1_loss_23: 0.0293 - dense_1_loss_24: 0.0306 - dense_1_loss_25: 0.0365 - dense_1_loss_26: 0.0318 - dense_1_loss_27: 0.0370 - dense_1_loss_28: 0.0418 - dense_1_loss_29: 0.0431 - dense_1_loss_30: 0.0000e+00 - dense_1_acc_1: 0.0667 - dense_1_acc_2: 0.6000 - dense_1_acc_3: 0.9167 - dense_1_acc_4: 1.0000 - dense_1_acc_5: 1.0000 - dense_1_acc_6: 1.0000 - dense_1_acc_7: 1.0000 - dense_1_acc_8: 1.0000 - dense_1_acc_9: 1.0000 - dense_1_acc_10: 1.0000 - dense_1_acc_11: 1.0000 - dense_1_acc_12: 1.0000 - dense_1_acc_13: 1.0000 - dense_1_acc_14: 1.0000 - dense_1_acc_15: 1.0000 - dense_1_acc_16: 1.0000 - dense_1_acc_17: 1.0000 - dense_1_acc_18: 1.0000 - dense_1_acc_19: 1.0000 - dense_1_acc_20: 1.0000 - dense_1_acc_21: 1.0000 - dense_1_acc_22: 1.0000 - dense_1_acc_23: 1.0000 - dense_1_acc_24: 1.0000 - dense_1_acc_25: 1.0000 - dense_1_acc_26: 1.0000 - dense_1_acc_27: 1.0000 - dense_1_acc_28: 1.0000 - dense_1_acc_29: 1.0000 - dense_1_acc_30: 0.0000e+00     \n",
      "Epoch 86/100\n",
      "60/60 [==============================] - 1s - loss: 6.6927 - dense_1_loss_1: 3.7987 - dense_1_loss_2: 1.4252 - dense_1_loss_3: 0.4297 - dense_1_loss_4: 0.1188 - dense_1_loss_5: 0.0857 - dense_1_loss_6: 0.0592 - dense_1_loss_7: 0.0481 - dense_1_loss_8: 0.0407 - dense_1_loss_9: 0.0361 - dense_1_loss_10: 0.0339 - dense_1_loss_11: 0.0316 - dense_1_loss_12: 0.0320 - dense_1_loss_13: 0.0273 - dense_1_loss_14: 0.0321 - dense_1_loss_15: 0.0331 - dense_1_loss_16: 0.0311 - dense_1_loss_17: 0.0306 - dense_1_loss_18: 0.0303 - dense_1_loss_19: 0.0309 - dense_1_loss_20: 0.0308 - dense_1_loss_21: 0.0326 - dense_1_loss_22: 0.0304 - dense_1_loss_23: 0.0284 - dense_1_loss_24: 0.0299 - dense_1_loss_25: 0.0353 - dense_1_loss_26: 0.0309 - dense_1_loss_27: 0.0367 - dense_1_loss_28: 0.0408 - dense_1_loss_29: 0.0419 - dense_1_loss_30: 0.0000e+00 - dense_1_acc_1: 0.0667 - dense_1_acc_2: 0.6000 - dense_1_acc_3: 0.9167 - dense_1_acc_4: 1.0000 - dense_1_acc_5: 1.0000 - dense_1_acc_6: 1.0000 - dense_1_acc_7: 1.0000 - dense_1_acc_8: 1.0000 - dense_1_acc_9: 1.0000 - dense_1_acc_10: 1.0000 - dense_1_acc_11: 1.0000 - dense_1_acc_12: 1.0000 - dense_1_acc_13: 1.0000 - dense_1_acc_14: 1.0000 - dense_1_acc_15: 1.0000 - dense_1_acc_16: 1.0000 - dense_1_acc_17: 1.0000 - dense_1_acc_18: 1.0000 - dense_1_acc_19: 1.0000 - dense_1_acc_20: 1.0000 - dense_1_acc_21: 1.0000 - dense_1_acc_22: 1.0000 - dense_1_acc_23: 1.0000 - dense_1_acc_24: 1.0000 - dense_1_acc_25: 1.0000 - dense_1_acc_26: 1.0000 - dense_1_acc_27: 1.0000 - dense_1_acc_28: 1.0000 - dense_1_acc_29: 1.0000 - dense_1_acc_30: 0.0000e+00     \n",
      "Epoch 87/100\n",
      "60/60 [==============================] - 1s - loss: 6.6447 - dense_1_loss_1: 3.7956 - dense_1_loss_2: 1.4130 - dense_1_loss_3: 0.4228 - dense_1_loss_4: 0.1160 - dense_1_loss_5: 0.0839 - dense_1_loss_6: 0.0578 - dense_1_loss_7: 0.0469 - dense_1_loss_8: 0.0396 - dense_1_loss_9: 0.0353 - dense_1_loss_10: 0.0330 - dense_1_loss_11: 0.0308 - dense_1_loss_12: 0.0313 - dense_1_loss_13: 0.0266 - dense_1_loss_14: 0.0314 - dense_1_loss_15: 0.0322 - dense_1_loss_16: 0.0303 - dense_1_loss_17: 0.0298 - dense_1_loss_18: 0.0295 - dense_1_loss_19: 0.0301 - dense_1_loss_20: 0.0300 - dense_1_loss_21: 0.0317 - dense_1_loss_22: 0.0295 - dense_1_loss_23: 0.0277 - dense_1_loss_24: 0.0292 - dense_1_loss_25: 0.0341 - dense_1_loss_26: 0.0300 - dense_1_loss_27: 0.0360 - dense_1_loss_28: 0.0399 - dense_1_loss_29: 0.0406 - dense_1_loss_30: 0.0000e+00 - dense_1_acc_1: 0.0667 - dense_1_acc_2: 0.6000 - dense_1_acc_3: 0.9167 - dense_1_acc_4: 1.0000 - dense_1_acc_5: 1.0000 - dense_1_acc_6: 1.0000 - dense_1_acc_7: 1.0000 - dense_1_acc_8: 1.0000 - dense_1_acc_9: 1.0000 - dense_1_acc_10: 1.0000 - dense_1_acc_11: 1.0000 - dense_1_acc_12: 1.0000 - dense_1_acc_13: 1.0000 - dense_1_acc_14: 1.0000 - dense_1_acc_15: 1.0000 - dense_1_acc_16: 1.0000 - dense_1_acc_17: 1.0000 - dense_1_acc_18: 1.0000 - dense_1_acc_19: 1.0000 - dense_1_acc_20: 1.0000 - dense_1_acc_21: 1.0000 - dense_1_acc_22: 1.0000 - dense_1_acc_23: 1.0000 - dense_1_acc_24: 1.0000 - dense_1_acc_25: 1.0000 - dense_1_acc_26: 1.0000 - dense_1_acc_27: 1.0000 - dense_1_acc_28: 1.0000 - dense_1_acc_29: 1.0000 - dense_1_acc_30: 0.0000e+00     \n",
      "Epoch 88/100\n",
      "60/60 [==============================] - 1s - loss: 6.5963 - dense_1_loss_1: 3.7928 - dense_1_loss_2: 1.3999 - dense_1_loss_3: 0.4154 - dense_1_loss_4: 0.1136 - dense_1_loss_5: 0.0818 - dense_1_loss_6: 0.0563 - dense_1_loss_7: 0.0458 - dense_1_loss_8: 0.0387 - dense_1_loss_9: 0.0345 - dense_1_loss_10: 0.0322 - dense_1_loss_11: 0.0301 - dense_1_loss_12: 0.0305 - dense_1_loss_13: 0.0259 - dense_1_loss_14: 0.0306 - dense_1_loss_15: 0.0314 - dense_1_loss_16: 0.0296 - dense_1_loss_17: 0.0290 - dense_1_loss_18: 0.0288 - dense_1_loss_19: 0.0293 - dense_1_loss_20: 0.0294 - dense_1_loss_21: 0.0309 - dense_1_loss_22: 0.0287 - dense_1_loss_23: 0.0271 - dense_1_loss_24: 0.0284 - dense_1_loss_25: 0.0336 - dense_1_loss_26: 0.0292 - dense_1_loss_27: 0.0347 - dense_1_loss_28: 0.0388 - dense_1_loss_29: 0.0395 - dense_1_loss_30: 0.0000e+00 - dense_1_acc_1: 0.0667 - dense_1_acc_2: 0.6000 - dense_1_acc_3: 0.9167 - dense_1_acc_4: 1.0000 - dense_1_acc_5: 1.0000 - dense_1_acc_6: 1.0000 - dense_1_acc_7: 1.0000 - dense_1_acc_8: 1.0000 - dense_1_acc_9: 1.0000 - dense_1_acc_10: 1.0000 - dense_1_acc_11: 1.0000 - dense_1_acc_12: 1.0000 - dense_1_acc_13: 1.0000 - dense_1_acc_14: 1.0000 - dense_1_acc_15: 1.0000 - dense_1_acc_16: 1.0000 - dense_1_acc_17: 1.0000 - dense_1_acc_18: 1.0000 - dense_1_acc_19: 1.0000 - dense_1_acc_20: 1.0000 - dense_1_acc_21: 1.0000 - dense_1_acc_22: 1.0000 - dense_1_acc_23: 1.0000 - dense_1_acc_24: 1.0000 - dense_1_acc_25: 1.0000 - dense_1_acc_26: 1.0000 - dense_1_acc_27: 1.0000 - dense_1_acc_28: 1.0000 - dense_1_acc_29: 1.0000 - dense_1_acc_30: 0.0000e+00     \n",
      "Epoch 89/100\n",
      "60/60 [==============================] - 1s - loss: 6.5511 - dense_1_loss_1: 3.7901 - dense_1_loss_2: 1.3872 - dense_1_loss_3: 0.4088 - dense_1_loss_4: 0.1110 - dense_1_loss_5: 0.0798 - dense_1_loss_6: 0.0549 - dense_1_loss_7: 0.0447 - dense_1_loss_8: 0.0378 - dense_1_loss_9: 0.0335 - dense_1_loss_10: 0.0314 - dense_1_loss_11: 0.0292 - dense_1_loss_12: 0.0298 - dense_1_loss_13: 0.0253 - dense_1_loss_14: 0.0297 - dense_1_loss_15: 0.0308 - dense_1_loss_16: 0.0289 - dense_1_loss_17: 0.0283 - dense_1_loss_18: 0.0281 - dense_1_loss_19: 0.0285 - dense_1_loss_20: 0.0288 - dense_1_loss_21: 0.0301 - dense_1_loss_22: 0.0279 - dense_1_loss_23: 0.0265 - dense_1_loss_24: 0.0278 - dense_1_loss_25: 0.0330 - dense_1_loss_26: 0.0286 - dense_1_loss_27: 0.0338 - dense_1_loss_28: 0.0380 - dense_1_loss_29: 0.0387 - dense_1_loss_30: 0.0000e+00 - dense_1_acc_1: 0.0667 - dense_1_acc_2: 0.6167 - dense_1_acc_3: 0.9167 - dense_1_acc_4: 1.0000 - dense_1_acc_5: 1.0000 - dense_1_acc_6: 1.0000 - dense_1_acc_7: 1.0000 - dense_1_acc_8: 1.0000 - dense_1_acc_9: 1.0000 - dense_1_acc_10: 1.0000 - dense_1_acc_11: 1.0000 - dense_1_acc_12: 1.0000 - dense_1_acc_13: 1.0000 - dense_1_acc_14: 1.0000 - dense_1_acc_15: 1.0000 - dense_1_acc_16: 1.0000 - dense_1_acc_17: 1.0000 - dense_1_acc_18: 1.0000 - dense_1_acc_19: 1.0000 - dense_1_acc_20: 1.0000 - dense_1_acc_21: 1.0000 - dense_1_acc_22: 1.0000 - dense_1_acc_23: 1.0000 - dense_1_acc_24: 1.0000 - dense_1_acc_25: 1.0000 - dense_1_acc_26: 1.0000 - dense_1_acc_27: 1.0000 - dense_1_acc_28: 1.0000 - dense_1_acc_29: 1.0000 - dense_1_acc_30: 0.0000e+00     \n",
      "Epoch 90/100\n",
      "60/60 [==============================] - 1s - loss: 6.5077 - dense_1_loss_1: 3.7874 - dense_1_loss_2: 1.3757 - dense_1_loss_3: 0.4021 - dense_1_loss_4: 0.1084 - dense_1_loss_5: 0.0781 - dense_1_loss_6: 0.0535 - dense_1_loss_7: 0.0438 - dense_1_loss_8: 0.0370 - dense_1_loss_9: 0.0327 - dense_1_loss_10: 0.0307 - dense_1_loss_11: 0.0285 - dense_1_loss_12: 0.0291 - dense_1_loss_13: 0.0248 - dense_1_loss_14: 0.0290 - dense_1_loss_15: 0.0302 - dense_1_loss_16: 0.0282 - dense_1_loss_17: 0.0276 - dense_1_loss_18: 0.0274 - dense_1_loss_19: 0.0278 - dense_1_loss_20: 0.0281 - dense_1_loss_21: 0.0294 - dense_1_loss_22: 0.0273 - dense_1_loss_23: 0.0258 - dense_1_loss_24: 0.0271 - dense_1_loss_25: 0.0323 - dense_1_loss_26: 0.0278 - dense_1_loss_27: 0.0330 - dense_1_loss_28: 0.0373 - dense_1_loss_29: 0.0377 - dense_1_loss_30: 0.0000e+00 - dense_1_acc_1: 0.0667 - dense_1_acc_2: 0.6333 - dense_1_acc_3: 0.9167 - dense_1_acc_4: 1.0000 - dense_1_acc_5: 1.0000 - dense_1_acc_6: 1.0000 - dense_1_acc_7: 1.0000 - dense_1_acc_8: 1.0000 - dense_1_acc_9: 1.0000 - dense_1_acc_10: 1.0000 - dense_1_acc_11: 1.0000 - dense_1_acc_12: 1.0000 - dense_1_acc_13: 1.0000 - dense_1_acc_14: 1.0000 - dense_1_acc_15: 1.0000 - dense_1_acc_16: 1.0000 - dense_1_acc_17: 1.0000 - dense_1_acc_18: 1.0000 - dense_1_acc_19: 1.0000 - dense_1_acc_20: 1.0000 - dense_1_acc_21: 1.0000 - dense_1_acc_22: 1.0000 - dense_1_acc_23: 1.0000 - dense_1_acc_24: 1.0000 - dense_1_acc_25: 1.0000 - dense_1_acc_26: 1.0000 - dense_1_acc_27: 1.0000 - dense_1_acc_28: 1.0000 - dense_1_acc_29: 1.0000 - dense_1_acc_30: 0.0000e+00     \n",
      "Epoch 91/100\n"
     ]
    },
    {
     "name": "stdout",
     "output_type": "stream",
     "text": [
      "60/60 [==============================] - 1s - loss: 6.4658 - dense_1_loss_1: 3.7848 - dense_1_loss_2: 1.3637 - dense_1_loss_3: 0.3964 - dense_1_loss_4: 0.1061 - dense_1_loss_5: 0.0762 - dense_1_loss_6: 0.0523 - dense_1_loss_7: 0.0428 - dense_1_loss_8: 0.0361 - dense_1_loss_9: 0.0320 - dense_1_loss_10: 0.0299 - dense_1_loss_11: 0.0278 - dense_1_loss_12: 0.0284 - dense_1_loss_13: 0.0242 - dense_1_loss_14: 0.0283 - dense_1_loss_15: 0.0294 - dense_1_loss_16: 0.0276 - dense_1_loss_17: 0.0270 - dense_1_loss_18: 0.0268 - dense_1_loss_19: 0.0272 - dense_1_loss_20: 0.0274 - dense_1_loss_21: 0.0287 - dense_1_loss_22: 0.0267 - dense_1_loss_23: 0.0251 - dense_1_loss_24: 0.0265 - dense_1_loss_25: 0.0313 - dense_1_loss_26: 0.0270 - dense_1_loss_27: 0.0327 - dense_1_loss_28: 0.0366 - dense_1_loss_29: 0.0368 - dense_1_loss_30: 0.0000e+00 - dense_1_acc_1: 0.0667 - dense_1_acc_2: 0.6333 - dense_1_acc_3: 0.9167 - dense_1_acc_4: 1.0000 - dense_1_acc_5: 1.0000 - dense_1_acc_6: 1.0000 - dense_1_acc_7: 1.0000 - dense_1_acc_8: 1.0000 - dense_1_acc_9: 1.0000 - dense_1_acc_10: 1.0000 - dense_1_acc_11: 1.0000 - dense_1_acc_12: 1.0000 - dense_1_acc_13: 1.0000 - dense_1_acc_14: 1.0000 - dense_1_acc_15: 1.0000 - dense_1_acc_16: 1.0000 - dense_1_acc_17: 1.0000 - dense_1_acc_18: 1.0000 - dense_1_acc_19: 1.0000 - dense_1_acc_20: 1.0000 - dense_1_acc_21: 1.0000 - dense_1_acc_22: 1.0000 - dense_1_acc_23: 1.0000 - dense_1_acc_24: 1.0000 - dense_1_acc_25: 1.0000 - dense_1_acc_26: 1.0000 - dense_1_acc_27: 1.0000 - dense_1_acc_28: 1.0000 - dense_1_acc_29: 1.0000 - dense_1_acc_30: 0.0000e+00     \n",
      "Epoch 92/100\n",
      "60/60 [==============================] - 1s - loss: 6.4234 - dense_1_loss_1: 3.7819 - dense_1_loss_2: 1.3520 - dense_1_loss_3: 0.3897 - dense_1_loss_4: 0.1039 - dense_1_loss_5: 0.0746 - dense_1_loss_6: 0.0510 - dense_1_loss_7: 0.0419 - dense_1_loss_8: 0.0352 - dense_1_loss_9: 0.0313 - dense_1_loss_10: 0.0292 - dense_1_loss_11: 0.0272 - dense_1_loss_12: 0.0278 - dense_1_loss_13: 0.0237 - dense_1_loss_14: 0.0277 - dense_1_loss_15: 0.0287 - dense_1_loss_16: 0.0269 - dense_1_loss_17: 0.0263 - dense_1_loss_18: 0.0262 - dense_1_loss_19: 0.0266 - dense_1_loss_20: 0.0266 - dense_1_loss_21: 0.0280 - dense_1_loss_22: 0.0261 - dense_1_loss_23: 0.0244 - dense_1_loss_24: 0.0259 - dense_1_loss_25: 0.0304 - dense_1_loss_26: 0.0263 - dense_1_loss_27: 0.0322 - dense_1_loss_28: 0.0359 - dense_1_loss_29: 0.0357 - dense_1_loss_30: 0.0000e+00 - dense_1_acc_1: 0.0667 - dense_1_acc_2: 0.6333 - dense_1_acc_3: 0.9167 - dense_1_acc_4: 1.0000 - dense_1_acc_5: 1.0000 - dense_1_acc_6: 1.0000 - dense_1_acc_7: 1.0000 - dense_1_acc_8: 1.0000 - dense_1_acc_9: 1.0000 - dense_1_acc_10: 1.0000 - dense_1_acc_11: 1.0000 - dense_1_acc_12: 1.0000 - dense_1_acc_13: 1.0000 - dense_1_acc_14: 1.0000 - dense_1_acc_15: 1.0000 - dense_1_acc_16: 1.0000 - dense_1_acc_17: 1.0000 - dense_1_acc_18: 1.0000 - dense_1_acc_19: 1.0000 - dense_1_acc_20: 1.0000 - dense_1_acc_21: 1.0000 - dense_1_acc_22: 1.0000 - dense_1_acc_23: 1.0000 - dense_1_acc_24: 1.0000 - dense_1_acc_25: 1.0000 - dense_1_acc_26: 1.0000 - dense_1_acc_27: 1.0000 - dense_1_acc_28: 1.0000 - dense_1_acc_29: 1.0000 - dense_1_acc_30: 0.0000e+00     \n",
      "Epoch 93/100\n",
      "60/60 [==============================] - 1s - loss: 6.3839 - dense_1_loss_1: 3.7792 - dense_1_loss_2: 1.3408 - dense_1_loss_3: 0.3839 - dense_1_loss_4: 0.1020 - dense_1_loss_5: 0.0730 - dense_1_loss_6: 0.0499 - dense_1_loss_7: 0.0410 - dense_1_loss_8: 0.0345 - dense_1_loss_9: 0.0306 - dense_1_loss_10: 0.0285 - dense_1_loss_11: 0.0265 - dense_1_loss_12: 0.0272 - dense_1_loss_13: 0.0232 - dense_1_loss_14: 0.0271 - dense_1_loss_15: 0.0280 - dense_1_loss_16: 0.0264 - dense_1_loss_17: 0.0257 - dense_1_loss_18: 0.0256 - dense_1_loss_19: 0.0261 - dense_1_loss_20: 0.0260 - dense_1_loss_21: 0.0273 - dense_1_loss_22: 0.0255 - dense_1_loss_23: 0.0239 - dense_1_loss_24: 0.0253 - dense_1_loss_25: 0.0298 - dense_1_loss_26: 0.0258 - dense_1_loss_27: 0.0312 - dense_1_loss_28: 0.0351 - dense_1_loss_29: 0.0350 - dense_1_loss_30: 0.0000e+00 - dense_1_acc_1: 0.0667 - dense_1_acc_2: 0.6333 - dense_1_acc_3: 0.9167 - dense_1_acc_4: 1.0000 - dense_1_acc_5: 1.0000 - dense_1_acc_6: 1.0000 - dense_1_acc_7: 1.0000 - dense_1_acc_8: 1.0000 - dense_1_acc_9: 1.0000 - dense_1_acc_10: 1.0000 - dense_1_acc_11: 1.0000 - dense_1_acc_12: 1.0000 - dense_1_acc_13: 1.0000 - dense_1_acc_14: 1.0000 - dense_1_acc_15: 1.0000 - dense_1_acc_16: 1.0000 - dense_1_acc_17: 1.0000 - dense_1_acc_18: 1.0000 - dense_1_acc_19: 1.0000 - dense_1_acc_20: 1.0000 - dense_1_acc_21: 1.0000 - dense_1_acc_22: 1.0000 - dense_1_acc_23: 1.0000 - dense_1_acc_24: 1.0000 - dense_1_acc_25: 1.0000 - dense_1_acc_26: 1.0000 - dense_1_acc_27: 1.0000 - dense_1_acc_28: 1.0000 - dense_1_acc_29: 1.0000 - dense_1_acc_30: 0.0000e+00     \n",
      "Epoch 94/100\n",
      "60/60 [==============================] - 1s - loss: 6.3461 - dense_1_loss_1: 3.7768 - dense_1_loss_2: 1.3295 - dense_1_loss_3: 0.3779 - dense_1_loss_4: 0.1002 - dense_1_loss_5: 0.0715 - dense_1_loss_6: 0.0489 - dense_1_loss_7: 0.0402 - dense_1_loss_8: 0.0338 - dense_1_loss_9: 0.0299 - dense_1_loss_10: 0.0280 - dense_1_loss_11: 0.0259 - dense_1_loss_12: 0.0267 - dense_1_loss_13: 0.0227 - dense_1_loss_14: 0.0265 - dense_1_loss_15: 0.0275 - dense_1_loss_16: 0.0258 - dense_1_loss_17: 0.0252 - dense_1_loss_18: 0.0250 - dense_1_loss_19: 0.0255 - dense_1_loss_20: 0.0255 - dense_1_loss_21: 0.0268 - dense_1_loss_22: 0.0249 - dense_1_loss_23: 0.0234 - dense_1_loss_24: 0.0247 - dense_1_loss_25: 0.0294 - dense_1_loss_26: 0.0253 - dense_1_loss_27: 0.0301 - dense_1_loss_28: 0.0342 - dense_1_loss_29: 0.0344 - dense_1_loss_30: 0.0000e+00 - dense_1_acc_1: 0.0667 - dense_1_acc_2: 0.6333 - dense_1_acc_3: 0.9167 - dense_1_acc_4: 1.0000 - dense_1_acc_5: 1.0000 - dense_1_acc_6: 1.0000 - dense_1_acc_7: 1.0000 - dense_1_acc_8: 1.0000 - dense_1_acc_9: 1.0000 - dense_1_acc_10: 1.0000 - dense_1_acc_11: 1.0000 - dense_1_acc_12: 1.0000 - dense_1_acc_13: 1.0000 - dense_1_acc_14: 1.0000 - dense_1_acc_15: 1.0000 - dense_1_acc_16: 1.0000 - dense_1_acc_17: 1.0000 - dense_1_acc_18: 1.0000 - dense_1_acc_19: 1.0000 - dense_1_acc_20: 1.0000 - dense_1_acc_21: 1.0000 - dense_1_acc_22: 1.0000 - dense_1_acc_23: 1.0000 - dense_1_acc_24: 1.0000 - dense_1_acc_25: 1.0000 - dense_1_acc_26: 1.0000 - dense_1_acc_27: 1.0000 - dense_1_acc_28: 1.0000 - dense_1_acc_29: 1.0000 - dense_1_acc_30: 0.0000e+00     \n",
      "Epoch 95/100\n",
      "60/60 [==============================] - 1s - loss: 6.3087 - dense_1_loss_1: 3.7740 - dense_1_loss_2: 1.3187 - dense_1_loss_3: 0.3720 - dense_1_loss_4: 0.0983 - dense_1_loss_5: 0.0701 - dense_1_loss_6: 0.0477 - dense_1_loss_7: 0.0393 - dense_1_loss_8: 0.0330 - dense_1_loss_9: 0.0292 - dense_1_loss_10: 0.0273 - dense_1_loss_11: 0.0253 - dense_1_loss_12: 0.0262 - dense_1_loss_13: 0.0222 - dense_1_loss_14: 0.0260 - dense_1_loss_15: 0.0269 - dense_1_loss_16: 0.0253 - dense_1_loss_17: 0.0246 - dense_1_loss_18: 0.0245 - dense_1_loss_19: 0.0249 - dense_1_loss_20: 0.0250 - dense_1_loss_21: 0.0262 - dense_1_loss_22: 0.0243 - dense_1_loss_23: 0.0229 - dense_1_loss_24: 0.0242 - dense_1_loss_25: 0.0287 - dense_1_loss_26: 0.0248 - dense_1_loss_27: 0.0297 - dense_1_loss_28: 0.0336 - dense_1_loss_29: 0.0337 - dense_1_loss_30: 0.0000e+00 - dense_1_acc_1: 0.0667 - dense_1_acc_2: 0.6500 - dense_1_acc_3: 0.9167 - dense_1_acc_4: 1.0000 - dense_1_acc_5: 1.0000 - dense_1_acc_6: 1.0000 - dense_1_acc_7: 1.0000 - dense_1_acc_8: 1.0000 - dense_1_acc_9: 1.0000 - dense_1_acc_10: 1.0000 - dense_1_acc_11: 1.0000 - dense_1_acc_12: 1.0000 - dense_1_acc_13: 1.0000 - dense_1_acc_14: 1.0000 - dense_1_acc_15: 1.0000 - dense_1_acc_16: 1.0000 - dense_1_acc_17: 1.0000 - dense_1_acc_18: 1.0000 - dense_1_acc_19: 1.0000 - dense_1_acc_20: 1.0000 - dense_1_acc_21: 1.0000 - dense_1_acc_22: 1.0000 - dense_1_acc_23: 1.0000 - dense_1_acc_24: 1.0000 - dense_1_acc_25: 1.0000 - dense_1_acc_26: 1.0000 - dense_1_acc_27: 1.0000 - dense_1_acc_28: 1.0000 - dense_1_acc_29: 1.0000 - dense_1_acc_30: 0.0000e+00     \n",
      "Epoch 96/100\n",
      "60/60 [==============================] - 1s - loss: 6.2720 - dense_1_loss_1: 3.7714 - dense_1_loss_2: 1.3077 - dense_1_loss_3: 0.3666 - dense_1_loss_4: 0.0964 - dense_1_loss_5: 0.0688 - dense_1_loss_6: 0.0468 - dense_1_loss_7: 0.0385 - dense_1_loss_8: 0.0323 - dense_1_loss_9: 0.0286 - dense_1_loss_10: 0.0267 - dense_1_loss_11: 0.0248 - dense_1_loss_12: 0.0256 - dense_1_loss_13: 0.0217 - dense_1_loss_14: 0.0256 - dense_1_loss_15: 0.0263 - dense_1_loss_16: 0.0247 - dense_1_loss_17: 0.0241 - dense_1_loss_18: 0.0240 - dense_1_loss_19: 0.0243 - dense_1_loss_20: 0.0244 - dense_1_loss_21: 0.0256 - dense_1_loss_22: 0.0238 - dense_1_loss_23: 0.0224 - dense_1_loss_24: 0.0237 - dense_1_loss_25: 0.0277 - dense_1_loss_26: 0.0241 - dense_1_loss_27: 0.0297 - dense_1_loss_28: 0.0330 - dense_1_loss_29: 0.0327 - dense_1_loss_30: 0.0000e+00 - dense_1_acc_1: 0.0667 - dense_1_acc_2: 0.6500 - dense_1_acc_3: 0.9167 - dense_1_acc_4: 1.0000 - dense_1_acc_5: 1.0000 - dense_1_acc_6: 1.0000 - dense_1_acc_7: 1.0000 - dense_1_acc_8: 1.0000 - dense_1_acc_9: 1.0000 - dense_1_acc_10: 1.0000 - dense_1_acc_11: 1.0000 - dense_1_acc_12: 1.0000 - dense_1_acc_13: 1.0000 - dense_1_acc_14: 1.0000 - dense_1_acc_15: 1.0000 - dense_1_acc_16: 1.0000 - dense_1_acc_17: 1.0000 - dense_1_acc_18: 1.0000 - dense_1_acc_19: 1.0000 - dense_1_acc_20: 1.0000 - dense_1_acc_21: 1.0000 - dense_1_acc_22: 1.0000 - dense_1_acc_23: 1.0000 - dense_1_acc_24: 1.0000 - dense_1_acc_25: 1.0000 - dense_1_acc_26: 1.0000 - dense_1_acc_27: 1.0000 - dense_1_acc_28: 1.0000 - dense_1_acc_29: 1.0000 - dense_1_acc_30: 0.0000e+00     \n",
      "Epoch 97/100\n",
      "60/60 [==============================] - 1s - loss: 6.2360 - dense_1_loss_1: 3.7688 - dense_1_loss_2: 1.2966 - dense_1_loss_3: 0.3613 - dense_1_loss_4: 0.0946 - dense_1_loss_5: 0.0672 - dense_1_loss_6: 0.0460 - dense_1_loss_7: 0.0377 - dense_1_loss_8: 0.0316 - dense_1_loss_9: 0.0281 - dense_1_loss_10: 0.0261 - dense_1_loss_11: 0.0243 - dense_1_loss_12: 0.0251 - dense_1_loss_13: 0.0213 - dense_1_loss_14: 0.0250 - dense_1_loss_15: 0.0257 - dense_1_loss_16: 0.0242 - dense_1_loss_17: 0.0236 - dense_1_loss_18: 0.0235 - dense_1_loss_19: 0.0238 - dense_1_loss_20: 0.0239 - dense_1_loss_21: 0.0250 - dense_1_loss_22: 0.0233 - dense_1_loss_23: 0.0219 - dense_1_loss_24: 0.0232 - dense_1_loss_25: 0.0270 - dense_1_loss_26: 0.0237 - dense_1_loss_27: 0.0291 - dense_1_loss_28: 0.0323 - dense_1_loss_29: 0.0321 - dense_1_loss_30: 0.0000e+00 - dense_1_acc_1: 0.0667 - dense_1_acc_2: 0.6500 - dense_1_acc_3: 0.9167 - dense_1_acc_4: 1.0000 - dense_1_acc_5: 1.0000 - dense_1_acc_6: 1.0000 - dense_1_acc_7: 1.0000 - dense_1_acc_8: 1.0000 - dense_1_acc_9: 1.0000 - dense_1_acc_10: 1.0000 - dense_1_acc_11: 1.0000 - dense_1_acc_12: 1.0000 - dense_1_acc_13: 1.0000 - dense_1_acc_14: 1.0000 - dense_1_acc_15: 1.0000 - dense_1_acc_16: 1.0000 - dense_1_acc_17: 1.0000 - dense_1_acc_18: 1.0000 - dense_1_acc_19: 1.0000 - dense_1_acc_20: 1.0000 - dense_1_acc_21: 1.0000 - dense_1_acc_22: 1.0000 - dense_1_acc_23: 1.0000 - dense_1_acc_24: 1.0000 - dense_1_acc_25: 1.0000 - dense_1_acc_26: 1.0000 - dense_1_acc_27: 1.0000 - dense_1_acc_28: 1.0000 - dense_1_acc_29: 1.0000 - dense_1_acc_30: 0.0000e+00     \n",
      "Epoch 98/100\n",
      "60/60 [==============================] - 1s - loss: 6.2029 - dense_1_loss_1: 3.7661 - dense_1_loss_2: 1.2870 - dense_1_loss_3: 0.3564 - dense_1_loss_4: 0.0929 - dense_1_loss_5: 0.0659 - dense_1_loss_6: 0.0452 - dense_1_loss_7: 0.0369 - dense_1_loss_8: 0.0310 - dense_1_loss_9: 0.0275 - dense_1_loss_10: 0.0256 - dense_1_loss_11: 0.0238 - dense_1_loss_12: 0.0247 - dense_1_loss_13: 0.0208 - dense_1_loss_14: 0.0245 - dense_1_loss_15: 0.0252 - dense_1_loss_16: 0.0238 - dense_1_loss_17: 0.0231 - dense_1_loss_18: 0.0230 - dense_1_loss_19: 0.0234 - dense_1_loss_20: 0.0234 - dense_1_loss_21: 0.0245 - dense_1_loss_22: 0.0229 - dense_1_loss_23: 0.0214 - dense_1_loss_24: 0.0227 - dense_1_loss_25: 0.0266 - dense_1_loss_26: 0.0234 - dense_1_loss_27: 0.0281 - dense_1_loss_28: 0.0315 - dense_1_loss_29: 0.0316 - dense_1_loss_30: 0.0000e+00 - dense_1_acc_1: 0.0667 - dense_1_acc_2: 0.6500 - dense_1_acc_3: 0.9167 - dense_1_acc_4: 1.0000 - dense_1_acc_5: 1.0000 - dense_1_acc_6: 1.0000 - dense_1_acc_7: 1.0000 - dense_1_acc_8: 1.0000 - dense_1_acc_9: 1.0000 - dense_1_acc_10: 1.0000 - dense_1_acc_11: 1.0000 - dense_1_acc_12: 1.0000 - dense_1_acc_13: 1.0000 - dense_1_acc_14: 1.0000 - dense_1_acc_15: 1.0000 - dense_1_acc_16: 1.0000 - dense_1_acc_17: 1.0000 - dense_1_acc_18: 1.0000 - dense_1_acc_19: 1.0000 - dense_1_acc_20: 1.0000 - dense_1_acc_21: 1.0000 - dense_1_acc_22: 1.0000 - dense_1_acc_23: 1.0000 - dense_1_acc_24: 1.0000 - dense_1_acc_25: 1.0000 - dense_1_acc_26: 1.0000 - dense_1_acc_27: 1.0000 - dense_1_acc_28: 1.0000 - dense_1_acc_29: 1.0000 - dense_1_acc_30: 0.0000e+00     \n",
      "Epoch 99/100\n",
      "60/60 [==============================] - 1s - loss: 6.1696 - dense_1_loss_1: 3.7634 - dense_1_loss_2: 1.2765 - dense_1_loss_3: 0.3517 - dense_1_loss_4: 0.0914 - dense_1_loss_5: 0.0646 - dense_1_loss_6: 0.0443 - dense_1_loss_7: 0.0362 - dense_1_loss_8: 0.0304 - dense_1_loss_9: 0.0269 - dense_1_loss_10: 0.0250 - dense_1_loss_11: 0.0232 - dense_1_loss_12: 0.0242 - dense_1_loss_13: 0.0204 - dense_1_loss_14: 0.0239 - dense_1_loss_15: 0.0248 - dense_1_loss_16: 0.0233 - dense_1_loss_17: 0.0227 - dense_1_loss_18: 0.0226 - dense_1_loss_19: 0.0229 - dense_1_loss_20: 0.0229 - dense_1_loss_21: 0.0240 - dense_1_loss_22: 0.0224 - dense_1_loss_23: 0.0210 - dense_1_loss_24: 0.0223 - dense_1_loss_25: 0.0261 - dense_1_loss_26: 0.0231 - dense_1_loss_27: 0.0272 - dense_1_loss_28: 0.0309 - dense_1_loss_29: 0.0311 - dense_1_loss_30: 0.0000e+00 - dense_1_acc_1: 0.0667 - dense_1_acc_2: 0.6667 - dense_1_acc_3: 0.9333 - dense_1_acc_4: 1.0000 - dense_1_acc_5: 1.0000 - dense_1_acc_6: 1.0000 - dense_1_acc_7: 1.0000 - dense_1_acc_8: 1.0000 - dense_1_acc_9: 1.0000 - dense_1_acc_10: 1.0000 - dense_1_acc_11: 1.0000 - dense_1_acc_12: 1.0000 - dense_1_acc_13: 1.0000 - dense_1_acc_14: 1.0000 - dense_1_acc_15: 1.0000 - dense_1_acc_16: 1.0000 - dense_1_acc_17: 1.0000 - dense_1_acc_18: 1.0000 - dense_1_acc_19: 1.0000 - dense_1_acc_20: 1.0000 - dense_1_acc_21: 1.0000 - dense_1_acc_22: 1.0000 - dense_1_acc_23: 1.0000 - dense_1_acc_24: 1.0000 - dense_1_acc_25: 1.0000 - dense_1_acc_26: 1.0000 - dense_1_acc_27: 1.0000 - dense_1_acc_28: 1.0000 - dense_1_acc_29: 1.0000 - dense_1_acc_30: 0.0000e+00     \n",
      "Epoch 100/100\n",
      "60/60 [==============================] - 1s - loss: 6.1366 - dense_1_loss_1: 3.7609 - dense_1_loss_2: 1.2666 - dense_1_loss_3: 0.3463 - dense_1_loss_4: 0.0899 - dense_1_loss_5: 0.0634 - dense_1_loss_6: 0.0435 - dense_1_loss_7: 0.0354 - dense_1_loss_8: 0.0298 - dense_1_loss_9: 0.0264 - dense_1_loss_10: 0.0245 - dense_1_loss_11: 0.0227 - dense_1_loss_12: 0.0237 - dense_1_loss_13: 0.0200 - dense_1_loss_14: 0.0234 - dense_1_loss_15: 0.0243 - dense_1_loss_16: 0.0229 - dense_1_loss_17: 0.0222 - dense_1_loss_18: 0.0221 - dense_1_loss_19: 0.0224 - dense_1_loss_20: 0.0225 - dense_1_loss_21: 0.0236 - dense_1_loss_22: 0.0219 - dense_1_loss_23: 0.0206 - dense_1_loss_24: 0.0219 - dense_1_loss_25: 0.0257 - dense_1_loss_26: 0.0225 - dense_1_loss_27: 0.0267 - dense_1_loss_28: 0.0303 - dense_1_loss_29: 0.0305 - dense_1_loss_30: 0.0000e+00 - dense_1_acc_1: 0.0667 - dense_1_acc_2: 0.6667 - dense_1_acc_3: 0.9333 - dense_1_acc_4: 1.0000 - dense_1_acc_5: 1.0000 - dense_1_acc_6: 1.0000 - dense_1_acc_7: 1.0000 - dense_1_acc_8: 1.0000 - dense_1_acc_9: 1.0000 - dense_1_acc_10: 1.0000 - dense_1_acc_11: 1.0000 - dense_1_acc_12: 1.0000 - dense_1_acc_13: 1.0000 - dense_1_acc_14: 1.0000 - dense_1_acc_15: 1.0000 - dense_1_acc_16: 1.0000 - dense_1_acc_17: 1.0000 - dense_1_acc_18: 1.0000 - dense_1_acc_19: 1.0000 - dense_1_acc_20: 1.0000 - dense_1_acc_21: 1.0000 - dense_1_acc_22: 1.0000 - dense_1_acc_23: 1.0000 - dense_1_acc_24: 1.0000 - dense_1_acc_25: 1.0000 - dense_1_acc_26: 1.0000 - dense_1_acc_27: 1.0000 - dense_1_acc_28: 1.0000 - dense_1_acc_29: 1.0000 - dense_1_acc_30: 0.0000e+00     \n"
     ]
    },
    {
     "data": {
      "text/plain": [
       "<keras.callbacks.History at 0x7f713a34be80>"
      ]
     },
     "execution_count": 12,
     "metadata": {},
     "output_type": "execute_result"
    }
   ],
   "source": [
    "model.fit([X, a0, c0], list(Y), epochs=100)"
   ]
  },
  {
   "cell_type": "markdown",
   "metadata": {},
   "source": [
    "You should see the model loss going down. Now that you have trained a model, lets go on the the final section to implement an inference algorithm, and generate some music! "
   ]
  },
  {
   "cell_type": "markdown",
   "metadata": {},
   "source": [
    "## 3 - Generating music\n",
    "\n",
    "You now have a trained model which has learned the patterns of the jazz soloist. Lets now use this model to synthesize new music. \n",
    "\n",
    "#### 3.1 - Predicting & Sampling\n",
    "\n",
    "<img src=\"images/music_gen.png\" style=\"width:600;height:400px;\">\n",
    "\n",
    "At each step of sampling, you will take as input the activation `a` and cell state `c` from the previous state of the LSTM, forward propagate by one step, and get a new output activation as well as cell state. The new activation `a` can then be used to generate the output, using `densor` as before. \n",
    "\n",
    "To start off the model, we will initialize `x0` as well as the LSTM activation and and cell value `a0` and `c0` to be zeros. \n",
    "\n",
    "\n",
    "<!-- \n",
    "You are about to build a function that will do this inference for you. Your function takes in your previous model and the number of time steps `Ty` that you want to sample. It will return a keras model that would be able to generate sequences for you. Furthermore, the function takes in a dense layer of `78` units and the number of activations. \n",
    "!--> \n",
    "\n",
    "\n",
    "**Exercise:** Implement the function below to sample a sequence of musical values. Here are some of the key steps you'll need to implement inside the for-loop that generates the $T_y$ output characters: \n",
    "\n",
    "Step 2.A: Use `LSTM_Cell`, which inputs the previous step's `c` and `a` to generate the current step's `c` and `a`. \n",
    "\n",
    "Step 2.B: Use `densor` (defined previously) to compute a softmax on `a` to get the output for the current step. \n",
    "\n",
    "Step 2.C: Save the output you have just generated by appending it to `outputs`.\n",
    "\n",
    "Step 2.D: Sample x to the be \"out\"'s one-hot version (the prediction) so that you can pass it to the next LSTM's step.  We have already provided this line of code, which uses a [Lambda](https://keras.io/layers/core/#lambda) function. \n",
    "```python\n",
    "x = Lambda(one_hot)(out) \n",
    "```\n",
    "[Minor technical note: Rather than sampling a value at random according to the probabilities in `out`, this line of code actually chooses the single most likely note at each step using an argmax.]\n"
   ]
  },
  {
   "cell_type": "code",
   "execution_count": 15,
   "metadata": {
    "collapsed": true
   },
   "outputs": [],
   "source": [
    "# GRADED FUNCTION: music_inference_model\n",
    "\n",
    "def music_inference_model(LSTM_cell, densor, n_values = 78, n_a = 64, Ty = 100):\n",
    "    \"\"\"\n",
    "    Uses the trained \"LSTM_cell\" and \"densor\" from model() to generate a sequence of values.\n",
    "    \n",
    "    Arguments:\n",
    "    LSTM_cell -- the trained \"LSTM_cell\" from model(), Keras layer object\n",
    "    densor -- the trained \"densor\" from model(), Keras layer object\n",
    "    n_values -- integer, umber of unique values\n",
    "    n_a -- number of units in the LSTM_cell\n",
    "    Ty -- integer, number of time steps to generate\n",
    "    \n",
    "    Returns:\n",
    "    inference_model -- Keras model instance\n",
    "    \"\"\"\n",
    "    \n",
    "    # Define the input of your model with a shape \n",
    "    x0 = Input(shape=(1, n_values))\n",
    "    \n",
    "    # Define s0, initial hidden state for the decoder LSTM\n",
    "    a0 = Input(shape=(n_a,), name='a0')\n",
    "    c0 = Input(shape=(n_a,), name='c0')\n",
    "    a = a0\n",
    "    c = c0\n",
    "    x = x0\n",
    "\n",
    "    ### START CODE HERE ###\n",
    "    # Step 1: Create an empty list of \"outputs\" to later store your predicted values (≈1 line)\n",
    "    outputs = []\n",
    "    \n",
    "    # Step 2: Loop over Ty and generate a value at every time step\n",
    "    for t in range(Ty):\n",
    "        \n",
    "        # Step 2.A: Perform one step of LSTM_cell (≈1 line)\n",
    "        a, _, c = LSTM_cell(x, initial_state=[a, c])\n",
    "        \n",
    "        # Step 2.B: Apply Dense layer to the hidden state output of the LSTM_cell (≈1 line)\n",
    "        out = densor(a)\n",
    "\n",
    "        # Step 2.C: Append the prediction \"out\" to \"outputs\". out.shape = (None, 78) (≈1 line)\n",
    "        outputs.append(out)\n",
    "        \n",
    "        # Step 2.D: Select the next value according to \"out\", and set \"x\" to be the one-hot representation of the\n",
    "        #           selected value, which will be passed as the input to LSTM_cell on the next step. We have provided \n",
    "        #           the line of code you need to do this. \n",
    "        x = Lambda(one_hot)(out)\n",
    "        \n",
    "    # Step 3: Create model instance with the correct \"inputs\" and \"outputs\" (≈1 line)\n",
    "    inference_model = Model(inputs=[x0,a0,c0], outputs=outputs)\n",
    "    \n",
    "    ### END CODE HERE ###\n",
    "    \n",
    "    return inference_model"
   ]
  },
  {
   "cell_type": "markdown",
   "metadata": {},
   "source": [
    "Run the cell below to define your inference model. This model is hard coded to generate 50 values."
   ]
  },
  {
   "cell_type": "code",
   "execution_count": 16,
   "metadata": {
    "collapsed": true
   },
   "outputs": [],
   "source": [
    "inference_model = music_inference_model(LSTM_cell, densor, n_values = 78, n_a = 64, Ty = 50)"
   ]
  },
  {
   "cell_type": "markdown",
   "metadata": {},
   "source": [
    "Finally, this creates the zero-valued vectors you will use to initialize `x` and the LSTM state variables `a` and `c`. "
   ]
  },
  {
   "cell_type": "code",
   "execution_count": 17,
   "metadata": {
    "collapsed": true
   },
   "outputs": [],
   "source": [
    "x_initializer = np.zeros((1, 1, 78))\n",
    "a_initializer = np.zeros((1, n_a))\n",
    "c_initializer = np.zeros((1, n_a))"
   ]
  },
  {
   "cell_type": "markdown",
   "metadata": {},
   "source": [
    "**Exercise**: Implement `predict_and_sample()`. This function takes many arguments including the inputs [x_initializer, a_initializer, c_initializer]. In order to predict the output corresponding to this input, you will need to carry-out 3 steps:\n",
    "1. Use your inference model to predict an output given your set of inputs. The output `pred` should be a list of length $T_y$ where each element is a numpy-array of shape (1, n_values).\n",
    "2. Convert `pred` into a numpy array of $T_y$ indices. Each index corresponds is computed by taking the `argmax` of an element of the `pred` list. [Hint](https://docs.scipy.org/doc/numpy/reference/generated/numpy.argmax.html).\n",
    "3. Convert the indices into their one-hot vector representations. [Hint](https://keras.io/utils/#to_categorical)."
   ]
  },
  {
   "cell_type": "code",
   "execution_count": 45,
   "metadata": {
    "collapsed": true
   },
   "outputs": [],
   "source": [
    "# GRADED FUNCTION: predict_and_sample\n",
    "\n",
    "def predict_and_sample(inference_model, x_initializer = x_initializer, a_initializer = a_initializer, \n",
    "                       c_initializer = c_initializer):\n",
    "    \"\"\"\n",
    "    Predicts the next value of values using the inference model.\n",
    "    \n",
    "    Arguments:\n",
    "    inference_model -- Keras model instance for inference time\n",
    "    x_initializer -- numpy array of shape (1, 1, 78), one-hot vector initializing the values generation\n",
    "    a_initializer -- numpy array of shape (1, n_a), initializing the hidden state of the LSTM_cell\n",
    "    c_initializer -- numpy array of shape (1, n_a), initializing the cell state of the LSTM_cel\n",
    "    \n",
    "    Returns:\n",
    "    results -- numpy-array of shape (Ty, 78), matrix of one-hot vectors representing the values generated\n",
    "    indices -- numpy-array of shape (Ty, 1), matrix of indices representing the values generated\n",
    "    \"\"\"\n",
    "    \n",
    "    ### START CODE HERE ###\n",
    "    # Step 1: Use your inference model to predict an output sequence given x_initializer, a_initializer and c_initializer.\n",
    "    pred = inference_model.predict([x_initializer,a_initializer,c_initializer])\n",
    "    # Step 2: Convert \"pred\" into an np.array() of indices with the maximum probabilities\n",
    "    indices = np.argmax(pred,axis=2)\n",
    "    # Step 3: Convert indices to one-hot vectors, the shape of the results should be (1, )\n",
    "    results = to_categorical(indices)\n",
    "    ### END CODE HERE ###\n",
    "    \n",
    "    return results, indices"
   ]
  },
  {
   "cell_type": "code",
   "execution_count": 46,
   "metadata": {},
   "outputs": [
    {
     "name": "stdout",
     "output_type": "stream",
     "text": [
      "np.argmax(results[12]) = 15\n",
      "np.argmax(results[17]) = 74\n",
      "list(indices[12:18]) = [array([15]), array([45]), array([9]), array([13]), array([28]), array([74])]\n"
     ]
    }
   ],
   "source": [
    "results, indices = predict_and_sample(inference_model, x_initializer, a_initializer, c_initializer)\n",
    "print(\"np.argmax(results[12]) =\", np.argmax(results[12]))\n",
    "print(\"np.argmax(results[17]) =\", np.argmax(results[17]))\n",
    "print(\"list(indices[12:18]) =\", list(indices[12:18]))"
   ]
  },
  {
   "cell_type": "markdown",
   "metadata": {},
   "source": [
    "**Expected Output**: Your results may differ because Keras' results are not completely predictable. However, if you have trained your LSTM_cell with model.fit() for exactly 100 epochs as described above, you should very likely observe a sequence of indices that are not all identical. Moreover, you should observe that: np.argmax(results[12]) is the first element of list(indices[12:18]) and np.argmax(results[17]) is the last element of list(indices[12:18]). \n",
    "\n",
    "<table>\n",
    "    <tr>\n",
    "        <td>\n",
    "            **np.argmax(results[12])** =\n",
    "        </td>\n",
    "        <td>\n",
    "        1\n",
    "        </td>\n",
    "    </tr>\n",
    "    <tr>\n",
    "        <td>\n",
    "            **np.argmax(results[12])** =\n",
    "        </td>\n",
    "        <td>\n",
    "        42\n",
    "        </td>\n",
    "    </tr>\n",
    "    <tr>\n",
    "        <td>\n",
    "            **list(indices[12:18])** =\n",
    "        </td>\n",
    "        <td>\n",
    "            [array([1]), array([42]), array([54]), array([17]), array([1]), array([42])]\n",
    "        </td>\n",
    "    </tr>\n",
    "</table>"
   ]
  },
  {
   "cell_type": "markdown",
   "metadata": {},
   "source": [
    "#### 3.3 - Generate music \n",
    "\n",
    "Finally, you are ready to generate music. Your RNN generates a sequence of values. The following code generates music by first calling your `predict_and_sample()` function. These values are then post-processed into musical chords (meaning that multiple values or notes can be played at the same time). \n",
    "\n",
    "Most computational music algorithms use some post-processing because it is difficult to generate music that sounds good without such post-processing. The post-processing does things such as clean up the generated audio by making sure the same sound is not repeated too many times, that two successive notes are not too far from each other in pitch, and so on. One could argue that a lot of these post-processing steps are hacks; also, a lot the music generation literature has also focused on hand-crafting post-processors, and a lot of the output quality depends on the quality of the post-processing and not just the quality of the RNN. But this post-processing does make a huge difference, so lets use it in our implementation as well. \n",
    "\n",
    "Lets make some music! "
   ]
  },
  {
   "cell_type": "markdown",
   "metadata": {},
   "source": [
    "Run the following cell to generate music and record it into your `out_stream`. This can take a couple of minutes."
   ]
  },
  {
   "cell_type": "code",
   "execution_count": null,
   "metadata": {
    "collapsed": true,
    "scrolled": false
   },
   "outputs": [],
   "source": [
    "out_stream = generate_music(inference_model)"
   ]
  },
  {
   "cell_type": "markdown",
   "metadata": {},
   "source": [
    "To listen to your music, click File->Open... Then go to \"output/\" and download \"my_music.midi\". Either play it on your computer with an application that can read midi files if you have one, or use one of the free online \"MIDI to mp3\" conversion tools to convert this to mp3.  \n",
    "\n",
    "As reference, here also is a 30sec audio clip we generated using this algorithm. "
   ]
  },
  {
   "cell_type": "code",
   "execution_count": null,
   "metadata": {
    "collapsed": true
   },
   "outputs": [],
   "source": [
    "IPython.display.Audio('./data/30s_trained_model.mp3')"
   ]
  },
  {
   "cell_type": "markdown",
   "metadata": {},
   "source": [
    "### Congratulations!\n",
    "\n",
    "You have come to the end of the notebook. \n",
    "\n",
    "<font color=\"blue\">\n",
    "Here's what you should remember:\n",
    "- A sequence model can be used to generate musical values, which are then post-processed into midi music. \n",
    "- Fairly similar models can be used to generate dinosaur names or to generate music, with the major difference being the input fed to the model.  \n",
    "- In Keras, sequence generation involves defining layers with shared weights, which are then repeated for the different time steps $1, \\ldots, T_x$. "
   ]
  },
  {
   "cell_type": "markdown",
   "metadata": {},
   "source": [
    "Congratulations on completing this assignment and generating a jazz solo! "
   ]
  },
  {
   "cell_type": "markdown",
   "metadata": {},
   "source": [
    "**References**\n",
    "\n",
    "The ideas presented in this notebook came primarily from three computational music papers cited below. The implementation here also took significant inspiration and used many components from Ji-Sung Kim's github repository.\n",
    "\n",
    "- Ji-Sung Kim, 2016, [deepjazz](https://github.com/jisungk/deepjazz)\n",
    "- Jon Gillick, Kevin Tang and Robert Keller, 2009. [Learning Jazz Grammars](http://ai.stanford.edu/~kdtang/papers/smc09-jazzgrammar.pdf)\n",
    "- Robert Keller and David Morrison, 2007, [A Grammatical Approach to Automatic Improvisation](http://smc07.uoa.gr/SMC07%20Proceedings/SMC07%20Paper%2055.pdf)\n",
    "- François Pachet, 1999, [Surprising Harmonies](http://citeseerx.ist.psu.edu/viewdoc/download?doi=10.1.1.5.7473&rep=rep1&type=pdf)\n",
    "\n",
    "We're also grateful to François Germain for valuable feedback."
   ]
  }
 ],
 "metadata": {
  "coursera": {
   "course_slug": "nlp-sequence-models",
   "graded_item_id": "EG0F7",
   "launcher_item_id": "cxJXc"
  },
  "kernelspec": {
   "display_name": "Python 3",
   "language": "python",
   "name": "python3"
  },
  "language_info": {
   "codemirror_mode": {
    "name": "ipython",
    "version": 3
   },
   "file_extension": ".py",
   "mimetype": "text/x-python",
   "name": "python",
   "nbconvert_exporter": "python",
   "pygments_lexer": "ipython3",
   "version": "3.6.0"
  }
 },
 "nbformat": 4,
 "nbformat_minor": 2
}
